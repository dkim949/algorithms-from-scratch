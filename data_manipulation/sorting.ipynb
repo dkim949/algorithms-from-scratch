{
 "cells": [
  {
   "cell_type": "markdown",
   "id": "c88e8d87",
   "metadata": {},
   "source": [
    "# 정렬 알고리즘\n",
    "\n",
    "배경컴퓨터 과학의 기본적인 알고리즘\n",
    "- 데이터를 특정 순서로 재배열하는 과정\n",
    "- 검색, 데이터베이스, 그래픽 등 다양한 분야에서 활용\n",
    "- 효율적인 데이터 처리의 기반"
   ]
  },
  {
   "cell_type": "code",
   "execution_count": 3,
   "id": "533488da",
   "metadata": {},
   "outputs": [],
   "source": [
    "import time\n",
    "import sys"
   ]
  },
  {
   "cell_type": "markdown",
   "id": "3b4a6b4b",
   "metadata": {},
   "source": [
    "## 버블 정렬 (Bubble Sort)\n",
    "- 원리: 인접한 두 원소를 비교해 필요시 위치 교환, 큰 값이 점차 뒤로 \"버블링\"됨\n",
    "- 과정: 배열을 순회하며 인접 요소 비교 → 잘못된 순서면 교환 → 전체 배열에 대해 반복\n",
    "- 시간복잡도: O(n²) - 모든 경우 동일\n",
    "- 공간복잡도: O(1) - 추가 메모리 거의 필요 없음\n",
    "- 특징: 가장 단순하지만 대용량 데이터에는 비효율적"
   ]
  },
  {
   "cell_type": "code",
   "execution_count": 5,
   "id": "1404a9f1",
   "metadata": {},
   "outputs": [],
   "source": [
    "def bubble_sort(arr):\n",
    "    n = len(arr)\n",
    "    comparisons = 0  # 비교 횟수 카운터\n",
    "    swaps = 0        # 교환 횟수 카운터\n",
    "    \n",
    "    for i in range(n):\n",
    "        for j in range(0, n-i-1):\n",
    "            comparisons += 1  # 비교 연산 카운트\n",
    "            if arr[j] > arr[j+1]:\n",
    "                arr[j], arr[j+1] = arr[j+1], arr[j]\n",
    "                swaps += 1    # 교환 연산 카운트\n",
    "    \n",
    "    return arr, comparisons, swaps  # 세 개의 값을 반환하도록 수정"
   ]
  },
  {
   "cell_type": "code",
   "execution_count": 6,
   "id": "ff48f411",
   "metadata": {},
   "outputs": [
    {
     "name": "stdout",
     "output_type": "stream",
     "text": [
      "정렬된 배열: [11, 12, 22, 25, 34, 64, 90]\n",
      "실행 시간: 0.000042초\n",
      "비교 연산 횟수: 21회\n",
      "교환 연산 횟수: 14회\n",
      "입력 크기(n): 7\n",
      "이론적 시간 복잡도: O(n²) = O(7²) = O(49)\n",
      "원본 배열 메모리 사용량: 112 bytes\n",
      "공간 복잡도: O(1) - 추가 메모리 사용 없음\n"
     ]
    }
   ],
   "source": [
    "# 테스트\n",
    "arr = [64, 34, 25, 12, 22, 11, 90]\n",
    "\n",
    "# 메모리 사용량 측정 (대략적인 방법)\n",
    "original_memory = sys.getsizeof(arr)\n",
    "\n",
    "# 실행 시간 측정\n",
    "start_time = time.time()\n",
    "sorted_arr, comparisons, swaps = bubble_sort(arr.copy())\n",
    "end_time = time.time()\n",
    "\n",
    "print(\"정렬된 배열:\", sorted_arr)\n",
    "print(f\"실행 시간: {(end_time - start_time):.6f}초\")\n",
    "print(f\"비교 연산 횟수: {comparisons}회\")\n",
    "print(f\"교환 연산 횟수: {swaps}회\")\n",
    "print(f\"입력 크기(n): {len(arr)}\")\n",
    "print(f\"이론적 시간 복잡도: O(n²) = O({len(arr)}²) = O({len(arr)**2})\")\n",
    "print(f\"원본 배열 메모리 사용량: {original_memory} bytes\")\n",
    "print(f\"공간 복잡도: O(1) - 추가 메모리 사용 없음\")"
   ]
  },
  {
   "cell_type": "markdown",
   "id": "56df2c82",
   "metadata": {},
   "source": [
    "# 선택 정렬 (Selection Sort)\n",
    "- 원리: 정렬되지 않은 부분에서 최솟값을 찾아 맨 앞으로 이동\n",
    "- 과정: 최솟값 찾기 → 맨 앞 원소와 교환 → 정렬 범위를 한 칸씩 줄여가며 반복\n",
    "- 시간복잡도: O(n²) - 모든 경우 동일\n",
    "- 공간복잡도: O(1) - 제자리 정렬\n",
    "- 특징: 교환 횟수가 적음, 구현 간단"
   ]
  },
  {
   "cell_type": "code",
   "execution_count": 7,
   "id": "54d92790",
   "metadata": {},
   "outputs": [],
   "source": [
    "def selection_sort(arr):\n",
    "    n = len(arr)\n",
    "    comparisons = 0\n",
    "    swaps = 0\n",
    "    \n",
    "    for i in range(n):\n",
    "        min_idx = i\n",
    "        for j in range(i+1, n):\n",
    "            comparisons += 1\n",
    "            if arr[j] < arr[min_idx]:\n",
    "                min_idx = j\n",
    "        \n",
    "        if min_idx != i:\n",
    "            arr[i], arr[min_idx] = arr[min_idx], arr[i]\n",
    "            swaps += 1\n",
    "            \n",
    "    return arr, comparisons, swaps"
   ]
  },
  {
   "cell_type": "code",
   "execution_count": 8,
   "id": "81cb2036",
   "metadata": {},
   "outputs": [
    {
     "name": "stdout",
     "output_type": "stream",
     "text": [
      "정렬된 배열: [11, 12, 22, 25, 34, 64, 90]\n",
      "실행 시간: 0.000026초\n",
      "비교 연산 횟수: 21회\n",
      "교환 연산 횟수: 4회\n",
      "입력 크기(n): 7\n",
      "이론적 시간 복잡도: O(n²) = O(7²) = O(49)\n",
      "원본 배열 메모리 사용량: 112 bytes\n",
      "공간 복잡도: O(1) - 추가 메모리 사용 없음\n"
     ]
    }
   ],
   "source": [
    "# 테스트\n",
    "arr = [64, 34, 25, 12, 22, 11, 90]\n",
    "\n",
    "# 메모리 사용량 측정\n",
    "original_memory = sys.getsizeof(arr)\n",
    "\n",
    "# 실행 시간 측정\n",
    "start_time = time.time()\n",
    "sorted_arr, comparisons, swaps = selection_sort(arr.copy())\n",
    "end_time = time.time()\n",
    "\n",
    "print(\"정렬된 배열:\", sorted_arr)\n",
    "print(f\"실행 시간: {(end_time - start_time):.6f}초\")\n",
    "print(f\"비교 연산 횟수: {comparisons}회\")\n",
    "print(f\"교환 연산 횟수: {swaps}회\")\n",
    "print(f\"입력 크기(n): {len(arr)}\")\n",
    "print(f\"이론적 시간 복잡도: O(n²) = O({len(arr)}²) = O({len(arr)**2})\")\n",
    "print(f\"원본 배열 메모리 사용량: {original_memory} bytes\")\n",
    "print(f\"공간 복잡도: O(1) - 추가 메모리 사용 없음\")"
   ]
  },
  {
   "cell_type": "code",
   "execution_count": null,
   "id": "051f00a4",
   "metadata": {},
   "outputs": [],
   "source": []
  },
  {
   "cell_type": "markdown",
   "id": "dfaead2e",
   "metadata": {},
   "source": [
    "# 삽입 정렬 (Insertion Sort)\n",
    "- 원리: 정렬된 부분에 새 원소를 적절한 위치에 삽입\n",
    "- 과정: 원소 선택 → 정렬된 부분에서 적절한 위치 찾기 → 삽입 → 반복\n",
    "- 시간복잡도: 평균 O(n²), 최선 O(n)\n",
    "- 공간복잡도: O(1) - 제자리 정렬\n",
    "- 특징: 작은 데이터셋이나 거의 정렬된 데이터에 효율적"
   ]
  },
  {
   "cell_type": "code",
   "execution_count": 10,
   "id": "d087516d",
   "metadata": {},
   "outputs": [],
   "source": [
    "import time\n",
    "import sys\n",
    "\n",
    "def insertion_sort(arr):\n",
    "    n = len(arr)\n",
    "    comparisons = 0\n",
    "    swaps = 0\n",
    "    \n",
    "    for i in range(1, n):\n",
    "        key = arr[i]\n",
    "        j = i - 1\n",
    "        \n",
    "        # key보다 큰 요소들을 뒤로 이동\n",
    "        while j >= 0:\n",
    "            comparisons += 1\n",
    "            if arr[j] > key:\n",
    "                arr[j+1] = arr[j]\n",
    "                swaps += 1\n",
    "                j -= 1\n",
    "            else:\n",
    "                break\n",
    "                \n",
    "        # 적절한 위치에 key 삽입\n",
    "        if j+1 != i:  # 실제로 이동이 있었을 때만 카운트\n",
    "            arr[j+1] = key\n",
    "            swaps += 1  # 삽입 연산도 카운트\n",
    "            \n",
    "    return arr, comparisons, swaps\n"
   ]
  },
  {
   "cell_type": "code",
   "execution_count": 11,
   "id": "209476e2",
   "metadata": {},
   "outputs": [
    {
     "name": "stdout",
     "output_type": "stream",
     "text": [
      "정렬된 배열: [11, 12, 22, 25, 34, 64, 90]\n",
      "실행 시간: 0.000032초\n",
      "비교 연산 횟수: 16회\n",
      "교환 연산 횟수: 19회\n",
      "입력 크기(n): 7\n",
      "이론적 시간 복잡도: 평균 O(n²), 최선 O(n)\n",
      "원본 배열 메모리 사용량: 112 bytes\n",
      "공간 복잡도: O(1) - 추가 메모리 사용 없음\n"
     ]
    }
   ],
   "source": [
    "\n",
    "# 테스트\n",
    "arr = [64, 34, 25, 12, 22, 11, 90]\n",
    "\n",
    "# 메모리 사용량 측정\n",
    "original_memory = sys.getsizeof(arr)\n",
    "\n",
    "# 실행 시간 측정\n",
    "start_time = time.time()\n",
    "sorted_arr, comparisons, swaps = insertion_sort(arr.copy())\n",
    "end_time = time.time()\n",
    "\n",
    "print(\"정렬된 배열:\", sorted_arr)\n",
    "print(f\"실행 시간: {(end_time - start_time):.6f}초\")\n",
    "print(f\"비교 연산 횟수: {comparisons}회\")\n",
    "print(f\"교환 연산 횟수: {swaps}회\")\n",
    "print(f\"입력 크기(n): {len(arr)}\")\n",
    "print(f\"이론적 시간 복잡도: 평균 O(n²), 최선 O(n)\")\n",
    "print(f\"원본 배열 메모리 사용량: {original_memory} bytes\")\n",
    "print(f\"공간 복잡도: O(1) - 추가 메모리 사용 없음\")"
   ]
  },
  {
   "cell_type": "code",
   "execution_count": null,
   "id": "787975e7",
   "metadata": {},
   "outputs": [],
   "source": []
  }
 ],
 "metadata": {
  "kernelspec": {
   "display_name": ".venv",
   "language": "python",
   "name": "python3"
  },
  "language_info": {
   "codemirror_mode": {
    "name": "ipython",
    "version": 3
   },
   "file_extension": ".py",
   "mimetype": "text/x-python",
   "name": "python",
   "nbconvert_exporter": "python",
   "pygments_lexer": "ipython3",
   "version": "3.8.10"
  }
 },
 "nbformat": 4,
 "nbformat_minor": 5
}
