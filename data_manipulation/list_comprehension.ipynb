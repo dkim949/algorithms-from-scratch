{
 "cells": [
  {
   "cell_type": "markdown",
   "id": "11bd9636",
   "metadata": {},
   "source": [
    "# List Comprehension\n",
    "\n",
    "for문을 한 줄로 압축:\n",
    "\n",
    "- [변형된 값 for 원소 in 순회할 객체]"
   ]
  },
  {
   "cell_type": "markdown",
   "id": "ad8bc4f5",
   "metadata": {},
   "source": [
    "### 예시1"
   ]
  },
  {
   "cell_type": "code",
   "execution_count": 13,
   "id": "580afe95",
   "metadata": {},
   "outputs": [
    {
     "name": "stdout",
     "output_type": "stream",
     "text": [
      "[2, 4, 6, 8, 10]\n"
     ]
    }
   ],
   "source": [
    "numbers = [1, 2, 3, 4, 5]\n",
    "new_numbers = []\n",
    "for n in numbers:\n",
    "    new_numbers.append(n * 2)\n",
    "print(new_numbers)  # [2, 4, 6, 8, 10"
   ]
  },
  {
   "cell_type": "code",
   "execution_count": 14,
   "id": "b28aa6d5",
   "metadata": {},
   "outputs": [
    {
     "name": "stdout",
     "output_type": "stream",
     "text": [
      "[2, 4, 6, 8, 10]\n"
     ]
    }
   ],
   "source": [
    "new_numbers = [n * 2 for n in numbers]\n",
    "print(new_numbers)  # [2, 4, 6, 8, 10]"
   ]
  },
  {
   "cell_type": "markdown",
   "id": "9a45383b",
   "metadata": {},
   "source": [
    "### 예시2"
   ]
  },
  {
   "cell_type": "code",
   "execution_count": 18,
   "id": "9891d761",
   "metadata": {},
   "outputs": [
    {
     "data": {
      "text/plain": [
       "[4, 8]"
      ]
     },
     "execution_count": 18,
     "metadata": {},
     "output_type": "execute_result"
    }
   ],
   "source": [
    "numbers = [1, 2, 3, 4, 5]\n",
    "new_numbers = []\n",
    "\n",
    "for i in numbers:\n",
    "    if i % 2 == 0:\n",
    "        new_number = i * 2 \n",
    "        new_numbers.append(new_number)\n",
    "new_numbers        "
   ]
  },
  {
   "cell_type": "code",
   "execution_count": 19,
   "id": "74463d43",
   "metadata": {},
   "outputs": [
    {
     "name": "stdout",
     "output_type": "stream",
     "text": [
      "[4, 8]\n"
     ]
    }
   ],
   "source": [
    "new_numbers = [n * 2 for n in numbers if n % 2 == 0]\n",
    "\n",
    "print(new_numbers)  # [4, 8]"
   ]
  },
  {
   "cell_type": "markdown",
   "id": "04a7bae8",
   "metadata": {},
   "source": [
    "### 예시3"
   ]
  },
  {
   "cell_type": "code",
   "execution_count": 28,
   "id": "a11be7d3",
   "metadata": {},
   "outputs": [
    {
     "name": "stdout",
     "output_type": "stream",
     "text": [
      "[(1, 3), (1, 4), (1, 6), (2, 3), (2, 4), (2, 6), (3, 3), (3, 4), (3, 6)]\n"
     ]
    }
   ],
   "source": [
    "list1 = [1, 2, 3]\n",
    "list2 = [3, 4, 6]\n",
    "\n",
    "pairs = []\n",
    "for i in list1:\n",
    "    for j in list2:\n",
    "        pairs.append((i, j))\n",
    "\n",
    "print(pairs)"
   ]
  },
  {
   "cell_type": "code",
   "execution_count": 29,
   "id": "5952a6dc",
   "metadata": {},
   "outputs": [
    {
     "name": "stdout",
     "output_type": "stream",
     "text": [
      "[(1, 3), (1, 4), (1, 6), (2, 3), (2, 4), (2, 6), (3, 3), (3, 4), (3, 6)]\n"
     ]
    }
   ],
   "source": [
    "pairs = [(i, j) for i in list1 for j in list2]\n",
    "print(pairs)"
   ]
  },
  {
   "cell_type": "code",
   "execution_count": 30,
   "id": "7d39f4a5",
   "metadata": {},
   "outputs": [
    {
     "name": "stdout",
     "output_type": "stream",
     "text": [
      "[(3, 3)]\n"
     ]
    }
   ],
   "source": [
    "pairs = [(i, j) for i in list1 for j in list2 if i == j ]\n",
    "print(pairs)"
   ]
  },
  {
   "cell_type": "code",
   "execution_count": null,
   "id": "7c709f8e",
   "metadata": {},
   "outputs": [],
   "source": []
  }
 ],
 "metadata": {
  "kernelspec": {
   "display_name": ".venv",
   "language": "python",
   "name": "python3"
  },
  "language_info": {
   "codemirror_mode": {
    "name": "ipython",
    "version": 3
   },
   "file_extension": ".py",
   "mimetype": "text/x-python",
   "name": "python",
   "nbconvert_exporter": "python",
   "pygments_lexer": "ipython3",
   "version": "3.8.10"
  }
 },
 "nbformat": 4,
 "nbformat_minor": 5
}
