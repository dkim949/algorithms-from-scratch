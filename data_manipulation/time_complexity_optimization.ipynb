{
 "cells": [
  {
   "cell_type": "markdown",
   "id": "33dd131d",
   "metadata": {},
   "source": [
    "# 시간 복잡도 최적화\n",
    "\n",
    "이 노트북에서는 알고리즘의 성능을 개선하는 시간 복잡도 최적화 기법을 다룹니다.\n",
    "\n",
    "## Big O 표기법\n",
    "- **O(1)**: 상수 시간 - 입력 크기와 무관하게 일정한 시간 소요 (예: 해시맵 조회)\n",
    "- **O(n)**: 선형 시간 - 입력 크기에 비례하는 시간 소요 (예: 배열 순회)\n",
    "- **O(n²)**: 제곱 시간 - 중첩 반복문에서 흔히 발생 (예: 이중 for문)\n",
    "\n",
    "## 주요 최적화 패턴\n",
    "1. **해시 기반 최적화**: O(n) 탐색을 O(1)로 개선 (리스트 → 집합/딕셔너리)\n",
    "2. **공간-시간 트레이드오프**: 추가 메모리를 사용하여 실행 시간 단축\n",
    "3. **알고리즘 선택**: 문제에 적합한 효율적 알고리즘 사용\n",
    "\n",
    "이 노트북의 예제들은 비효율적인 O(n²) 알고리즘을 O(n)으로 개선하는 방법을 보여줍니다."
   ]
  },
  {
   "cell_type": "code",
   "execution_count": 11,
   "id": "43cf350a",
   "metadata": {},
   "outputs": [],
   "source": [
    "import time\n",
    "import random\n"
   ]
  },
  {
   "cell_type": "markdown",
   "id": "ea4cb013",
   "metadata": {},
   "source": [
    "---\n",
    "## 문제: 배열에서 모든 중복 요소 찾기\n",
    "\n",
    "**문제 설명:**  \n",
    "주어진 배열에서 중복되는 모든 요소를 찾는 함수를 구현하세요.\n",
    "\n",
    "**입력:**  \n",
    "- 정수로 이루어진 배열 arr\n",
    "\n",
    "**출력:**  \n",
    "- 중복되는 모든 값을 리스트로 반환합니다.\n",
    "- 중복된 값이 없으면 빈 리스트를 반환합니다.\n"
   ]
  },
  {
   "cell_type": "code",
   "execution_count": 44,
   "id": "820db228",
   "metadata": {},
   "outputs": [],
   "source": [
    "# 중복이 자연스럽게 발생하는 큰 테스트 데이터 생성\n",
    "test_arr = random.choices(range(1, 1001), k=1000)  # 1~5000 범위에서 20000개 선택 (중복 허용)\n"
   ]
  },
  {
   "cell_type": "markdown",
   "id": "25f238a2",
   "metadata": {},
   "source": [
    "## O(n²) 접근법 - 이중 반복문 사용"
   ]
  },
  {
   "cell_type": "code",
   "execution_count": 45,
   "id": "b4c6d3f3",
   "metadata": {},
   "outputs": [],
   "source": [
    "# O(n²) 접근법 - 이중 반복문 사용\n",
    "def find_all_duplicates(arr):\n",
    "    duplicates = []\n",
    "    for i in range(len(arr)):\n",
    "        for j in range(i+1, len(arr)):\n",
    "            if arr[i] == arr[j] and arr[i] not in duplicates:\n",
    "                duplicates.append(arr[i])\n",
    "                break  # 같은 값은 한 번만 추가\n",
    "    return duplicates"
   ]
  },
  {
   "cell_type": "markdown",
   "id": "9917eb3a",
   "metadata": {},
   "source": [
    "## O(n) 접근법 - 해시셋 사용"
   ]
  },
  {
   "cell_type": "code",
   "execution_count": 46,
   "id": "7263ae16",
   "metadata": {},
   "outputs": [],
   "source": [
    "def find_all_duplicates_optimized(arr):\n",
    "    seen = set()  # 이미 등장한 요소를 추적하기 위한 빈 세트(해시셋) 생성\n",
    "    duplicates = set()  # 중복 값도 set으로 관리하여 O(1) 검색\n",
    "    \n",
    "    for num in arr:\n",
    "        if num in seen:  # 현재 요소가 이미 seen 세트에 있는지 확인 (O(1) 연산)\n",
    "            duplicates.add(num)\n",
    "        else:\n",
    "            seen.add(num)\n",
    "    \n",
    "    return list(duplicates)  # 결과를 리스트로 변환하여 반환"
   ]
  },
  {
   "cell_type": "code",
   "execution_count": 47,
   "id": "a4b18bb2",
   "metadata": {},
   "outputs": [
    {
     "name": "stdout",
     "output_type": "stream",
     "text": [
      "원래 방식 (O(n²)) 결과: [63, 1, 108, 584, 783, 579, 425, 956, 367, 86, 253, 260, 619, 644, 799, 499, 463, 292, 54, 67, 461, 217, 454, 139, 901, 560, 134, 49, 102, 257, 565, 571, 290, 410, 929, 250, 591, 388, 432, 531, 137, 344, 828, 511, 180, 320, 264, 817, 611, 546, 992, 458, 11, 15, 147, 80, 401, 609, 726, 283, 963, 152, 144, 479, 995, 656, 835, 958, 331, 14, 361, 4, 979, 210, 405, 379, 308, 451, 767, 127, 953, 923, 813, 291, 359, 433, 415, 993, 841, 741, 678, 76, 895, 153, 193, 456, 547, 753, 399, 892, 19, 728, 319, 296, 33, 653, 43, 770, 563, 57, 402, 673, 300, 615, 337, 870, 483, 674, 934, 201, 243, 287, 374, 894, 642, 564, 831, 98, 932, 506, 470, 558, 652, 47, 659, 509, 326, 942, 646, 863, 42, 567, 457, 907, 696, 225, 715, 966, 174, 514, 478, 859, 254, 545, 941, 576, 536, 527, 528, 909, 269, 452, 358, 386, 161, 135, 760, 694, 387, 397, 836, 878, 523, 348, 854, 826, 477, 164, 592, 636, 532, 849, 920, 357, 116, 434, 345, 954, 820, 603, 119, 356, 703, 944, 256, 462, 981, 450, 312, 906, 744, 82, 606, 205, 45, 420, 460, 446, 237, 439, 362, 8, 377, 643, 219, 55, 792, 749, 276, 686, 663, 714, 5, 28, 285, 189, 856, 199, 124, 519, 871, 839, 893, 246, 910, 366, 529, 424, 711, 640, 987, 555, 123, 233, 184, 69, 626, 496, 338, 750, 223, 468, 109, 602, 316, 745, 449, 879, 288, 784, 480, 1000, 12, 827, 706, 794, 385, 903, 90, 756, 130, 227, 126, 214, 628, 330, 128, 271, 637, 690, 544, 238, 275, 20, 597, 754, 629, 141, 691, 766, 874]\n",
      "실행 시간: 16.81 ms\n"
     ]
    }
   ],
   "source": [
    "# 원래 방식 테스트\n",
    "start = time.time()\n",
    "\n",
    "result1 = find_all_duplicates(test_arr)\n",
    "\n",
    "end = time.time()\n",
    "duration1 = (end - start) * 1000\n",
    "print(f\"원래 방식 (O(n²)) 결과: {result1}\")\n",
    "print(f\"실행 시간: {duration1:.2f} ms\")\n"
   ]
  },
  {
   "cell_type": "code",
   "execution_count": 48,
   "id": "72778fe2",
   "metadata": {},
   "outputs": [
    {
     "name": "stdout",
     "output_type": "stream",
     "text": [
      "최적화 방식 (O(n)) 결과: [1, 514, 4, 5, 519, 8, 523, 11, 12, 14, 527, 528, 529, 15, 19, 532, 531, 20, 536, 28, 544, 33, 546, 547, 545, 42, 43, 555, 45, 558, 47, 560, 49, 563, 564, 565, 54, 55, 567, 57, 571, 63, 576, 579, 67, 69, 584, 76, 591, 80, 592, 82, 597, 86, 602, 90, 603, 606, 609, 98, 611, 102, 615, 619, 108, 109, 626, 116, 629, 628, 119, 123, 636, 124, 126, 127, 640, 637, 642, 643, 644, 130, 134, 135, 646, 137, 128, 139, 652, 653, 141, 144, 656, 147, 659, 663, 152, 153, 673, 674, 161, 164, 678, 174, 686, 690, 691, 180, 694, 184, 696, 189, 703, 193, 706, 711, 199, 201, 714, 715, 205, 210, 726, 214, 728, 217, 219, 223, 225, 227, 741, 744, 233, 745, 237, 750, 749, 238, 753, 754, 243, 756, 246, 760, 250, 253, 254, 767, 256, 257, 770, 766, 260, 264, 269, 783, 271, 784, 275, 276, 792, 794, 283, 285, 287, 288, 799, 290, 291, 292, 296, 300, 813, 817, 308, 820, 312, 826, 827, 828, 316, 831, 320, 319, 835, 836, 326, 839, 841, 330, 331, 337, 849, 338, 854, 344, 856, 345, 859, 348, 863, 356, 357, 358, 870, 871, 361, 362, 874, 359, 878, 367, 879, 366, 374, 377, 379, 892, 893, 894, 895, 385, 386, 387, 388, 901, 903, 906, 907, 397, 910, 399, 909, 401, 402, 405, 920, 410, 923, 415, 929, 932, 420, 934, 424, 425, 941, 942, 944, 433, 434, 432, 439, 953, 954, 956, 958, 446, 449, 450, 963, 452, 451, 966, 454, 456, 457, 458, 460, 461, 462, 463, 979, 468, 981, 470, 987, 477, 478, 479, 992, 993, 480, 995, 483, 1000, 496, 499, 506, 509, 511]\n",
      "실행 시간: 0.14 ms\n"
     ]
    }
   ],
   "source": [
    "# 최적화 방식 테스트\n",
    "start = time.time()\n",
    "\n",
    "result2 = find_all_duplicates_optimized(test_arr)\n",
    "\n",
    "end = time.time()\n",
    "duration2 = (end - start) * 1000\n",
    "print(f\"최적화 방식 (O(n)) 결과: {result2}\")\n",
    "print(f\"실행 시간: {duration2:.2f} ms\")\n",
    "\n",
    "# print(\"=\"*30)\n",
    "# print(f\"속도 향상: {duration1/duration2:.1f}배\")"
   ]
  },
  {
   "cell_type": "markdown",
   "id": "a5d31b1f",
   "metadata": {},
   "source": [
    "## 문제: 중복 없는 랜덤 리스트 생성\n",
    "\n",
    "1부터 n까지의 숫자 중 랜덤하게 선택하여 중복 없는 리스트를 생성하는 문제입니다."
   ]
  },
  {
   "cell_type": "code",
   "execution_count": null,
   "id": "4804b346",
   "metadata": {},
   "outputs": [],
   "source": [
    "# O(n²) 접근법 - 리스트에서 중복 확인\n",
    "def generate_random_list(n):\n",
    "    result = []\n",
    "    for i in range(n):\n",
    "        x = random.randint(1, n)\n",
    "        if x not in result:\n",
    "            result.append(x)\n",
    "    return result\n",
    "\n",
    "# O(n) 접근법 - 해시셋 사용\n",
    "def generate_random_list_optimized(n):\n",
    "    # result = []\n",
    "    seen = set()  # 이미 추가된 숫자를 저장할 집합 (중복제거)\n",
    "    \n",
    "    for i in range(n):\n",
    "        x = random.randint(1, n)\n",
    "        if x not in seen:  # 리스트 대신 집합에서 확인 (O(1) 연산)\n",
    "            seen.add(x)  # 집합에 추가\n",
    "            # result.append(x)  #만약에 순서가 중요하다면 리스트를 따로 생성해야함\n",
    "    return list(seen)"
   ]
  },
  {
   "cell_type": "code",
   "execution_count": 52,
   "id": "62c798b9",
   "metadata": {},
   "outputs": [
    {
     "name": "stdout",
     "output_type": "stream",
     "text": [
      "\n",
      "원래 방식 (O(n²)) - 크기 5000의 경우\n",
      "실행 시간: 60.65 ms\n",
      "최적화 방식 (O(n)) - 크기 5000의 경우\n",
      "실행 시간: 2.83 ms\n"
     ]
    }
   ],
   "source": [
    "# 테스트 (큰 크기)\n",
    "n = 5000\n",
    "start = time.time()\n",
    "generate_random_list(n)\n",
    "end = time.time()\n",
    "duration3 = (end - start) * 1000\n",
    "print(f\"\\n원래 방식 (O(n²)) - 크기 {n}의 경우\")\n",
    "print(f\"실행 시간: {duration3:.2f} ms\")\n",
    "\n",
    "start = time.time()\n",
    "generate_random_list_optimized(n)\n",
    "end = time.time()\n",
    "duration4 = (end - start) * 1000\n",
    "print(f\"최적화 방식 (O(n)) - 크기 {n}의 경우\")\n",
    "print(f\"실행 시간: {duration4:.2f} ms\")\n"
   ]
  },
  {
   "cell_type": "markdown",
   "id": "6ee5e26b",
   "metadata": {},
   "source": [
    "## 문제: Two Sum 문제\n",
    "\n",
    "배열에서 합이 target이 되는 두 수의 인덱스를 찾는 문제입니다."
   ]
  },
  {
   "cell_type": "code",
   "execution_count": 53,
   "id": "2dda4aa9",
   "metadata": {},
   "outputs": [],
   "source": [
    "# 테스트 데이터 생성\n",
    "test_nums = [random.randint(1, 1000) for _ in range(10000)]\n",
    "test_target = test_nums[100] + test_nums[5000]  # 합이 target이 되는 두 수 보장\n"
   ]
  },
  {
   "cell_type": "code",
   "execution_count": 16,
   "id": "c499e3b2",
   "metadata": {},
   "outputs": [],
   "source": [
    "# O(n²) 접근법 - 이중 반복문 사용\n",
    "def two_sum_brute(nums, target):\n",
    "    for i in range(len(nums)):\n",
    "        for j in range(i+1, len(nums)):\n",
    "            if nums[i] + nums[j] == target:\n",
    "                return [i, j]\n",
    "    return []\n",
    "\n",
    "# O(n) 접근법 - 해시맵 사용\n",
    "def two_sum_optimized(nums, target):\n",
    "    num_map = {}  # 값 -> 인덱스 매핑\n",
    "    for i, num in enumerate(nums):\n",
    "        complement = target - num\n",
    "        if complement in num_map:\n",
    "            return [num_map[complement], i]\n",
    "        num_map[num] = i\n",
    "    return []\n"
   ]
  },
  {
   "cell_type": "code",
   "execution_count": 18,
   "id": "2ac3f244",
   "metadata": {},
   "outputs": [
    {
     "name": "stdout",
     "output_type": "stream",
     "text": [
      "원래 방식 (O(n²)) 결과: [2, 1200]\n",
      "실행 시간: 1.09 ms\n"
     ]
    }
   ],
   "source": [
    "# 원래 방식 테스트\n",
    "start = time.time()\n",
    "result1 = two_sum_brute(test_nums, test_target)\n",
    "end = time.time()\n",
    "duration1 = (end - start) * 1000\n",
    "print(f\"원래 방식 (O(n²)) 결과: {result1}\")\n",
    "print(f\"실행 시간: {duration1:.2f} ms\")"
   ]
  },
  {
   "cell_type": "code",
   "execution_count": 19,
   "id": "24e0de6b",
   "metadata": {},
   "outputs": [
    {
     "name": "stdout",
     "output_type": "stream",
     "text": [
      "최적화 방식 (O(n)) 결과: [16, 18]\n",
      "실행 시간: 0.03 ms\n"
     ]
    }
   ],
   "source": [
    "# 최적화 방식 테스트\n",
    "start = time.time()\n",
    "result2 = two_sum_optimized(test_nums, test_target)\n",
    "end = time.time()\n",
    "duration2 = (end - start) * 1000\n",
    "print(f\"최적화 방식 (O(n)) 결과: {result2}\")\n",
    "print(f\"실행 시간: {duration2:.2f} ms\")"
   ]
  },
  {
   "cell_type": "markdown",
   "id": "cdadbab0",
   "metadata": {},
   "source": [
    "## 문제: 대용량 배열에서 윈도우 평균 계산하기\n",
    "\n",
    "**문제 설명:**  \n",
    "크기가 매우 큰 시계열 데이터에서 각 지점마다 주변 k개 값의 이동 평균(moving average)을 계산하는 함수를 구현하세요.\n",
    "\n",
    "**입력:**  \n",
    "- 1차원 NumPy 배열 `data`: 시계열 데이터를 나타내는 배열\n",
    "- 정수 `k`: 윈도우 크기 (항상 홀수이며, 현재 위치를 중심으로 양쪽으로 k//2개의 요소를 포함)\n",
    "\n",
    "**출력:**  \n",
    "- 각 위치에서의 윈도우 평균을 담은 NumPy 배열"
   ]
  },
  {
   "cell_type": "code",
   "execution_count": 56,
   "id": "d6a3c054",
   "metadata": {},
   "outputs": [],
   "source": [
    "import numpy as np"
   ]
  },
  {
   "cell_type": "code",
   "execution_count": 76,
   "id": "945ab8b9",
   "metadata": {},
   "outputs": [],
   "source": [
    "data = np.array([1, 3, 5, 7, 9, 11, 13, 15, 17])\n",
    "k = 3"
   ]
  },
  {
   "cell_type": "code",
   "execution_count": 77,
   "id": "6134cdba",
   "metadata": {},
   "outputs": [],
   "source": [
    "def moving_average_basic(data, k):\n",
    "\n",
    "    n = len(data)\n",
    "    # result = np.zeros(n)  # result = [] 보다 더 효율적\n",
    "    result = []\n",
    "    half_window = k // 2\n",
    "\n",
    "    for i in range(n):\n",
    "\n",
    "        start = max(0, i - half_window)  # 아무리 적어도, 0보다는 크도록\n",
    "        end = min(n, i + half_window + 1)  # 아무리 커도, n보다는 작도록\n",
    "\n",
    "        # result[i] =  np.mean(data[start:end])  # result.append() 보다 더 효율적\n",
    "        result.append(np.mean(data[start:end]))\n",
    "\n",
    "    return result\n"
   ]
  },
  {
   "cell_type": "code",
   "execution_count": 78,
   "id": "66c04afd",
   "metadata": {},
   "outputs": [
    {
     "data": {
      "text/plain": [
       "[3.0, 4.0, 5.0, 7.0, 9.0, 11.0, 13.0, 14.0, 15.0]"
      ]
     },
     "execution_count": 78,
     "metadata": {},
     "output_type": "execute_result"
    }
   ],
   "source": [
    "moving_average_basic(data, 4)"
   ]
  },
  {
   "cell_type": "code",
   "execution_count": null,
   "id": "b20b0a65",
   "metadata": {},
   "outputs": [],
   "source": []
  },
  {
   "cell_type": "code",
   "execution_count": null,
   "id": "40ddb93a",
   "metadata": {},
   "outputs": [],
   "source": []
  }
 ],
 "metadata": {
  "kernelspec": {
   "display_name": ".venv",
   "language": "python",
   "name": "python3"
  },
  "language_info": {
   "codemirror_mode": {
    "name": "ipython",
    "version": 3
   },
   "file_extension": ".py",
   "mimetype": "text/x-python",
   "name": "python",
   "nbconvert_exporter": "python",
   "pygments_lexer": "ipython3",
   "version": "3.8.10"
  }
 },
 "nbformat": 4,
 "nbformat_minor": 5
}
