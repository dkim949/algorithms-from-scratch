{
 "cells": [
  {
   "cell_type": "markdown",
   "id": "ffd5a84d",
   "metadata": {},
   "source": [
    "# Probability and Statistics"
   ]
  },
  {
   "cell_type": "markdown",
   "id": "654711fc",
   "metadata": {},
   "source": [
    "## 확률/경우의수 계산\n",
    "**문제**: 6면 주사위 두 개를 던졌을 때, 두 주사위의 합이 짝수가 될 확률을 구하라.\n",
    "\n",
    "$P(\\text{짝수 합}) = \\frac{|\\{(i,j) \\mid i,j \\in \\{1,2,3,4,5,6\\},\\ (i+j) \\bmod 2 = 0\\}|}{36}$\n"
   ]
  },
  {
   "cell_type": "code",
   "execution_count": 16,
   "id": "83716cec",
   "metadata": {},
   "outputs": [
    {
     "name": "stdout",
     "output_type": "stream",
     "text": [
      "합이 짝수일 확률 (정확 계산): 0.5000\n"
     ]
    }
   ],
   "source": [
    "# 가능한 모든 주사위 쌍 만들기\n",
    "\n",
    "# for i in range(1,7):\n",
    "#     for j in range(1,7):\n",
    "#         print(i,j)\n",
    "\n",
    "total_cases = [(i,j) for i in range(1,7) for j in range(1,7)]\n",
    "\n",
    "even_cases = [event for event in total_events if (event[0]+event[1])%2==0] \n",
    "\n",
    "# 확률 계산\n",
    "P_even_sum = len(even_cases) / len(total_cases)\n",
    "\n",
    "print(f\"합이 짝수일 확률 (정확 계산): {P_even_sum:.4f}\")\n"
   ]
  },
  {
   "cell_type": "markdown",
   "id": "6c5480b6",
   "metadata": {},
   "source": [
    "## 조건부 확률 문제 (Conditional Probability)\n",
    "\n",
    "**문제**: 6면 주사위 두 개를 던집니다. 두 주사위의 합이 8 이상일 때, 첫 번째 주사위가 4 이상일 확률은 얼마인가?\n",
    "\n",
    "1. 확률을 이론적으로 계산하세요.\n",
    "2. 시뮬레이션을 통해 확률을 추정하고, 이론값과 비교하세요.\n",
    "3. 결과를 시각화하세요.\n",
    "\n",
    "**힌트**: 조건부 확률 P(A|B)는 사건 B가 발생했을 때 사건 A가 발생할 확률입니다. 이는 다음과 같이 계산됩니다:\n",
    "\n",
    "$P(A|B) = P(A ∩ B) / P(B)$\n",
    "\n",
    "여기서:\n",
    "- 사건 A: 첫 번째 주사위가 4 이상\n",
    "- 사건 B: 두 주사위의 합이 8 이상\n",
    "\n",
    "**코드로 구성할 때는 단순함:**\n",
    "- 일단 B 조건을 만족하는 경우만 본다 (첫 번째 if)\n",
    "- 그 안에서 A 조건도 만족하는 경우를 센다 (두 번째 if)"
   ]
  },
  {
   "cell_type": "code",
   "execution_count": null,
   "id": "5bc3a0df",
   "metadata": {},
   "outputs": [
    {
     "name": "stdout",
     "output_type": "stream",
     "text": [
      "합이 8 이상일 확률: 0.4167\n"
     ]
    }
   ],
   "source": [
    "# 1. 전체 경우의 수\n",
    "total_cases = [(i,j) for i in range(1,7) for j in range(1,7)]\n",
    "\n",
    "# 2. 사건 B: 합이 8 이상\n",
    "event_b = [case for case in total_cases if case[0]+case[1] >= 8]\n",
    "\n",
    "print(f\"합이 8 이상일 확률: {len(event_b) / len(total_cases):.4f}\")"
   ]
  },
  {
   "cell_type": "code",
   "execution_count": 26,
   "id": "adccf393",
   "metadata": {},
   "outputs": [
    {
     "name": "stdout",
     "output_type": "stream",
     "text": [
      "합이 8 이상일 때 첫 번째 주사위가 5 이상일 확률: 0.6000\n"
     ]
    }
   ],
   "source": [
    "# 3. 사건 A ∩ B: 합이 8 이상이면서 첫 번째 주사위가 5 이상\n",
    "event_a_and_b = [case for case in event_b if case[0] >= 5]\n",
    "\n",
    "# 4. 조건부 확률 계산\n",
    "p_a_given_b = len(event_a_and_b) / len(event_b)\n",
    "\n",
    "# 5. 출력\n",
    "print(f\"합이 8 이상일 때 첫 번째 주사위가 5 이상일 확률: {p_a_given_b:.4f}\")"
   ]
  },
  {
   "cell_type": "markdown",
   "id": "2690fe34",
   "metadata": {},
   "source": [
    "# 🎯 기대값(Expected Value) \n",
    "\n",
    "## 기본 개념\n",
    "1. 기대값이란?\n",
    "\n",
    "    - 한 번 실험했을 때 얻을 것으로 기대되는 평균적인 결과를 의미해.\n",
    "    - “확률적으로 장기적으로 봤을 때 평균적으로 얻는 값.”\n",
    "\n",
    "2. 수식 정의\n",
    "\n",
    "    - 이산형 확률 변수 X 의 기대값:\n",
    "\n",
    "    - $\\mathbb{E}[X] = \\sum_{i} x_i \\times P(X = x_i)$\n",
    "\t    - x_i: 가능한 결과값\n",
    "\t    - P(X = x_i): 해당 결과값이 나올 확률\n",
    "\n",
    "        - (결과값 × 그 결과가 나올 확률)을 모두 합산한 것이 기대값이다.    \n",
    "\n",
    "\n",
    "### *“기대값은 각 결과에 확률을 곱하고 다 더한 것.”*\n",
    "\n",
    "\n",
    "## 문제\n",
    "\n",
    "어떤 게임이 있다.\n",
    "- 동전을 던져서 앞면이 나오면 10원을 받고,\n",
    "- 뒷면이 나오면 5원을 잃는다 (즉, -5원).\n",
    "\n",
    "동전은 완전히 공정해서 앞면과 뒷면이 나올 확률은 각각 0.5 다.\n",
    "\n",
    "이 게임을 한 번 했을 때 기대값은 얼마인가?\n"
   ]
  },
  {
   "cell_type": "code",
   "execution_count": 30,
   "id": "c94f423a",
   "metadata": {},
   "outputs": [
    {
     "data": {
      "text/plain": [
       "2.5"
      ]
     },
     "execution_count": 30,
     "metadata": {},
     "output_type": "execute_result"
    }
   ],
   "source": [
    "(10 * 0.5) + (-5 * 0.5)"
   ]
  },
  {
   "cell_type": "markdown",
   "id": "62d44f83",
   "metadata": {},
   "source": [
    "## 기대값 응용 문제\n",
    " 게임 규칙:\n",
    "- 주사위 두 개를 던진다. (각 주사위 1~6)\n",
    "- 두 주사위 합이 7이면 50원을 받는다. 11이면 100원을 받는다.\n",
    "- 그 외에는 10원을 잃는다. (즉, -10원)\n",
    "\n",
    "이 게임을 한 번 했을 때의 기대값을 구하라.\n"
   ]
  },
  {
   "cell_type": "code",
   "execution_count": 31,
   "id": "0e775dc2",
   "metadata": {},
   "outputs": [
    {
     "name": "stdout",
     "output_type": "stream",
     "text": [
      "이 게임의 기대값: 6.11 원\n"
     ]
    }
   ],
   "source": [
    "# Step 1: 가능한 모든 주사위 쌍 만들기\n",
    "total_cases = [(i, j) for i in range(1, 7) for j in range(1, 7)]\n",
    "\n",
    "# Step 2: 보상 매기기\n",
    "rewards = []\n",
    "for case in total_cases:\n",
    "    합 = case[0] + case[1]\n",
    "    if 합 == 7:\n",
    "        rewards.append(50)\n",
    "    elif 합 == 11:\n",
    "        rewards.append(100)\n",
    "    else:\n",
    "        rewards.append(-10)\n",
    "\n",
    "# Step 3: 기대값 계산\n",
    "expected_value = sum(rewards) / len(rewards)\n",
    "\n",
    "print(f\"이 게임의 기대값: {expected_value:.2f} 원\")"
   ]
  },
  {
   "cell_type": "code",
   "execution_count": null,
   "id": "d9193e2a",
   "metadata": {},
   "outputs": [],
   "source": []
  }
 ],
 "metadata": {
  "kernelspec": {
   "display_name": ".venv",
   "language": "python",
   "name": "python3"
  },
  "language_info": {
   "codemirror_mode": {
    "name": "ipython",
    "version": 3
   },
   "file_extension": ".py",
   "mimetype": "text/x-python",
   "name": "python",
   "nbconvert_exporter": "python",
   "pygments_lexer": "ipython3",
   "version": "3.8.10"
  }
 },
 "nbformat": 4,
 "nbformat_minor": 5
}
