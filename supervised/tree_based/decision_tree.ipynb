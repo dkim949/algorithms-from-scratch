{
 "cells": [
  {
   "cell_type": "markdown",
   "metadata": {},
   "source": [
    "# Decision Tree Implementation from Scratch\n",
    "\n",
    "## Overview\n",
    "\n",
    "이 노트북에서는 결정 트리(Decision Tree) 알고리즘을 처음부터 구현합니다. 결정 트리는 다음과 같은 특징을 가진 지도 학습 알고리즘입니다:\n",
    "\n",
    "- 분류(Classification)와 회귀(Regression) 문제 모두에 사용 가능\n",
    "- 비선형 관계를 모델링할 수 있음\n",
    "- 데이터를 특성 공간에서 계층적으로 분할하는 방식으로 작동\n",
    "- 결과가 해석하기 쉽고 시각화 가능\n",
    "\n",
    "## 구현 과정\n",
    "\n",
    "1. 노드(Node) 클래스 구현\n",
    "2. 분할 기준 함수 구현 (정보 이득, 지니 불순도 등)\n",
    "3. 최적 분할 지점 찾기 알고리즘 구현\n",
    "4. 재귀적 트리 성장 알고리즘 구현\n",
    "5. 예측 함수 구현\n",
    "6. 트리 시각화 함수 구현\n",
    "7. 가지치기(Pruning) 알고리즘 구현\n",
    "\n",
    "## 수학적 배경\n",
    "\n",
    "결정 트리는 다음과 같은 수학적 개념을 활용합니다:\n",
    "\n",
    "- **엔트로피(Entropy)**: 데이터의 무질서도를 측정\n",
    "- **정보 이득(Information Gain)**: 분할 전후의 엔트로피 차이\n",
    "- **지니 불순도(Gini Impurity)**: 무작위로 선택한 샘플이 잘못 분류될 확률\n",
    "- **분산 감소(Variance Reduction)**: 회귀 문제에서 사용되는 분할 기준\n"
   ]
  },
  {
   "cell_type": "code",
   "execution_count": 1,
   "metadata": {},
   "outputs": [],
   "source": [
    "# 필요한 라이브러리 임포트\n",
    "import numpy as np\n",
    "import pandas as pd\n",
    "import matplotlib.pyplot as plt\n",
    "from collections import Counter\n",
    "from sklearn.datasets import load_iris, fetch_california_housing\n",
    "from sklearn.model_selection import train_test_split\n",
    "\n",
    "# 시각화를 위한 설정\n",
    "import matplotlib as mpl\n",
    "mpl.rcParams['figure.figsize'] = (12, 8)\n",
    "plt.style.use('ggplot')"
   ]
  },
  {
   "cell_type": "markdown",
   "metadata": {},
   "source": [
    "# 0. 1-Depth Decision Tree\n",
    "- 구조: 루트 노드 한 개 + 두 개의 리프 노드 => 한 번만 분기하는 구조"
   ]
  },
  {
   "cell_type": "code",
   "execution_count": null,
   "metadata": {},
   "outputs": [],
   "source": [
    "import numpy as np\n",
    "from collections import Counter\n",
    "\n",
    "class TinyDecisionTree:\n",
    "    def __init__(self):\n",
    "        ''' \n",
    "        Initialize the tree structure.\n",
    "        '''\n",
    "        self.feature_idx = None        # index of feature to split on\n",
    "        self.threshold = None          # split threshold value\n",
    "        self.left_class = None         # prediction if feature <= threshold\n",
    "        self.right_class = None        # prediction if feature > threshold\n",
    "\n",
    "    def gini(self, labels):\n",
    "        '''\n",
    "        Compute Gini impurity for a list of class labels.\n",
    "        '''\n",
    "        counts = Counter(labels)\n",
    "        total = sum(counts.values())\n",
    "        probs = [count / total for count in counts.values()]\n",
    "        gini_impurity = 1.0 - sum(p ** 2 for p in probs)\n",
    "        return gini_impurity\n",
    "\n",
    "    def most_common_class(self, labels):\n",
    "        '''\n",
    "        Return the most frequent class label from labels.\n",
    "        '''\n",
    "        return Counter(labels).most_common(1)[0][0]\n",
    "\n",
    "    def fit(self, X, y):\n",
    "        '''\n",
    "        Train the tree by finding the best split across all features and thresholds.\n",
    "        '''\n",
    "        best_gini = 1.0\n",
    "        best_feature = None\n",
    "        best_threshold = None\n",
    "\n",
    "        # Try every feature \n",
    "        for feature_idx in range(X.shape[1]):\n",
    "            # Use unique values in that feature as candidate thresholds (실제 존재하는 값으로 임계값을 하나씩 적용해보기)\n",
    "            thresholds = np.unique(X[:, feature_idx])\n",
    "            for threshold in thresholds:\n",
    "                \n",
    "                # Split y into left and right groups\n",
    "                left_mask = X[:, feature_idx] <= threshold  #boolean mask, if True sent to left\n",
    "                right_mask = ~left_mask  #not operator, 즉 나머지를 오른쪽으로 보냄\n",
    "\n",
    "                left_y = y[left_mask]\n",
    "                right_y = y[right_mask]\n",
    "\n",
    "                # Skip if one side is empty: 왼/오 그룹 각각에 데이터가 하나도 없으면 gini impurity 계산이 불가능 하기에 무효\n",
    "                if len(left_y) == 0 or len(right_y) == 0:\n",
    "                    continue  # 현재 반복을 중단하고 다음 반복으로 바로 넘어감\n",
    "\n",
    "                # === 이 아래는 if 조건이 False일 때만 실행됨 ===\n",
    "                \n",
    "                # Compute weighted Gini impurity\n",
    "                # Formula: Gini = 1 - sum(p_i^2), where p_i is the proportion of each class\n",
    "                # 한 클래스만 있음 = 순수 = impurity가 작아짐\n",
    "                total = len(y)\n",
    "                gini_left = self.gini(left_y)\n",
    "                gini_right = self.gini(right_y)\n",
    "\n",
    "                # weighted gini impurity: 각 그룹의 순수도를 측정하되, 그룹의 크기를 가중평균\n",
    "                weighted_gini = (len(left_y) / total) * gini_left + (len(right_y) / total) * gini_right\n",
    "\n",
    "                # Update best split if improvement\n",
    "                # 여러 후보 중에서 가장 Gini impurity가 낮은 분할을 이번 분기의 규칙으로 저장\n",
    "                if weighted_gini < best_gini:\n",
    "                    best_gini = weighted_gini\n",
    "                    best_feature = feature_idx\n",
    "                    best_threshold = threshold\n",
    "\n",
    "        # Store best split\n",
    "        self.feature_idx = best_feature\n",
    "        self.threshold = best_threshold\n",
    "\n",
    "        # Store prediction for each split side\n",
    "        left_mask = X[:, self.feature_idx] <= self.threshold\n",
    "        right_mask = ~left_mask\n",
    "\n",
    "        self.left_class = self.most_common_class(y[left_mask])  #LEFT에서 가장 빈출한 클래스\n",
    "        # self.left_class = Counter(y[left_mask]).most_common(1)[0][0]  \n",
    "        self.right_class = self.most_common_class(y[right_mask])  #RIGHT에서 가장 빈출한 클래스\n",
    "        # self.right_class = Counter(y[right_mask]).most_common(1)[0][0]  \n",
    "\n",
    "    def predict(self, X):\n",
    "        '''\n",
    "        Predict class labels for given input X.\n",
    "        '''\n",
    "        # Vectorized prediction using np.where\n",
    "        return np.where(\n",
    "            X[:, self.feature_idx] <= self.threshold,\n",
    "            self.left_class,\n",
    "            self.right_class\n",
    "        )"
   ]
  },
  {
   "cell_type": "code",
   "execution_count": 25,
   "metadata": {},
   "outputs": [
    {
     "name": "stdout",
     "output_type": "stream",
     "text": [
      "Test Inputs:\n",
      "[[5.  1.2]\n",
      " [6.3 4.9]\n",
      " [5.5 2. ]]\n",
      "Predicted Classes:\n",
      "[0 1 1]\n"
     ]
    }
   ],
   "source": [
    "import numpy as np\n",
    "\n",
    "# 예시 데이터 (2차원 특징, 2개의 클래스)\n",
    "# 예: 꽃받침 길이, 꽃잎 길이\n",
    "X = np.array([\n",
    "    [5.1, 1.4],\n",
    "    [4.9, 1.5],\n",
    "    [6.0, 4.5],\n",
    "    [6.1, 4.7],\n",
    "    [5.0, 1.3],\n",
    "    [6.2, 4.6],\n",
    "])\n",
    "\n",
    "# 클래스 라벨 (0 = 작고 짧은 꽃, 1 = 크고 길쭉한 꽃)\n",
    "y = np.array([0, 0, 1, 1, 0, 1])\n",
    "\n",
    "# TinyDecisionTree 클래스는 위에서 이미 정의되어 있다고 가정\n",
    "\n",
    "# 모델 생성 및 학습\n",
    "model = TinyDecisionTree()\n",
    "model.fit(X, y)\n",
    "\n",
    "# 테스트용 입력값\n",
    "X_test = np.array([\n",
    "    [5.0, 1.2],  # 예상: class 0\n",
    "    [6.3, 4.9],  # 예상: class 1\n",
    "    [5.5, 2.0],  # 중간 정도 — threshold에 따라 달라질 수 있음\n",
    "])\n",
    "\n",
    "# 예측 실행\n",
    "predictions = model.predict(X_test)\n",
    "\n",
    "# 결과 출력\n",
    "print(\"Test Inputs:\")\n",
    "print(X_test)\n",
    "print(\"Predicted Classes:\")\n",
    "print(predictions)"
   ]
  },
  {
   "cell_type": "code",
   "execution_count": 26,
   "metadata": {},
   "outputs": [
    {
     "data": {
      "image/png": "[encoded data removed]",
      "text/plain": [
       "<Figure size 800x600 with 1 Axes>"
      ]
     },
     "metadata": {},
     "output_type": "display_data"
    }
   ],
   "source": [
    "# 학습된 TinyDecisionTree 모델이 기준으로 하는 결정경계를 시각화하는 코드\n",
    "\n",
    "def plot_decision_boundary(model, X, y):\n",
    "    from matplotlib.colors import ListedColormap\n",
    "    import matplotlib.pyplot as plt\n",
    "\n",
    "    cmap_bg = ListedColormap(['#FFAAAA', '#AAAAFF'])  # 배경색: class 0 / class 1\n",
    "    cmap_pts = ListedColormap(['#FF0000', '#0000FF'])  # 점 색: class 0 / class 1\n",
    "\n",
    "    x_min, x_max = X[:, 0].min() - 0.2, X[:, 0].max() + 0.2\n",
    "    y_min, y_max = X[:, 1].min() - 0.2, X[:, 1].max() + 0.2\n",
    "    xx, yy = np.meshgrid(np.linspace(x_min, x_max, 300),\n",
    "                         np.linspace(y_min, y_max, 300))\n",
    "\n",
    "    # 평면상의 모든 점에 대해 예측\n",
    "    grid = np.c_[xx.ravel(), yy.ravel()]\n",
    "    Z = model.predict(grid).reshape(xx.shape)\n",
    "\n",
    "    plt.figure(figsize=(8, 6))\n",
    "    plt.contourf(xx, yy, Z, cmap=cmap_bg, alpha=0.4)\n",
    "    plt.scatter(X[:, 0], X[:, 1], c=y, cmap=cmap_pts, edgecolor='k', s=100)\n",
    "    plt.title(f\"Decision Boundary (Feature {model.feature_idx}, Threshold = {model.threshold:.2f})\")\n",
    "    plt.xlabel(\"Feature 0\")\n",
    "    plt.ylabel(\"Feature 1\")\n",
    "    plt.grid(True)\n",
    "    plt.show()\n",
    "\n",
    "# 위에서 사용한 학습 데이터 기준으로 다시 그림\n",
    "plot_decision_boundary(model, X, y)"
   ]
  },
  {
   "cell_type": "markdown",
   "metadata": {},
   "source": [
    "# 1. Recursive Decision Tree\n",
    "    - 사용자가 지정한 깊이까지만 재귀적으로 분기 가능\n",
    "    - 예: max_depth=2면 → 루트에서 한 번 분기 → 그 하위에서 또 한 번 분기\n",
    "    - max_depth=1이면 → 지금의 TinyDecisionTree와 동일한 1-depth 트리"
   ]
  },
  {
   "cell_type": "code",
   "execution_count": null,
   "metadata": {},
   "outputs": [],
   "source": [
    "import numpy as np\n",
    "from collections import Counter\n",
    "\n",
    "class RecursiveDecisionTree:\n",
    "    def __init__(self, depth=0, max_depth=1):\n",
    "        '''\n",
    "        Initialize a tree node with depth control.\n",
    "        '''\n",
    "        self.depth = depth                    # Current depth of the node\n",
    "        self.max_depth = max_depth            # Maximum allowable depth\n",
    "        self.feature_idx = None               # Feature index to split on\n",
    "        self.threshold = None                 # Threshold value for split\n",
    "        self.left = None                      # Left child node\n",
    "        self.right = None                     # Right child node\n",
    "        self.predicted_class = None           # Prediction stored at leaf node\n",
    "        self.class_counts = None              # Class counts at leaf node for predict_proba\n",
    "\n",
    "    def gini(self, labels):\n",
    "        '''\n",
    "        Compute Gini impurity for a list of class labels.\n",
    "        '''\n",
    "        counts = Counter(labels)              # Count occurrences of each class\n",
    "        total = sum(counts.values())\n",
    "        probs = [count / total for count in counts.values()]  # Convert to probabilities\n",
    "        return 1.0 - sum(p ** 2 for p in probs)  # Gini impurity formula\n",
    "\n",
    "    def most_common_class(self, labels):\n",
    "        '''\n",
    "        Return the most frequent class label from the input.\n",
    "        '''\n",
    "        return Counter(labels).most_common(1)[0][0]\n",
    "\n",
    "    def fit(self, X, y):\n",
    "        '''\n",
    "        Recursively fit the decision tree using best Gini split, stopping at max_depth.\n",
    "        '''\n",
    "        if self.depth >= self.max_depth or len(set(y)) == 1:\n",
    "            # Stopping condition: max depth reached or labels are pure\n",
    "            self.predicted_class = self.most_common_class(y)\n",
    "            self.class_counts = Counter(y)  # Save counts for proba calculation\n",
    "            return\n",
    "\n",
    "        best_gini = 1.0\n",
    "        best_feature = None\n",
    "        best_threshold = None\n",
    "\n",
    "        # Iterate through all features and thresholds to find best split\n",
    "        for feature_idx in range(X.shape[1]):\n",
    "            thresholds = np.unique(X[:, feature_idx])\n",
    "            for threshold in thresholds:\n",
    "                left_mask = X[:, feature_idx] <= threshold\n",
    "                right_mask = ~left_mask\n",
    "\n",
    "                left_y = y[left_mask]\n",
    "                right_y = y[right_mask]\n",
    "\n",
    "                if len(left_y) == 0 or len(right_y) == 0:\n",
    "                    continue  # Skip invalid split\n",
    "\n",
    "                gini_left = self.gini(left_y)\n",
    "                gini_right = self.gini(right_y)\n",
    "\n",
    "                weighted_gini = (len(left_y) / len(y)) * gini_left + \\\n",
    "                                 (len(right_y) / len(y)) * gini_right\n",
    "\n",
    "                # Update best split if this is better\n",
    "                if weighted_gini < best_gini:\n",
    "                    best_gini = weighted_gini\n",
    "                    best_feature = feature_idx\n",
    "                    best_threshold = threshold\n",
    "\n",
    "        if best_feature is None:\n",
    "            # No valid split found; become a leaf node\n",
    "            self.predicted_class = self.most_common_class(y)\n",
    "            self.class_counts = Counter(y)\n",
    "            return\n",
    "\n",
    "        # Save the best split found\n",
    "        self.feature_idx = best_feature\n",
    "        self.threshold = best_threshold\n",
    "\n",
    "        # Split the data and create child nodes\n",
    "        left_mask = X[:, self.feature_idx] <= self.threshold\n",
    "        right_mask = ~left_mask\n",
    "\n",
    "        # 각 서브그룹에 대해 새로운 TreeNode를 생성하고 재귀적으로 분기\n",
    "        self.left = RecursiveDecisionTree(depth=self.depth + 1, max_depth=self.max_depth)\n",
    "        self.left.fit(X[left_mask], y[left_mask])\n",
    "\n",
    "        self.right = RecursiveDecisionTree(depth=self.depth + 1, max_depth=self.max_depth)\n",
    "        self.right.fit(X[right_mask], y[right_mask])\n",
    "\n",
    "    def predict_one(self, x):\n",
    "        '''\n",
    "        Predict a single sample x by traversing the tree.\n",
    "        '''\n",
    "        if self.predicted_class is not None:\n",
    "            return self.predicted_class  # Leaf node\n",
    "        if x[self.feature_idx] <= self.threshold:\n",
    "            return self.left.predict_one(x)  # Traverse left\n",
    "        else:\n",
    "            return self.right.predict_one(x)  # Traverse right\n",
    "\n",
    "    def predict(self, X):\n",
    "        '''\n",
    "        Predict labels for a batch of samples.\n",
    "        '''\n",
    "        return np.array([self.predict_one(x) for x in X])\n",
    "\n",
    "    def predict_proba_one(self, x):\n",
    "        '''\n",
    "        Return class probability distribution for one sample.\n",
    "        '''\n",
    "        if self.predicted_class is not None:\n",
    "            total = sum(self.class_counts.values())\n",
    "            return {cls: count / total for cls, count in self.class_counts.items()}\n",
    "        if x[self.feature_idx] <= self.threshold:\n",
    "            return self.left.predict_proba_one(x)\n",
    "        else:\n",
    "            return self.right.predict_proba_one(x)\n",
    "\n",
    "    def predict_proba(self, X):\n",
    "        '''\n",
    "        Return class probabilities for a batch of samples.\n",
    "        '''\n",
    "        return [self.predict_proba_one(x) for x in X]"
   ]
  },
  {
   "cell_type": "code",
   "execution_count": 29,
   "metadata": {},
   "outputs": [
    {
     "name": "stdout",
     "output_type": "stream",
     "text": [
      "(120, 4) (30, 4)\n",
      "Predicted Classes:\n",
      "[1 0 2 1 2 0 1 2 1 1 2 0 0 0 0 1 2 1 1 2 0 2 0 2 2 2 2 2 0 0]\n",
      "\n",
      "Predicted Probabilities:\n",
      "Sample 0: {1: 1.0}\n",
      "Sample 1: {0: 1.0}\n",
      "Sample 2: {2: 0.9714285714285714, 1: 0.02857142857142857}\n",
      "Sample 3: {1: 1.0}\n",
      "Sample 4: {2: 0.5, 1: 0.5}\n",
      "Sample 5: {0: 1.0}\n",
      "Sample 6: {1: 1.0}\n",
      "Sample 7: {2: 0.9714285714285714, 1: 0.02857142857142857}\n",
      "Sample 8: {1: 1.0}\n",
      "Sample 9: {1: 1.0}\n",
      "Sample 10: {2: 0.9714285714285714, 1: 0.02857142857142857}\n",
      "Sample 11: {0: 1.0}\n",
      "Sample 12: {0: 1.0}\n",
      "Sample 13: {0: 1.0}\n",
      "Sample 14: {0: 1.0}\n",
      "Sample 15: {1: 1.0}\n",
      "Sample 16: {2: 0.9714285714285714, 1: 0.02857142857142857}\n",
      "Sample 17: {1: 1.0}\n",
      "Sample 18: {1: 1.0}\n",
      "Sample 19: {2: 0.9714285714285714, 1: 0.02857142857142857}\n",
      "Sample 20: {0: 1.0}\n",
      "Sample 21: {2: 0.9714285714285714, 1: 0.02857142857142857}\n",
      "Sample 22: {0: 1.0}\n",
      "Sample 23: {2: 0.9714285714285714, 1: 0.02857142857142857}\n",
      "Sample 24: {2: 0.9714285714285714, 1: 0.02857142857142857}\n",
      "Sample 25: {2: 0.9714285714285714, 1: 0.02857142857142857}\n",
      "Sample 26: {2: 0.9714285714285714, 1: 0.02857142857142857}\n",
      "Sample 27: {2: 0.9714285714285714, 1: 0.02857142857142857}\n",
      "Sample 28: {0: 1.0}\n",
      "Sample 29: {0: 1.0}\n",
      "Accuracy: 0.9666666666666667\n"
     ]
    }
   ],
   "source": [
    "from sklearn.datasets import load_iris\n",
    "from sklearn.model_selection import train_test_split\n",
    "import numpy as np\n",
    "\n",
    "# 1. 데이터 불러오기\n",
    "iris = load_iris()\n",
    "X = iris.data               # (150, 4): 꽃받침 길이, 꽃잎 길이 등 4개의 피처\n",
    "y = iris.target             # 클래스: 0=setosa, 1=versicolor, 2=virginica\n",
    "\n",
    "# 2. 학습/테스트 나누기\n",
    "X_train, X_test, y_train, y_test = train_test_split(\n",
    "    X, y, test_size=0.2, random_state=42\n",
    ")\n",
    "print(X_train.shape, X_test.shape)  # 확인용\n",
    "\n",
    "# 3. 모델 학습\n",
    "tree = RecursiveDecisionTree(max_depth=3)\n",
    "tree.fit(X_train, y_train)\n",
    "\n",
    "# 4. 예측 및 확률 출력\n",
    "y_pred = tree.predict(X_test)\n",
    "y_proba = tree.predict_proba(X_test)\n",
    "\n",
    "# 5. 결과 출력\n",
    "print(\"Predicted Classes:\")\n",
    "print(y_pred)\n",
    "print(\"\\nPredicted Probabilities:\")\n",
    "for i, prob in enumerate(y_proba):\n",
    "    print(f\"Sample {i}: {prob}\")\n",
    "\n",
    "from sklearn.metrics import accuracy_score\n",
    "\n",
    "print(\"Accuracy:\", accuracy_score(y_test, y_pred))    "
   ]
  },
  {
   "cell_type": "code",
   "execution_count": null,
   "metadata": {},
   "outputs": [],
   "source": []
  },
  {
   "cell_type": "code",
   "execution_count": null,
   "metadata": {},
   "outputs": [],
   "source": []
  },
  {
   "cell_type": "code",
   "execution_count": null,
   "metadata": {},
   "outputs": [],
   "source": []
  },
  {
   "cell_type": "code",
   "execution_count": null,
   "metadata": {},
   "outputs": [],
   "source": []
  },
  {
   "cell_type": "markdown",
   "metadata": {},
   "source": [
    "## 1. 노드 클래스 구현\n",
    "\n",
    "결정 트리는 노드들의 계층 구조로 이루어져 있습니다. 각 노드는 트리의 기본 구성 요소입니다.\n",
    "\n",
    "### 1.1 노드의 기본 구조\n",
    "\n",
    "노드는 다음과 같은 기본 정보를 저장해야 합니다:\n",
    "\n",
    "- `feature_idx`: 분할에 사용된 특성의 인덱스\n",
    "- `threshold`: 분할 기준값\n",
    "- `left`: 왼쪽 자식 노드 (feature_value <= threshold인 경우)\n",
    "- `right`: 오른쪽 자식 노드 (feature_value > threshold인 경우)\n",
    "- `is_leaf`: 리프 노드 여부"
   ]
  },
  {
   "cell_type": "code",
   "execution_count": null,
   "metadata": {},
   "outputs": [
    {
     "name": "stdout",
     "output_type": "stream",
     "text": [
      "[0.18181818181818182, 0.2727272727272727, 0.5454545454545454] 0.5950413223140496\n"
     ]
    }
   ],
   "source": [
    "# import numpy as np\n",
    "\n",
    "# y = np.array([0, 1, 1, 0, 2, 1, 2, 2, 2, 2, 2])\n",
    "\n",
    "# counts = np.bincount(y)\n",
    "# print(counts)  # 출력: [2 3 4]\n",
    "\n",
    "# probs = counts / counts.sum()\n",
    "# print(probs) \n",
    "\n",
    "# # gini impurity \n",
    "# gini_impurity = 1.0 - np.sum(probs ** 2)\n",
    "# print(gini_impurity)\n",
    "\n",
    "from collections import Counter\n",
    "\n",
    "total = len(y)\n",
    "counts = Counter(y)\n",
    "# print(total, counts)\n",
    "\n",
    "# compute class probs\n",
    "probs = [count / total for count in counts.values()]\n",
    "\n",
    "# compute gini impurity \n",
    "# Formula: Gini = 1 - sum(p_i^2), where p_i is the proportion of each class\n",
    "impurity = 1.0 - sum(p ** 2 for p in probs)\n",
    "\n",
    "\n",
    "print(probs, impurity)"
   ]
  },
  {
   "cell_type": "code",
   "execution_count": null,
   "metadata": {},
   "outputs": [],
   "source": []
  },
  {
   "cell_type": "code",
   "execution_count": null,
   "metadata": {},
   "outputs": [],
   "source": []
  },
  {
   "cell_type": "code",
   "execution_count": null,
   "metadata": {},
   "outputs": [],
   "source": []
  },
  {
   "cell_type": "markdown",
   "metadata": {},
   "source": [
    "### 1.2 예측 관련 정보\n",
    "\n",
    "노드가 예측에 사용할 정보도 저장해야 합니다:\n",
    "\n",
    "- `value`: 노드의 예측값 (리프 노드인 경우)\n",
    "- `class_distribution`: 분류 문제에서 클래스별 샘플 수 (Counter 객체 등)\n",
    "- `n_samples`: 해당 노드에 도달한 샘플 수"
   ]
  },
  {
   "cell_type": "code",
   "execution_count": null,
   "metadata": {},
   "outputs": [],
   "source": [
    "class DecisionTree()"
   ]
  },
  {
   "cell_type": "code",
   "execution_count": null,
   "metadata": {},
   "outputs": [],
   "source": []
  },
  {
   "cell_type": "markdown",
   "metadata": {},
   "source": [
    "## 2. 분할 기준 함수 구현\n",
    "\n",
    "트리의 각 노드에서는 데이터를 분할하는 기준이 필요합니다. 분류 문제에서는 주로 엔트로피와 지니 불순도를, 회귀 문제에서는 MSE(평균 제곱 오차)를 사용합니다.\n",
    "\n",
    "### 2.1 엔트로피(Entropy) 계산\n",
    "\n",
    "엔트로피는 데이터의 무질서도를 측정하는 지표로, 다음 수식으로 계산합니다:\n",
    "\n",
    "$$H(S) = -\\sum_{i=1}^{c} p_i \\log_2 p_i$$\n",
    "\n",
    "여기서 $p_i$는 클래스 $i$의 비율입니다.\n",
    "\n",
    "아래 셀에 엔트로피 계산 함수를 구현해보세요."
   ]
  },
  {
   "cell_type": "code",
   "execution_count": null,
   "metadata": {},
   "outputs": [],
   "source": []
  },
  {
   "cell_type": "markdown",
   "metadata": {},
   "source": [
    "### 2.2 지니 불순도(Gini Impurity) 계산\n",
    "\n",
    "지니 불순도는 무작위로 선택한 샘플이 잘못 분류될 확률로, 다음 수식으로 계산합니다:\n",
    "\n",
    "$$G(S) = 1 - \\sum_{i=1}^{c} p_i^2$$\n",
    "\n",
    "여기서 $p_i$는 클래스 $i$의 비율입니다.\n",
    "\n",
    "아래 셀에 지니 불순도 계산 함수를 구현해보세요."
   ]
  },
  {
   "cell_type": "code",
   "execution_count": null,
   "metadata": {},
   "outputs": [],
   "source": []
  },
  {
   "cell_type": "markdown",
   "metadata": {},
   "source": [
    "### 2.3 MSE(Mean Squared Error) 계산\n",
    "\n",
    "회귀 문제에서는 주로 MSE를 사용하여 분할의 품질을 평가합니다:\n",
    "\n",
    "$$MSE = \\frac{1}{n} \\sum_{i=1}^{n} (y_i - \\bar{y})^2$$\n",
    "\n",
    "여기서 $y_i$는 실제 타겟값이고, $\\bar{y}$는 타겟값의 평균입니다.\n",
    "\n",
    "아래 셀에 MSE 계산 함수를 구현해보세요."
   ]
  },
  {
   "cell_type": "code",
   "execution_count": null,
   "metadata": {},
   "outputs": [],
   "source": []
  },
  {
   "cell_type": "markdown",
   "metadata": {},
   "source": [
    "### 2.4 정보 이득(Information Gain) 계산\n",
    "\n",
    "정보 이득은 분할 전후의 엔트로피 차이로, 다음 수식으로 계산합니다:\n",
    "\n",
    "$$IG(S, A) = H(S) - \\sum_{v \\in Values(A)} \\frac{|S_v|}{|S|} H(S_v)$$\n",
    "\n",
    "여기서 $H(S)$는 분할 전 데이터셋 $S$의 엔트로피이고, $S_v$는 특성 $A$가 값 $v$를 가지는 샘플들의 부분집합입니다.\n",
    "\n",
    "아래 셀에 정보 이득 계산 함수를 구현해보세요."
   ]
  },
  {
   "cell_type": "code",
   "execution_count": null,
   "metadata": {},
   "outputs": [],
   "source": []
  },
  {
   "cell_type": "markdown",
   "metadata": {},
   "source": [
    "## 3. 최적 분할 지점 찾기\n",
    "\n",
    "노드에서 데이터를 분할할 때는 가능한 모든 특성과 분할 지점을 고려하여 정보 이득이 최대화되는 조합을 찾아야 합니다.\n",
    "\n",
    "아래 셀에 최적 분할 지점을 찾는 함수를 구현해보세요."
   ]
  },
  {
   "cell_type": "code",
   "execution_count": null,
   "metadata": {},
   "outputs": [],
   "source": []
  },
  {
   "cell_type": "markdown",
   "metadata": {},
   "source": [
    "## 4. 결정 트리 클래스 구현\n",
    "\n",
    "이제 위에서 구현한 함수들을 활용하여 결정 트리 클래스를 구현해보겠습니다. 이 클래스는 다음 메서드를 포함해야 합니다:\n",
    "\n",
    "- `fit`: 훈련 데이터로부터 트리를 학습\n",
    "- `predict`: 학습된 트리를 사용하여 예측\n",
    "- `_grow_tree`: 재귀적으로 트리를 성장시키는 내부 메서드\n",
    "\n",
    "아래 셀에 결정 트리 클래스를 구현해보세요."
   ]
  },
  {
   "cell_type": "code",
   "execution_count": null,
   "metadata": {},
   "outputs": [],
   "source": []
  },
  {
   "cell_type": "markdown",
   "metadata": {},
   "source": [
    "## 5. 결정 트리 평가\n",
    "\n",
    "구현한 결정 트리를 실제 데이터셋에 적용하고 성능을 평가해보겠습니다.\n",
    "\n",
    "### 5.1 분류 문제\n",
    "\n",
    "먼저 Iris 데이터셋을 사용하여 분류 문제에 대한 결정 트리 성능을 평가해보겠습니다."
   ]
  },
  {
   "cell_type": "code",
   "execution_count": null,
   "metadata": {},
   "outputs": [],
   "source": []
  },
  {
   "cell_type": "markdown",
   "metadata": {},
   "source": [
    "### 5.2 회귀 문제\n",
    "\n",
    "다음으로 Boston Housing 데이터셋을 사용하여 회귀 문제에 대한 결정 트리 성능을 평가해보겠습니다."
   ]
  },
  {
   "cell_type": "code",
   "execution_count": null,
   "metadata": {},
   "outputs": [],
   "source": []
  },
  {
   "cell_type": "markdown",
   "metadata": {},
   "source": [
    "## 6. 트리 시각화\n",
    "\n",
    "학습된 결정 트리를 시각화하는 함수를 구현해보겠습니다."
   ]
  },
  {
   "cell_type": "code",
   "execution_count": null,
   "metadata": {},
   "outputs": [],
   "source": []
  },
  {
   "cell_type": "markdown",
   "metadata": {},
   "source": [
    "## 7. 가지치기(Pruning)\n",
    "\n",
    "과적합을 방지하기 위한 가지치기 알고리즘을 구현해보겠습니다. 비용-복잡도 가지치기(Cost-Complexity Pruning) 방법을 사용할 것입니다."
   ]
  },
  {
   "cell_type": "code",
   "execution_count": null,
   "metadata": {},
   "outputs": [],
   "source": []
  },
  {
   "cell_type": "markdown",
   "metadata": {},
   "source": [
    "## 8. 앙상블 방법 \n",
    "\n",
    "기본 결정 트리를 확장하여 랜덤 포레스트와 같은 앙상블 방법을 구현해보겠습니다."
   ]
  },
  {
   "cell_type": "code",
   "execution_count": null,
   "metadata": {},
   "outputs": [],
   "source": []
  },
  {
   "cell_type": "markdown",
   "metadata": {},
   "source": [
    "## 9. 결론 및 개선 방향\n",
    "\n",
    "이 노트북에서 구현한 결정 트리의 장단점을 분석하고, 개선 방향을 논의해보겠습니다."
   ]
  },
  {
   "cell_type": "markdown",
   "metadata": {},
   "source": []
  }
 ],
 "metadata": {
  "kernelspec": {
   "display_name": ".venv",
   "language": "python",
   "name": "python3"
  },
  "language_info": {
   "codemirror_mode": {
    "name": "ipython",
    "version": 3
   },
   "file_extension": ".py",
   "mimetype": "text/x-python",
   "name": "python",
   "nbconvert_exporter": "python",
   "pygments_lexer": "ipython3",
   "version": "3.8.10"
  }
 },
 "nbformat": 4,
 "nbformat_minor": 4
}
