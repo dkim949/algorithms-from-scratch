{
 "cells": [
  {
   "cell_type": "code",
   "execution_count": 1,
   "metadata": {},
   "outputs": [
    {
     "name": "stdout",
     "output_type": "stream",
     "text": [
      "GPU 사용 가능: NVIDIA GeForce RTX 4070 Ti\n",
      "CUDA 버전: 11.8\n",
      "\n",
      "60초 동안 GPU 부하 테스트를 실행합니다...\n",
      "\n",
      "GPU 부하 테스트 시작...\n",
      "\n",
      "반복 1: 텐서 크기 5000x5000 사용 중 (남은 시간: 60초)\n",
      "행렬 곱셈 수행 중...\n",
      "결과 샘플: 122.5649\n",
      "GPU 메모리: 할당됨 0.48 GB, 예약됨 0.58 GB\n",
      "\n",
      "반복 2: 텐서 크기 8000x8000 사용 중 (남은 시간: 58초)\n",
      "행렬 곱셈 수행 중...\n",
      "결과 샘플: -68.3077\n",
      "GPU 메모리: 할당됨 1.20 GB, 예약됨 1.46 GB\n",
      "\n",
      "반복 3: 텐서 크기 10000x10000 사용 중 (남은 시간: 57초)\n",
      "행렬 곱셈 수행 중...\n",
      "결과 샘플: -131.5038\n",
      "GPU 메모리: 할당됨 1.87 GB, 예약됨 2.26 GB\n",
      "\n",
      "반복 4: 텐서 크기 12000x12000 사용 중 (남은 시간: 56초)\n",
      "행렬 곱셈 수행 중...\n",
      "결과 샘플: -142.6721\n",
      "GPU 메모리: 할당됨 2.69 GB, 예약됨 3.24 GB\n",
      "\n",
      "반복 5: 텐서 크기 5000x5000 사용 중 (남은 시간: 55초)\n",
      "행렬 곱셈 수행 중...\n",
      "결과 샘플: -18.9555\n",
      "GPU 메모리: 할당됨 0.48 GB, 예약됨 0.58 GB\n",
      "\n",
      "반복 6: 텐서 크기 8000x8000 사용 중 (남은 시간: 54초)\n",
      "행렬 곱셈 수행 중...\n",
      "결과 샘플: 61.9152\n",
      "GPU 메모리: 할당됨 1.20 GB, 예약됨 1.46 GB\n",
      "\n",
      "반복 7: 텐서 크기 10000x10000 사용 중 (남은 시간: 53초)\n",
      "행렬 곱셈 수행 중...\n",
      "결과 샘플: 131.8719\n",
      "GPU 메모리: 할당됨 1.87 GB, 예약됨 2.26 GB\n",
      "\n",
      "반복 8: 텐서 크기 12000x12000 사용 중 (남은 시간: 52초)\n",
      "행렬 곱셈 수행 중...\n",
      "결과 샘플: -30.3713\n",
      "GPU 메모리: 할당됨 2.69 GB, 예약됨 3.24 GB\n",
      "\n",
      "반복 9: 텐서 크기 5000x5000 사용 중 (남은 시간: 50초)\n",
      "행렬 곱셈 수행 중...\n",
      "결과 샘플: -2.1654\n",
      "GPU 메모리: 할당됨 0.48 GB, 예약됨 0.58 GB\n",
      "\n",
      "반복 10: 텐서 크기 8000x8000 사용 중 (남은 시간: 49초)\n",
      "행렬 곱셈 수행 중...\n",
      "결과 샘플: -61.4343\n",
      "GPU 메모리: 할당됨 1.20 GB, 예약됨 1.46 GB\n",
      "\n",
      "반복 11: 텐서 크기 10000x10000 사용 중 (남은 시간: 48초)\n",
      "행렬 곱셈 수행 중...\n",
      "결과 샘플: -171.6003\n",
      "GPU 메모리: 할당됨 1.87 GB, 예약됨 2.26 GB\n",
      "\n",
      "반복 12: 텐서 크기 12000x12000 사용 중 (남은 시간: 47초)\n",
      "행렬 곱셈 수행 중...\n",
      "결과 샘플: -169.7252\n",
      "GPU 메모리: 할당됨 2.69 GB, 예약됨 3.24 GB\n",
      "\n",
      "반복 13: 텐서 크기 5000x5000 사용 중 (남은 시간: 46초)\n",
      "행렬 곱셈 수행 중...\n",
      "결과 샘플: -72.9159\n",
      "GPU 메모리: 할당됨 0.48 GB, 예약됨 0.58 GB\n",
      "\n",
      "반복 14: 텐서 크기 8000x8000 사용 중 (남은 시간: 45초)\n",
      "행렬 곱셈 수행 중...\n",
      "결과 샘플: 134.5836\n",
      "GPU 메모리: 할당됨 1.20 GB, 예약됨 1.46 GB\n",
      "\n",
      "반복 15: 텐서 크기 10000x10000 사용 중 (남은 시간: 44초)\n",
      "행렬 곱셈 수행 중...\n",
      "결과 샘플: -5.8410\n",
      "GPU 메모리: 할당됨 1.87 GB, 예약됨 2.26 GB\n",
      "\n",
      "반복 16: 텐서 크기 12000x12000 사용 중 (남은 시간: 42초)\n",
      "행렬 곱셈 수행 중...\n",
      "결과 샘플: 30.7319\n",
      "GPU 메모리: 할당됨 2.69 GB, 예약됨 3.24 GB\n",
      "\n",
      "반복 17: 텐서 크기 5000x5000 사용 중 (남은 시간: 41초)\n",
      "행렬 곱셈 수행 중...\n",
      "결과 샘플: -9.9381\n",
      "GPU 메모리: 할당됨 0.48 GB, 예약됨 0.58 GB\n",
      "\n",
      "반복 18: 텐서 크기 8000x8000 사용 중 (남은 시간: 40초)\n",
      "행렬 곱셈 수행 중...\n",
      "결과 샘플: -121.4544\n",
      "GPU 메모리: 할당됨 1.20 GB, 예약됨 1.46 GB\n",
      "\n",
      "반복 19: 텐서 크기 10000x10000 사용 중 (남은 시간: 39초)\n",
      "행렬 곱셈 수행 중...\n",
      "결과 샘플: 90.4175\n",
      "GPU 메모리: 할당됨 1.87 GB, 예약됨 2.26 GB\n",
      "\n",
      "반복 20: 텐서 크기 12000x12000 사용 중 (남은 시간: 38초)\n",
      "행렬 곱셈 수행 중...\n",
      "결과 샘플: -48.5966\n",
      "GPU 메모리: 할당됨 2.69 GB, 예약됨 3.24 GB\n",
      "\n",
      "반복 21: 텐서 크기 5000x5000 사용 중 (남은 시간: 36초)\n",
      "행렬 곱셈 수행 중...\n",
      "결과 샘플: -99.0251\n",
      "GPU 메모리: 할당됨 0.48 GB, 예약됨 0.58 GB\n",
      "\n",
      "반복 22: 텐서 크기 8000x8000 사용 중 (남은 시간: 35초)\n",
      "행렬 곱셈 수행 중...\n",
      "결과 샘플: -94.2358\n",
      "GPU 메모리: 할당됨 1.20 GB, 예약됨 1.46 GB\n",
      "\n",
      "반복 23: 텐서 크기 10000x10000 사용 중 (남은 시간: 34초)\n",
      "행렬 곱셈 수행 중...\n",
      "결과 샘플: 127.2272\n",
      "GPU 메모리: 할당됨 1.87 GB, 예약됨 2.26 GB\n",
      "\n",
      "반복 24: 텐서 크기 12000x12000 사용 중 (남은 시간: 33초)\n",
      "행렬 곱셈 수행 중...\n",
      "결과 샘플: 83.6726\n",
      "GPU 메모리: 할당됨 2.69 GB, 예약됨 3.24 GB\n",
      "\n",
      "반복 25: 텐서 크기 5000x5000 사용 중 (남은 시간: 32초)\n",
      "행렬 곱셈 수행 중...\n",
      "결과 샘플: -45.5549\n",
      "GPU 메모리: 할당됨 0.48 GB, 예약됨 0.58 GB\n",
      "\n",
      "반복 26: 텐서 크기 8000x8000 사용 중 (남은 시간: 31초)\n",
      "행렬 곱셈 수행 중...\n",
      "결과 샘플: 18.8316\n",
      "GPU 메모리: 할당됨 1.20 GB, 예약됨 1.46 GB\n",
      "\n",
      "반복 27: 텐서 크기 10000x10000 사용 중 (남은 시간: 30초)\n",
      "행렬 곱셈 수행 중...\n",
      "결과 샘플: -130.8869\n",
      "GPU 메모리: 할당됨 1.87 GB, 예약됨 2.26 GB\n",
      "\n",
      "반복 28: 텐서 크기 12000x12000 사용 중 (남은 시간: 28초)\n",
      "행렬 곱셈 수행 중...\n",
      "결과 샘플: -14.0832\n",
      "GPU 메모리: 할당됨 2.69 GB, 예약됨 3.24 GB\n",
      "\n",
      "반복 29: 텐서 크기 5000x5000 사용 중 (남은 시간: 27초)\n",
      "행렬 곱셈 수행 중...\n",
      "결과 샘플: 30.7888\n",
      "GPU 메모리: 할당됨 0.48 GB, 예약됨 0.58 GB\n",
      "\n",
      "반복 30: 텐서 크기 8000x8000 사용 중 (남은 시간: 26초)\n",
      "행렬 곱셈 수행 중...\n",
      "결과 샘플: -55.5788\n",
      "GPU 메모리: 할당됨 1.20 GB, 예약됨 1.46 GB\n",
      "\n",
      "반복 31: 텐서 크기 10000x10000 사용 중 (남은 시간: 25초)\n",
      "행렬 곱셈 수행 중...\n",
      "결과 샘플: -44.5342\n",
      "GPU 메모리: 할당됨 1.87 GB, 예약됨 2.26 GB\n",
      "\n",
      "반복 32: 텐서 크기 12000x12000 사용 중 (남은 시간: 24초)\n",
      "행렬 곱셈 수행 중...\n",
      "결과 샘플: -19.4776\n",
      "GPU 메모리: 할당됨 2.69 GB, 예약됨 3.24 GB\n",
      "\n",
      "반복 33: 텐서 크기 5000x5000 사용 중 (남은 시간: 23초)\n",
      "행렬 곱셈 수행 중...\n",
      "결과 샘플: -71.8712\n",
      "GPU 메모리: 할당됨 0.48 GB, 예약됨 0.58 GB\n",
      "\n",
      "반복 34: 텐서 크기 8000x8000 사용 중 (남은 시간: 22초)\n",
      "행렬 곱셈 수행 중...\n",
      "결과 샘플: -59.7256\n",
      "GPU 메모리: 할당됨 1.20 GB, 예약됨 1.46 GB\n",
      "\n",
      "반복 35: 텐서 크기 10000x10000 사용 중 (남은 시간: 20초)\n",
      "행렬 곱셈 수행 중...\n",
      "결과 샘플: 38.4719\n",
      "GPU 메모리: 할당됨 1.87 GB, 예약됨 2.26 GB\n",
      "\n",
      "반복 36: 텐서 크기 12000x12000 사용 중 (남은 시간: 19초)\n",
      "행렬 곱셈 수행 중...\n",
      "결과 샘플: -8.5099\n",
      "GPU 메모리: 할당됨 2.69 GB, 예약됨 3.24 GB\n",
      "\n",
      "반복 37: 텐서 크기 5000x5000 사용 중 (남은 시간: 18초)\n",
      "행렬 곱셈 수행 중...\n",
      "결과 샘플: -98.6200\n",
      "GPU 메모리: 할당됨 0.48 GB, 예약됨 0.58 GB\n",
      "\n",
      "반복 38: 텐서 크기 8000x8000 사용 중 (남은 시간: 17초)\n",
      "행렬 곱셈 수행 중...\n",
      "결과 샘플: -204.6470\n",
      "GPU 메모리: 할당됨 1.20 GB, 예약됨 1.46 GB\n",
      "\n",
      "반복 39: 텐서 크기 10000x10000 사용 중 (남은 시간: 16초)\n",
      "행렬 곱셈 수행 중...\n",
      "결과 샘플: 32.2953\n",
      "GPU 메모리: 할당됨 1.87 GB, 예약됨 2.26 GB\n",
      "\n",
      "반복 40: 텐서 크기 12000x12000 사용 중 (남은 시간: 15초)\n",
      "행렬 곱셈 수행 중...\n",
      "결과 샘플: 164.5621\n",
      "GPU 메모리: 할당됨 2.69 GB, 예약됨 3.24 GB\n",
      "\n",
      "반복 41: 텐서 크기 5000x5000 사용 중 (남은 시간: 13초)\n",
      "행렬 곱셈 수행 중...\n",
      "결과 샘플: -18.4772\n",
      "GPU 메모리: 할당됨 0.48 GB, 예약됨 0.58 GB\n",
      "\n",
      "반복 42: 텐서 크기 8000x8000 사용 중 (남은 시간: 12초)\n",
      "행렬 곱셈 수행 중...\n",
      "결과 샘플: 149.3728\n",
      "GPU 메모리: 할당됨 1.20 GB, 예약됨 1.46 GB\n",
      "\n",
      "반복 43: 텐서 크기 10000x10000 사용 중 (남은 시간: 11초)\n",
      "행렬 곱셈 수행 중...\n",
      "결과 샘플: 265.1139\n",
      "GPU 메모리: 할당됨 1.87 GB, 예약됨 2.26 GB\n",
      "\n",
      "반복 44: 텐서 크기 12000x12000 사용 중 (남은 시간: 10초)\n",
      "행렬 곱셈 수행 중...\n",
      "결과 샘플: -114.9521\n",
      "GPU 메모리: 할당됨 2.69 GB, 예약됨 3.24 GB\n",
      "\n",
      "반복 45: 텐서 크기 5000x5000 사용 중 (남은 시간: 9초)\n",
      "행렬 곱셈 수행 중...\n",
      "결과 샘플: 10.7878\n",
      "GPU 메모리: 할당됨 0.48 GB, 예약됨 0.58 GB\n",
      "\n",
      "반복 46: 텐서 크기 8000x8000 사용 중 (남은 시간: 8초)\n",
      "행렬 곱셈 수행 중...\n",
      "결과 샘플: -162.8211\n",
      "GPU 메모리: 할당됨 1.20 GB, 예약됨 1.46 GB\n",
      "\n",
      "반복 47: 텐서 크기 10000x10000 사용 중 (남은 시간: 7초)\n",
      "행렬 곱셈 수행 중...\n",
      "결과 샘플: 101.4382\n",
      "GPU 메모리: 할당됨 1.87 GB, 예약됨 2.26 GB\n",
      "\n",
      "반복 48: 텐서 크기 12000x12000 사용 중 (남은 시간: 5초)\n",
      "행렬 곱셈 수행 중...\n",
      "결과 샘플: 39.2403\n",
      "GPU 메모리: 할당됨 2.69 GB, 예약됨 3.24 GB\n",
      "\n",
      "반복 49: 텐서 크기 5000x5000 사용 중 (남은 시간: 4초)\n",
      "행렬 곱셈 수행 중...\n",
      "결과 샘플: -58.9581\n",
      "GPU 메모리: 할당됨 0.48 GB, 예약됨 0.58 GB\n",
      "\n",
      "반복 50: 텐서 크기 8000x8000 사용 중 (남은 시간: 3초)\n",
      "행렬 곱셈 수행 중...\n",
      "결과 샘플: -3.0584\n",
      "GPU 메모리: 할당됨 1.20 GB, 예약됨 1.46 GB\n",
      "\n",
      "반복 51: 텐서 크기 10000x10000 사용 중 (남은 시간: 2초)\n",
      "행렬 곱셈 수행 중...\n",
      "결과 샘플: -36.7839\n",
      "GPU 메모리: 할당됨 1.87 GB, 예약됨 2.26 GB\n",
      "\n",
      "반복 52: 텐서 크기 12000x12000 사용 중 (남은 시간: 1초)\n",
      "행렬 곱셈 수행 중...\n",
      "결과 샘플: 39.2323\n",
      "GPU 메모리: 할당됨 2.69 GB, 예약됨 3.24 GB\n",
      "\n",
      "반복 53: 텐서 크기 5000x5000 사용 중 (남은 시간: 0초)\n",
      "행렬 곱셈 수행 중...\n",
      "결과 샘플: 37.9760\n",
      "GPU 메모리: 할당됨 0.48 GB, 예약됨 0.58 GB\n",
      "\n",
      "GPU 부하 테스트 완료! 실제 소요 시간: 60.88초\n",
      "\n",
      "GPU 메모리 사용량 정보:\n",
      "최대 메모리 사용량: 3.23 GB\n",
      "\n",
      "테스트가 완료되었습니다. Ctrl+C를 눌러 프로그램을 종료하세요.\n"
     ]
    }
   ],
   "source": [
    "import torch\n",
    "import time\n",
    "import subprocess\n",
    "import threading\n",
    "import numpy as np\n",
    "\n",
    "# GPU 상태 모니터링 함수\n",
    "def monitor_gpu():\n",
    "    while monitoring:\n",
    "        try:\n",
    "            # Windows에서 실행\n",
    "            subprocess.run(\"nvidia-smi\", shell=True)\n",
    "        except:\n",
    "            print(\"nvidia-smi 명령어를 실행할 수 없습니다.\")\n",
    "        time.sleep(3)  # 3초마다 업데이트\n",
    "\n",
    "# GPU 사용 가능 여부 확인\n",
    "if torch.cuda.is_available():\n",
    "    device = torch.device(\"cuda\")\n",
    "    print(f\"GPU 사용 가능: {torch.cuda.get_device_name(0)}\")\n",
    "    print(f\"CUDA 버전: {torch.version.cuda}\")\n",
    "else:\n",
    "    device = torch.device(\"cpu\")\n",
    "    print(\"GPU를 사용할 수 없습니다. CPU를 사용합니다.\")\n",
    "    \n",
    "# GPU 모니터링 시작\n",
    "monitoring = True\n",
    "monitor_thread = threading.Thread(target=monitor_gpu)\n",
    "monitor_thread.daemon = True\n",
    "monitor_thread.start()\n",
    "\n",
    "# 테스트 지속 시간 설정 (초)\n",
    "test_duration = 60  # 1분 동안 테스트 (원하는 시간으로 조정 가능)\n",
    "print(f\"\\n{test_duration}초 동안 GPU 부하 테스트를 실행합니다...\")\n",
    "\n",
    "# 시작 시간 기록\n",
    "start_time = time.time()\n",
    "end_time = start_time + test_duration\n",
    "\n",
    "# 다양한 크기의 텐서로 테스트\n",
    "tensor_sizes = [5000, 8000, 10000, 12000]\n",
    "current_size_index = 0\n",
    "\n",
    "# 테스트 중 GPU 사용률 기록\n",
    "gpu_utils = []\n",
    "\n",
    "print(\"\\nGPU 부하 테스트 시작...\")\n",
    "iteration = 0\n",
    "\n",
    "try:\n",
    "    while time.time() < end_time:\n",
    "        # 현재 텐서 크기 선택 (주기적으로 변경)\n",
    "        tensor_size = tensor_sizes[current_size_index]\n",
    "        current_size_index = (current_size_index + 1) % len(tensor_sizes)\n",
    "        \n",
    "        # 남은 시간 계산\n",
    "        remaining_time = max(0, int(end_time - time.time()))\n",
    "        \n",
    "        # 진행 상황 출력\n",
    "        print(f\"\\n반복 {iteration+1}: 텐서 크기 {tensor_size}x{tensor_size} 사용 중 (남은 시간: {remaining_time}초)\")\n",
    "        \n",
    "        # 큰 텐서 생성\n",
    "        a = torch.randn(tensor_size, tensor_size, device=device)\n",
    "        b = torch.randn(tensor_size, tensor_size, device=device)\n",
    "        \n",
    "        # 행렬 곱셈 수행\n",
    "        print(f\"행렬 곱셈 수행 중...\")\n",
    "        c = torch.matmul(a, b)\n",
    "        \n",
    "        # 결과 일부 출력\n",
    "        print(f\"결과 샘플: {c[0, 0].item():.4f}\")\n",
    "        \n",
    "        # 추가 연산 수행 (GPU 부하 유지)\n",
    "        d = torch.sin(a) + torch.cos(b)\n",
    "        e = torch.exp(torch.abs(d) * 0.01)  # 값이 너무 커지지 않도록 조정\n",
    "        \n",
    "        # 메모리 정보 출력\n",
    "        allocated = torch.cuda.memory_allocated() / 1024**3\n",
    "        reserved = torch.cuda.memory_reserved() / 1024**3\n",
    "        print(f\"GPU 메모리: 할당됨 {allocated:.2f} GB, 예약됨 {reserved:.2f} GB\")\n",
    "        \n",
    "        # 메모리 비우기\n",
    "        del a, b, c, d, e\n",
    "        torch.cuda.empty_cache()\n",
    "        \n",
    "        # 잠시 대기 (너무 빨리 끝나지 않도록)\n",
    "        time.sleep(1)\n",
    "        \n",
    "        iteration += 1\n",
    "\n",
    "except KeyboardInterrupt:\n",
    "    print(\"\\n사용자에 의해 테스트가 중단되었습니다.\")\n",
    "\n",
    "finally:\n",
    "    # 테스트 종료\n",
    "    actual_duration = time.time() - start_time\n",
    "    print(f\"\\nGPU 부하 테스트 완료! 실제 소요 시간: {actual_duration:.2f}초\")\n",
    "    \n",
    "    # 최종 GPU 정보 출력\n",
    "    print(\"\\nGPU 메모리 사용량 정보:\")\n",
    "    print(f\"최대 메모리 사용량: {torch.cuda.max_memory_allocated() / 1024**3:.2f} GB\")\n",
    "    \n",
    "    # 모니터링 종료\n",
    "    monitoring = False\n",
    "    print(\"\\n테스트가 완료되었습니다. Ctrl+C를 눌러 프로그램을 종료하세요.\")"
   ]
  },
  {
   "cell_type": "code",
   "execution_count": 2,
   "metadata": {},
   "outputs": [
    {
     "name": "stdout",
     "output_type": "stream",
     "text": [
      "GPU 사용 가능: True\n",
      "GPU 모델: NVIDIA GeForce RTX 4070 Ti\n",
      "CUDA 버전: 11.8\n",
      "\n",
      "YOLOv8n 모델 로드 중...\n",
      "모델 로드 완료!\n",
      "\n",
      "학습 설정:\n",
      "- 에포크: 30\n",
      "- 배치 크기: 16\n",
      "- 이미지 크기: 640\n",
      "- 데이터 설정: coco8.yaml (내장 샘플 데이터셋)\n",
      "\n",
      "GPU 사용량 모니터링 시작...\n",
      "\n",
      "학습 시작...\n",
      "New https://pypi.org/project/ultralytics/8.3.98 available  Update with 'pip install -U ultralytics'\n",
      "Ultralytics 8.3.86  Python-3.9.20 torch-2.5.1 CUDA:0 (NVIDIA GeForce RTX 4070 Ti, 12282MiB)\n",
      "\u001b[34m\u001b[1mengine\\trainer: \u001b[0mtask=detect, mode=train, model=yolov8n.pt, data=coco8.yaml, epochs=30, time=None, patience=0, batch=16, imgsz=640, save=True, save_period=-1, cache=False, device=0, workers=8, project=None, name=yolov8n_coco8_test, exist_ok=True, pretrained=True, optimizer=auto, verbose=True, seed=0, deterministic=True, single_cls=False, rect=False, cos_lr=False, close_mosaic=10, resume=False, amp=True, fraction=1.0, profile=False, freeze=None, multi_scale=False, overlap_mask=True, mask_ratio=4, dropout=0.0, val=True, split=val, save_json=False, save_hybrid=False, conf=None, iou=0.7, max_det=300, half=False, dnn=False, plots=True, source=None, vid_stride=1, stream_buffer=False, visualize=False, augment=False, agnostic_nms=False, classes=None, retina_masks=False, embed=None, show=False, save_frames=False, save_txt=False, save_conf=False, save_crop=False, show_labels=True, show_conf=True, show_boxes=True, line_width=None, format=torchscript, keras=False, optimize=False, int8=False, dynamic=False, simplify=True, opset=None, workspace=None, nms=False, lr0=0.01, lrf=0.01, momentum=0.937, weight_decay=0.0005, warmup_epochs=3.0, warmup_momentum=0.8, warmup_bias_lr=0.1, box=7.5, cls=0.5, dfl=1.5, pose=12.0, kobj=1.0, nbs=64, hsv_h=0.015, hsv_s=0.7, hsv_v=0.4, degrees=0.0, translate=0.1, scale=0.5, shear=0.0, perspective=0.0, flipud=0.0, fliplr=0.5, bgr=0.0, mosaic=1.0, mixup=0.0, copy_paste=0.0, copy_paste_mode=flip, auto_augment=randaugment, erasing=0.4, crop_fraction=1.0, cfg=None, tracker=botsort.yaml, save_dir=runs\\detect\\yolov8n_coco8_test\n",
      "\n",
      "                   from  n    params  module                                       arguments                     \n",
      "  0                  -1  1       464  ultralytics.nn.modules.conv.Conv             [3, 16, 3, 2]                 \n",
      "  1                  -1  1      4672  ultralytics.nn.modules.conv.Conv             [16, 32, 3, 2]                \n",
      "  2                  -1  1      7360  ultralytics.nn.modules.block.C2f             [32, 32, 1, True]             \n",
      "  3                  -1  1     18560  ultralytics.nn.modules.conv.Conv             [32, 64, 3, 2]                \n",
      "  4                  -1  2     49664  ultralytics.nn.modules.block.C2f             [64, 64, 2, True]             \n",
      "  5                  -1  1     73984  ultralytics.nn.modules.conv.Conv             [64, 128, 3, 2]               \n",
      "  6                  -1  2    197632  ultralytics.nn.modules.block.C2f             [128, 128, 2, True]           \n",
      "  7                  -1  1    295424  ultralytics.nn.modules.conv.Conv             [128, 256, 3, 2]              \n",
      "  8                  -1  1    460288  ultralytics.nn.modules.block.C2f             [256, 256, 1, True]           \n",
      "  9                  -1  1    164608  ultralytics.nn.modules.block.SPPF            [256, 256, 5]                 \n",
      " 10                  -1  1         0  torch.nn.modules.upsampling.Upsample         [None, 2, 'nearest']          \n",
      " 11             [-1, 6]  1         0  ultralytics.nn.modules.conv.Concat           [1]                           \n",
      " 12                  -1  1    148224  ultralytics.nn.modules.block.C2f             [384, 128, 1]                 \n",
      " 13                  -1  1         0  torch.nn.modules.upsampling.Upsample         [None, 2, 'nearest']          \n",
      " 14             [-1, 4]  1         0  ultralytics.nn.modules.conv.Concat           [1]                           \n",
      " 15                  -1  1     37248  ultralytics.nn.modules.block.C2f             [192, 64, 1]                  \n",
      " 16                  -1  1     36992  ultralytics.nn.modules.conv.Conv             [64, 64, 3, 2]                \n",
      " 17            [-1, 12]  1         0  ultralytics.nn.modules.conv.Concat           [1]                           \n",
      " 18                  -1  1    123648  ultralytics.nn.modules.block.C2f             [192, 128, 1]                 \n",
      " 19                  -1  1    147712  ultralytics.nn.modules.conv.Conv             [128, 128, 3, 2]              \n",
      " 20             [-1, 9]  1         0  ultralytics.nn.modules.conv.Concat           [1]                           \n",
      " 21                  -1  1    493056  ultralytics.nn.modules.block.C2f             [384, 256, 1]                 \n",
      " 22        [15, 18, 21]  1    897664  ultralytics.nn.modules.head.Detect           [80, [64, 128, 256]]          \n",
      "Model summary: 129 layers, 3,157,200 parameters, 3,157,184 gradients, 8.9 GFLOPs\n",
      "\n",
      "Transferred 355/355 items from pretrained weights\n",
      "\u001b[34m\u001b[1mTensorBoard: \u001b[0mStart with 'tensorboard --logdir runs\\detect\\yolov8n_coco8_test', view at http://localhost:6006/\n",
      "Freezing layer 'model.22.dfl.conv.weight'\n",
      "\u001b[34m\u001b[1mAMP: \u001b[0mrunning Automatic Mixed Precision (AMP) checks...\n"
     ]
    },
    {
     "name": "stderr",
     "output_type": "stream",
     "text": [
      "c:\\Users\\dongi\\anaconda3\\envs\\vision-gpu\\lib\\site-packages\\ultralytics\\utils\\torch_utils.py:262: UserWarning: Deterministic behavior was enabled with either `torch.use_deterministic_algorithms(True)` or `at::Context::setDeterministicAlgorithms(true)`, but this operation is not deterministic because it uses CuBLAS and you have CUDA >= 10.2. To enable deterministic behavior in this case, you must set an environment variable before running your PyTorch application: CUBLAS_WORKSPACE_CONFIG=:4096:8 or CUBLAS_WORKSPACE_CONFIG=:16:8. For more information, go to https://docs.nvidia.com/cuda/cublas/index.html#results-reproducibility (Triggered internally at C:\\cb\\pytorch_1000000000000\\work\\aten\\src\\ATen\\Context.cpp:208.)\n",
      "  fusedconv.weight.copy_(torch.mm(w_bn, w_conv).view(fusedconv.weight.shape))\n",
      "c:\\Users\\dongi\\anaconda3\\envs\\vision-gpu\\lib\\site-packages\\ultralytics\\utils\\torch_utils.py:267: UserWarning: Deterministic behavior was enabled with either `torch.use_deterministic_algorithms(True)` or `at::Context::setDeterministicAlgorithms(true)`, but this operation is not deterministic because it uses CuBLAS and you have CUDA >= 10.2. To enable deterministic behavior in this case, you must set an environment variable before running your PyTorch application: CUBLAS_WORKSPACE_CONFIG=:4096:8 or CUBLAS_WORKSPACE_CONFIG=:16:8. For more information, go to https://docs.nvidia.com/cuda/cublas/index.html#results-reproducibility (Triggered internally at C:\\cb\\pytorch_1000000000000\\work\\aten\\src\\ATen\\Context.cpp:208.)\n",
      "  fusedconv.bias.copy_(torch.mm(w_bn, b_conv.reshape(-1, 1)).reshape(-1) + b_bn)\n",
      "c:\\Users\\dongi\\anaconda3\\envs\\vision-gpu\\lib\\site-packages\\ultralytics\\nn\\modules\\block.py:917: UserWarning: Deterministic behavior was enabled with either `torch.use_deterministic_algorithms(True)` or `at::Context::setDeterministicAlgorithms(true)`, but this operation is not deterministic because it uses CuBLAS and you have CUDA >= 10.2. To enable deterministic behavior in this case, you must set an environment variable before running your PyTorch application: CUBLAS_WORKSPACE_CONFIG=:4096:8 or CUBLAS_WORKSPACE_CONFIG=:16:8. For more information, go to https://docs.nvidia.com/cuda/cublas/index.html#results-reproducibility (Triggered internally at C:\\cb\\pytorch_1000000000000\\work\\aten\\src\\ATen\\Context.cpp:208.)\n",
      "  attn = (q.transpose(-2, -1) @ k) * self.scale\n",
      "c:\\Users\\dongi\\anaconda3\\envs\\vision-gpu\\lib\\site-packages\\ultralytics\\nn\\modules\\block.py:919: UserWarning: Deterministic behavior was enabled with either `torch.use_deterministic_algorithms(True)` or `at::Context::setDeterministicAlgorithms(true)`, but this operation is not deterministic because it uses CuBLAS and you have CUDA >= 10.2. To enable deterministic behavior in this case, you must set an environment variable before running your PyTorch application: CUBLAS_WORKSPACE_CONFIG=:4096:8 or CUBLAS_WORKSPACE_CONFIG=:16:8. For more information, go to https://docs.nvidia.com/cuda/cublas/index.html#results-reproducibility (Triggered internally at C:\\cb\\pytorch_1000000000000\\work\\aten\\src\\ATen\\Context.cpp:208.)\n",
      "  x = (v @ attn.transpose(-2, -1)).view(B, C, H, W) + self.pe(v.reshape(B, C, H, W))\n"
     ]
    },
    {
     "name": "stdout",
     "output_type": "stream",
     "text": [
      "\u001b[34m\u001b[1mAMP: \u001b[0mchecks passed \n"
     ]
    },
    {
     "name": "stderr",
     "output_type": "stream",
     "text": [
      "\u001b[34m\u001b[1mtrain: \u001b[0mScanning C:\\Users\\dongi\\git\\model-conversion-2-spring-2025\\CV\\object_detection\\datasets\\coco8\\labels\\train.cache... 4 images, 0 backgrounds, 0 corrupt: 100%|██████████| 4/4 [00:00<?, ?it/s]\n",
      "\u001b[34m\u001b[1mval: \u001b[0mScanning C:\\Users\\dongi\\git\\model-conversion-2-spring-2025\\CV\\object_detection\\datasets\\coco8\\labels\\val.cache... 4 images, 0 backgrounds, 0 corrupt: 100%|██████████| 4/4 [00:00<?, ?it/s]\n"
     ]
    },
    {
     "name": "stdout",
     "output_type": "stream",
     "text": [
      "Plotting labels to runs\\detect\\yolov8n_coco8_test\\labels.jpg... \n",
      "\u001b[34m\u001b[1moptimizer:\u001b[0m 'optimizer=auto' found, ignoring 'lr0=0.01' and 'momentum=0.937' and determining best 'optimizer', 'lr0' and 'momentum' automatically... \n",
      "\u001b[34m\u001b[1moptimizer:\u001b[0m AdamW(lr=0.000119, momentum=0.9) with parameter groups 57 weight(decay=0.0), 64 weight(decay=0.0005), 63 bias(decay=0.0)\n",
      "\u001b[34m\u001b[1mTensorBoard: \u001b[0mmodel graph visualization added \n",
      "Image sizes 640 train, 640 val\n",
      "Using 8 dataloader workers\n",
      "Logging results to \u001b[1mruns\\detect\\yolov8n_coco8_test\u001b[0m\n",
      "Starting training for 30 epochs...\n",
      "\n",
      "      Epoch    GPU_mem   box_loss   cls_loss   dfl_loss  Instances       Size\n"
     ]
    },
    {
     "name": "stderr",
     "output_type": "stream",
     "text": [
      "  0%|          | 0/1 [00:00<?, ?it/s]c:\\Users\\dongi\\anaconda3\\envs\\vision-gpu\\lib\\site-packages\\ultralytics\\utils\\loss.py:201: UserWarning: Deterministic behavior was enabled with either `torch.use_deterministic_algorithms(True)` or `at::Context::setDeterministicAlgorithms(true)`, but this operation is not deterministic because it uses CuBLAS and you have CUDA >= 10.2. To enable deterministic behavior in this case, you must set an environment variable before running your PyTorch application: CUBLAS_WORKSPACE_CONFIG=:4096:8 or CUBLAS_WORKSPACE_CONFIG=:16:8. For more information, go to https://docs.nvidia.com/cuda/cublas/index.html#results-reproducibility (Triggered internally at C:\\cb\\pytorch_1000000000000\\work\\aten\\src\\ATen\\Context.cpp:208.)\n",
      "  pred_dist = pred_dist.view(b, a, 4, c // 4).softmax(3).matmul(self.proj.type(pred_dist.dtype))\n",
      "       1/30     0.602G      1.044      3.539      1.475         21        640: 100%|██████████| 1/1 [00:00<00:00,  1.56it/s]\n",
      "                 Class     Images  Instances      Box(P          R      mAP50  mAP50-95):   0%|          | 0/1 [00:00<?, ?it/s]c:\\Users\\dongi\\anaconda3\\envs\\vision-gpu\\lib\\site-packages\\ultralytics\\utils\\loss.py:201: UserWarning: Deterministic behavior was enabled with either `torch.use_deterministic_algorithms(True)` or `at::Context::setDeterministicAlgorithms(true)`, but this operation is not deterministic because it uses CuBLAS and you have CUDA >= 10.2. To enable deterministic behavior in this case, you must set an environment variable before running your PyTorch application: CUBLAS_WORKSPACE_CONFIG=:4096:8 or CUBLAS_WORKSPACE_CONFIG=:16:8. For more information, go to https://docs.nvidia.com/cuda/cublas/index.html#results-reproducibility (Triggered internally at C:\\cb\\pytorch_1000000000000\\work\\aten\\src\\ATen\\Context.cpp:208.)\n",
      "  pred_dist = pred_dist.view(b, a, 4, c // 4).softmax(3).matmul(self.proj.type(pred_dist.dtype))\n",
      "                 Class     Images  Instances      Box(P          R      mAP50  mAP50-95): 100%|██████████| 1/1 [00:00<00:00,  9.57it/s]"
     ]
    },
    {
     "name": "stdout",
     "output_type": "stream",
     "text": [
      "                   all          4         17      0.618      0.883      0.888      0.612\n"
     ]
    },
    {
     "name": "stderr",
     "output_type": "stream",
     "text": [
      "\n"
     ]
    },
    {
     "name": "stdout",
     "output_type": "stream",
     "text": [
      "\n",
      "      Epoch    GPU_mem   box_loss   cls_loss   dfl_loss  Instances       Size\n"
     ]
    },
    {
     "name": "stderr",
     "output_type": "stream",
     "text": [
      "  0%|          | 0/1 [00:00<?, ?it/s]c:\\Users\\dongi\\anaconda3\\envs\\vision-gpu\\lib\\site-packages\\ultralytics\\utils\\loss.py:201: UserWarning: Deterministic behavior was enabled with either `torch.use_deterministic_algorithms(True)` or `at::Context::setDeterministicAlgorithms(true)`, but this operation is not deterministic because it uses CuBLAS and you have CUDA >= 10.2. To enable deterministic behavior in this case, you must set an environment variable before running your PyTorch application: CUBLAS_WORKSPACE_CONFIG=:4096:8 or CUBLAS_WORKSPACE_CONFIG=:16:8. For more information, go to https://docs.nvidia.com/cuda/cublas/index.html#results-reproducibility (Triggered internally at C:\\cb\\pytorch_1000000000000\\work\\aten\\src\\ATen\\Context.cpp:208.)\n",
      "  pred_dist = pred_dist.view(b, a, 4, c // 4).softmax(3).matmul(self.proj.type(pred_dist.dtype))\n",
      "       2/30     0.568G      1.119      2.753      1.435         36        640: 100%|██████████| 1/1 [00:00<00:00,  8.39it/s]\n",
      "                 Class     Images  Instances      Box(P          R      mAP50  mAP50-95):   0%|          | 0/1 [00:00<?, ?it/s]c:\\Users\\dongi\\anaconda3\\envs\\vision-gpu\\lib\\site-packages\\ultralytics\\utils\\loss.py:201: UserWarning: Deterministic behavior was enabled with either `torch.use_deterministic_algorithms(True)` or `at::Context::setDeterministicAlgorithms(true)`, but this operation is not deterministic because it uses CuBLAS and you have CUDA >= 10.2. To enable deterministic behavior in this case, you must set an environment variable before running your PyTorch application: CUBLAS_WORKSPACE_CONFIG=:4096:8 or CUBLAS_WORKSPACE_CONFIG=:16:8. For more information, go to https://docs.nvidia.com/cuda/cublas/index.html#results-reproducibility (Triggered internally at C:\\cb\\pytorch_1000000000000\\work\\aten\\src\\ATen\\Context.cpp:208.)\n",
      "  pred_dist = pred_dist.view(b, a, 4, c // 4).softmax(3).matmul(self.proj.type(pred_dist.dtype))\n",
      "                 Class     Images  Instances      Box(P          R      mAP50  mAP50-95): 100%|██████████| 1/1 [00:00<00:00, 16.94it/s]"
     ]
    },
    {
     "name": "stdout",
     "output_type": "stream",
     "text": [
      "                   all          4         17      0.599      0.896      0.888      0.623\n"
     ]
    },
    {
     "name": "stderr",
     "output_type": "stream",
     "text": [
      "\n"
     ]
    },
    {
     "name": "stdout",
     "output_type": "stream",
     "text": [
      "\n",
      "      Epoch    GPU_mem   box_loss   cls_loss   dfl_loss  Instances       Size\n"
     ]
    },
    {
     "name": "stderr",
     "output_type": "stream",
     "text": [
      "  0%|          | 0/1 [00:00<?, ?it/s]c:\\Users\\dongi\\anaconda3\\envs\\vision-gpu\\lib\\site-packages\\ultralytics\\utils\\loss.py:201: UserWarning: Deterministic behavior was enabled with either `torch.use_deterministic_algorithms(True)` or `at::Context::setDeterministicAlgorithms(true)`, but this operation is not deterministic because it uses CuBLAS and you have CUDA >= 10.2. To enable deterministic behavior in this case, you must set an environment variable before running your PyTorch application: CUBLAS_WORKSPACE_CONFIG=:4096:8 or CUBLAS_WORKSPACE_CONFIG=:16:8. For more information, go to https://docs.nvidia.com/cuda/cublas/index.html#results-reproducibility (Triggered internally at C:\\cb\\pytorch_1000000000000\\work\\aten\\src\\ATen\\Context.cpp:208.)\n",
      "  pred_dist = pred_dist.view(b, a, 4, c // 4).softmax(3).matmul(self.proj.type(pred_dist.dtype))\n",
      "       3/30     0.568G      1.021       2.14      1.275         20        640: 100%|██████████| 1/1 [00:00<00:00,  9.10it/s]\n",
      "                 Class     Images  Instances      Box(P          R      mAP50  mAP50-95):   0%|          | 0/1 [00:00<?, ?it/s]c:\\Users\\dongi\\anaconda3\\envs\\vision-gpu\\lib\\site-packages\\ultralytics\\utils\\loss.py:201: UserWarning: Deterministic behavior was enabled with either `torch.use_deterministic_algorithms(True)` or `at::Context::setDeterministicAlgorithms(true)`, but this operation is not deterministic because it uses CuBLAS and you have CUDA >= 10.2. To enable deterministic behavior in this case, you must set an environment variable before running your PyTorch application: CUBLAS_WORKSPACE_CONFIG=:4096:8 or CUBLAS_WORKSPACE_CONFIG=:16:8. For more information, go to https://docs.nvidia.com/cuda/cublas/index.html#results-reproducibility (Triggered internally at C:\\cb\\pytorch_1000000000000\\work\\aten\\src\\ATen\\Context.cpp:208.)\n",
      "  pred_dist = pred_dist.view(b, a, 4, c // 4).softmax(3).matmul(self.proj.type(pred_dist.dtype))\n",
      "                 Class     Images  Instances      Box(P          R      mAP50  mAP50-95): 100%|██████████| 1/1 [00:00<00:00, 15.96it/s]"
     ]
    },
    {
     "name": "stdout",
     "output_type": "stream",
     "text": [
      "                   all          4         17      0.567      0.833      0.874      0.621\n"
     ]
    },
    {
     "name": "stderr",
     "output_type": "stream",
     "text": [
      "\n"
     ]
    },
    {
     "name": "stdout",
     "output_type": "stream",
     "text": [
      "\n",
      "      Epoch    GPU_mem   box_loss   cls_loss   dfl_loss  Instances       Size\n"
     ]
    },
    {
     "name": "stderr",
     "output_type": "stream",
     "text": [
      "  0%|          | 0/1 [00:00<?, ?it/s]c:\\Users\\dongi\\anaconda3\\envs\\vision-gpu\\lib\\site-packages\\ultralytics\\utils\\loss.py:201: UserWarning: Deterministic behavior was enabled with either `torch.use_deterministic_algorithms(True)` or `at::Context::setDeterministicAlgorithms(true)`, but this operation is not deterministic because it uses CuBLAS and you have CUDA >= 10.2. To enable deterministic behavior in this case, you must set an environment variable before running your PyTorch application: CUBLAS_WORKSPACE_CONFIG=:4096:8 or CUBLAS_WORKSPACE_CONFIG=:16:8. For more information, go to https://docs.nvidia.com/cuda/cublas/index.html#results-reproducibility (Triggered internally at C:\\cb\\pytorch_1000000000000\\work\\aten\\src\\ATen\\Context.cpp:208.)\n",
      "  pred_dist = pred_dist.view(b, a, 4, c // 4).softmax(3).matmul(self.proj.type(pred_dist.dtype))\n",
      "       4/30     0.564G      1.042       2.94      1.393         21        640: 100%|██████████| 1/1 [00:00<00:00,  7.45it/s]\n",
      "                 Class     Images  Instances      Box(P          R      mAP50  mAP50-95):   0%|          | 0/1 [00:00<?, ?it/s]c:\\Users\\dongi\\anaconda3\\envs\\vision-gpu\\lib\\site-packages\\ultralytics\\utils\\loss.py:201: UserWarning: Deterministic behavior was enabled with either `torch.use_deterministic_algorithms(True)` or `at::Context::setDeterministicAlgorithms(true)`, but this operation is not deterministic because it uses CuBLAS and you have CUDA >= 10.2. To enable deterministic behavior in this case, you must set an environment variable before running your PyTorch application: CUBLAS_WORKSPACE_CONFIG=:4096:8 or CUBLAS_WORKSPACE_CONFIG=:16:8. For more information, go to https://docs.nvidia.com/cuda/cublas/index.html#results-reproducibility (Triggered internally at C:\\cb\\pytorch_1000000000000\\work\\aten\\src\\ATen\\Context.cpp:208.)\n",
      "  pred_dist = pred_dist.view(b, a, 4, c // 4).softmax(3).matmul(self.proj.type(pred_dist.dtype))\n",
      "                 Class     Images  Instances      Box(P          R      mAP50  mAP50-95): 100%|██████████| 1/1 [00:00<00:00, 35.36it/s]"
     ]
    },
    {
     "name": "stdout",
     "output_type": "stream",
     "text": [
      "                   all          4         17      0.541      0.833      0.874      0.611\n"
     ]
    },
    {
     "name": "stderr",
     "output_type": "stream",
     "text": [
      "\n"
     ]
    },
    {
     "name": "stdout",
     "output_type": "stream",
     "text": [
      "\n",
      "      Epoch    GPU_mem   box_loss   cls_loss   dfl_loss  Instances       Size\n"
     ]
    },
    {
     "name": "stderr",
     "output_type": "stream",
     "text": [
      "  0%|          | 0/1 [00:00<?, ?it/s]c:\\Users\\dongi\\anaconda3\\envs\\vision-gpu\\lib\\site-packages\\ultralytics\\utils\\loss.py:201: UserWarning: Deterministic behavior was enabled with either `torch.use_deterministic_algorithms(True)` or `at::Context::setDeterministicAlgorithms(true)`, but this operation is not deterministic because it uses CuBLAS and you have CUDA >= 10.2. To enable deterministic behavior in this case, you must set an environment variable before running your PyTorch application: CUBLAS_WORKSPACE_CONFIG=:4096:8 or CUBLAS_WORKSPACE_CONFIG=:16:8. For more information, go to https://docs.nvidia.com/cuda/cublas/index.html#results-reproducibility (Triggered internally at C:\\cb\\pytorch_1000000000000\\work\\aten\\src\\ATen\\Context.cpp:208.)\n",
      "  pred_dist = pred_dist.view(b, a, 4, c // 4).softmax(3).matmul(self.proj.type(pred_dist.dtype))\n",
      "       5/30     0.598G      1.309      2.355      1.639         19        640: 100%|██████████| 1/1 [00:00<00:00,  6.04it/s]\n",
      "                 Class     Images  Instances      Box(P          R      mAP50  mAP50-95):   0%|          | 0/1 [00:00<?, ?it/s]c:\\Users\\dongi\\anaconda3\\envs\\vision-gpu\\lib\\site-packages\\ultralytics\\utils\\loss.py:201: UserWarning: Deterministic behavior was enabled with either `torch.use_deterministic_algorithms(True)` or `at::Context::setDeterministicAlgorithms(true)`, but this operation is not deterministic because it uses CuBLAS and you have CUDA >= 10.2. To enable deterministic behavior in this case, you must set an environment variable before running your PyTorch application: CUBLAS_WORKSPACE_CONFIG=:4096:8 or CUBLAS_WORKSPACE_CONFIG=:16:8. For more information, go to https://docs.nvidia.com/cuda/cublas/index.html#results-reproducibility (Triggered internally at C:\\cb\\pytorch_1000000000000\\work\\aten\\src\\ATen\\Context.cpp:208.)\n",
      "  pred_dist = pred_dist.view(b, a, 4, c // 4).softmax(3).matmul(self.proj.type(pred_dist.dtype))\n",
      "                 Class     Images  Instances      Box(P          R      mAP50  mAP50-95): 100%|██████████| 1/1 [00:00<00:00, 22.16it/s]"
     ]
    },
    {
     "name": "stdout",
     "output_type": "stream",
     "text": [
      "                   all          4         17      0.579      0.833      0.872      0.591\n"
     ]
    },
    {
     "name": "stderr",
     "output_type": "stream",
     "text": [
      "\n"
     ]
    },
    {
     "name": "stdout",
     "output_type": "stream",
     "text": [
      "\n",
      "      Epoch    GPU_mem   box_loss   cls_loss   dfl_loss  Instances       Size\n"
     ]
    },
    {
     "name": "stderr",
     "output_type": "stream",
     "text": [
      "  0%|          | 0/1 [00:00<?, ?it/s]c:\\Users\\dongi\\anaconda3\\envs\\vision-gpu\\lib\\site-packages\\ultralytics\\utils\\loss.py:201: UserWarning: Deterministic behavior was enabled with either `torch.use_deterministic_algorithms(True)` or `at::Context::setDeterministicAlgorithms(true)`, but this operation is not deterministic because it uses CuBLAS and you have CUDA >= 10.2. To enable deterministic behavior in this case, you must set an environment variable before running your PyTorch application: CUBLAS_WORKSPACE_CONFIG=:4096:8 or CUBLAS_WORKSPACE_CONFIG=:16:8. For more information, go to https://docs.nvidia.com/cuda/cublas/index.html#results-reproducibility (Triggered internally at C:\\cb\\pytorch_1000000000000\\work\\aten\\src\\ATen\\Context.cpp:208.)\n",
      "  pred_dist = pred_dist.view(b, a, 4, c // 4).softmax(3).matmul(self.proj.type(pred_dist.dtype))\n",
      "       6/30      0.59G      0.792      2.346      1.171         22        640: 100%|██████████| 1/1 [00:00<00:00,  6.48it/s]\n",
      "                 Class     Images  Instances      Box(P          R      mAP50  mAP50-95):   0%|          | 0/1 [00:00<?, ?it/s]c:\\Users\\dongi\\anaconda3\\envs\\vision-gpu\\lib\\site-packages\\ultralytics\\utils\\loss.py:201: UserWarning: Deterministic behavior was enabled with either `torch.use_deterministic_algorithms(True)` or `at::Context::setDeterministicAlgorithms(true)`, but this operation is not deterministic because it uses CuBLAS and you have CUDA >= 10.2. To enable deterministic behavior in this case, you must set an environment variable before running your PyTorch application: CUBLAS_WORKSPACE_CONFIG=:4096:8 or CUBLAS_WORKSPACE_CONFIG=:16:8. For more information, go to https://docs.nvidia.com/cuda/cublas/index.html#results-reproducibility (Triggered internally at C:\\cb\\pytorch_1000000000000\\work\\aten\\src\\ATen\\Context.cpp:208.)\n",
      "  pred_dist = pred_dist.view(b, a, 4, c // 4).softmax(3).matmul(self.proj.type(pred_dist.dtype))\n",
      "                 Class     Images  Instances      Box(P          R      mAP50  mAP50-95): 100%|██████████| 1/1 [00:00<00:00, 30.30it/s]"
     ]
    },
    {
     "name": "stdout",
     "output_type": "stream",
     "text": [
      "                   all          4         17      0.827      0.567      0.872      0.578\n"
     ]
    },
    {
     "name": "stderr",
     "output_type": "stream",
     "text": [
      "\n"
     ]
    },
    {
     "name": "stdout",
     "output_type": "stream",
     "text": [
      "\n",
      "      Epoch    GPU_mem   box_loss   cls_loss   dfl_loss  Instances       Size\n"
     ]
    },
    {
     "name": "stderr",
     "output_type": "stream",
     "text": [
      "  0%|          | 0/1 [00:00<?, ?it/s]c:\\Users\\dongi\\anaconda3\\envs\\vision-gpu\\lib\\site-packages\\ultralytics\\utils\\loss.py:201: UserWarning: Deterministic behavior was enabled with either `torch.use_deterministic_algorithms(True)` or `at::Context::setDeterministicAlgorithms(true)`, but this operation is not deterministic because it uses CuBLAS and you have CUDA >= 10.2. To enable deterministic behavior in this case, you must set an environment variable before running your PyTorch application: CUBLAS_WORKSPACE_CONFIG=:4096:8 or CUBLAS_WORKSPACE_CONFIG=:16:8. For more information, go to https://docs.nvidia.com/cuda/cublas/index.html#results-reproducibility (Triggered internally at C:\\cb\\pytorch_1000000000000\\work\\aten\\src\\ATen\\Context.cpp:208.)\n",
      "  pred_dist = pred_dist.view(b, a, 4, c // 4).softmax(3).matmul(self.proj.type(pred_dist.dtype))\n",
      "       7/30     0.594G      1.341      3.653      1.646         20        640: 100%|██████████| 1/1 [00:00<00:00, 15.15it/s]\n",
      "                 Class     Images  Instances      Box(P          R      mAP50  mAP50-95):   0%|          | 0/1 [00:00<?, ?it/s]c:\\Users\\dongi\\anaconda3\\envs\\vision-gpu\\lib\\site-packages\\ultralytics\\utils\\loss.py:201: UserWarning: Deterministic behavior was enabled with either `torch.use_deterministic_algorithms(True)` or `at::Context::setDeterministicAlgorithms(true)`, but this operation is not deterministic because it uses CuBLAS and you have CUDA >= 10.2. To enable deterministic behavior in this case, you must set an environment variable before running your PyTorch application: CUBLAS_WORKSPACE_CONFIG=:4096:8 or CUBLAS_WORKSPACE_CONFIG=:16:8. For more information, go to https://docs.nvidia.com/cuda/cublas/index.html#results-reproducibility (Triggered internally at C:\\cb\\pytorch_1000000000000\\work\\aten\\src\\ATen\\Context.cpp:208.)\n",
      "  pred_dist = pred_dist.view(b, a, 4, c // 4).softmax(3).matmul(self.proj.type(pred_dist.dtype))\n",
      "                 Class     Images  Instances      Box(P          R      mAP50  mAP50-95): 100%|██████████| 1/1 [00:00<00:00, 43.39it/s]"
     ]
    },
    {
     "name": "stdout",
     "output_type": "stream",
     "text": [
      "                   all          4         17      0.817      0.567      0.883      0.572\n"
     ]
    },
    {
     "name": "stderr",
     "output_type": "stream",
     "text": [
      "\n"
     ]
    },
    {
     "name": "stdout",
     "output_type": "stream",
     "text": [
      "\n",
      "      Epoch    GPU_mem   box_loss   cls_loss   dfl_loss  Instances       Size\n"
     ]
    },
    {
     "name": "stderr",
     "output_type": "stream",
     "text": [
      "  0%|          | 0/1 [00:00<?, ?it/s]c:\\Users\\dongi\\anaconda3\\envs\\vision-gpu\\lib\\site-packages\\ultralytics\\utils\\loss.py:201: UserWarning: Deterministic behavior was enabled with either `torch.use_deterministic_algorithms(True)` or `at::Context::setDeterministicAlgorithms(true)`, but this operation is not deterministic because it uses CuBLAS and you have CUDA >= 10.2. To enable deterministic behavior in this case, you must set an environment variable before running your PyTorch application: CUBLAS_WORKSPACE_CONFIG=:4096:8 or CUBLAS_WORKSPACE_CONFIG=:16:8. For more information, go to https://docs.nvidia.com/cuda/cublas/index.html#results-reproducibility (Triggered internally at C:\\cb\\pytorch_1000000000000\\work\\aten\\src\\ATen\\Context.cpp:208.)\n",
      "  pred_dist = pred_dist.view(b, a, 4, c // 4).softmax(3).matmul(self.proj.type(pred_dist.dtype))\n",
      "       8/30     0.592G       1.22      3.803      1.647         20        640: 100%|██████████| 1/1 [00:00<00:00, 15.84it/s]\n",
      "                 Class     Images  Instances      Box(P          R      mAP50  mAP50-95):   0%|          | 0/1 [00:00<?, ?it/s]c:\\Users\\dongi\\anaconda3\\envs\\vision-gpu\\lib\\site-packages\\ultralytics\\utils\\loss.py:201: UserWarning: Deterministic behavior was enabled with either `torch.use_deterministic_algorithms(True)` or `at::Context::setDeterministicAlgorithms(true)`, but this operation is not deterministic because it uses CuBLAS and you have CUDA >= 10.2. To enable deterministic behavior in this case, you must set an environment variable before running your PyTorch application: CUBLAS_WORKSPACE_CONFIG=:4096:8 or CUBLAS_WORKSPACE_CONFIG=:16:8. For more information, go to https://docs.nvidia.com/cuda/cublas/index.html#results-reproducibility (Triggered internally at C:\\cb\\pytorch_1000000000000\\work\\aten\\src\\ATen\\Context.cpp:208.)\n",
      "  pred_dist = pred_dist.view(b, a, 4, c // 4).softmax(3).matmul(self.proj.type(pred_dist.dtype))\n",
      "                 Class     Images  Instances      Box(P          R      mAP50  mAP50-95): 100%|██████████| 1/1 [00:00<00:00, 35.08it/s]"
     ]
    },
    {
     "name": "stdout",
     "output_type": "stream",
     "text": [
      "                   all          4         17       0.81      0.576      0.811      0.581\n"
     ]
    },
    {
     "name": "stderr",
     "output_type": "stream",
     "text": [
      "\n"
     ]
    },
    {
     "name": "stdout",
     "output_type": "stream",
     "text": [
      "\n",
      "      Epoch    GPU_mem   box_loss   cls_loss   dfl_loss  Instances       Size\n"
     ]
    },
    {
     "name": "stderr",
     "output_type": "stream",
     "text": [
      "  0%|          | 0/1 [00:00<?, ?it/s]c:\\Users\\dongi\\anaconda3\\envs\\vision-gpu\\lib\\site-packages\\ultralytics\\utils\\loss.py:201: UserWarning: Deterministic behavior was enabled with either `torch.use_deterministic_algorithms(True)` or `at::Context::setDeterministicAlgorithms(true)`, but this operation is not deterministic because it uses CuBLAS and you have CUDA >= 10.2. To enable deterministic behavior in this case, you must set an environment variable before running your PyTorch application: CUBLAS_WORKSPACE_CONFIG=:4096:8 or CUBLAS_WORKSPACE_CONFIG=:16:8. For more information, go to https://docs.nvidia.com/cuda/cublas/index.html#results-reproducibility (Triggered internally at C:\\cb\\pytorch_1000000000000\\work\\aten\\src\\ATen\\Context.cpp:208.)\n",
      "  pred_dist = pred_dist.view(b, a, 4, c // 4).softmax(3).matmul(self.proj.type(pred_dist.dtype))\n",
      "       9/30     0.598G     0.8496      2.672      1.275         20        640: 100%|██████████| 1/1 [00:00<00:00, 14.60it/s]\n",
      "                 Class     Images  Instances      Box(P          R      mAP50  mAP50-95):   0%|          | 0/1 [00:00<?, ?it/s]c:\\Users\\dongi\\anaconda3\\envs\\vision-gpu\\lib\\site-packages\\ultralytics\\utils\\loss.py:201: UserWarning: Deterministic behavior was enabled with either `torch.use_deterministic_algorithms(True)` or `at::Context::setDeterministicAlgorithms(true)`, but this operation is not deterministic because it uses CuBLAS and you have CUDA >= 10.2. To enable deterministic behavior in this case, you must set an environment variable before running your PyTorch application: CUBLAS_WORKSPACE_CONFIG=:4096:8 or CUBLAS_WORKSPACE_CONFIG=:16:8. For more information, go to https://docs.nvidia.com/cuda/cublas/index.html#results-reproducibility (Triggered internally at C:\\cb\\pytorch_1000000000000\\work\\aten\\src\\ATen\\Context.cpp:208.)\n",
      "  pred_dist = pred_dist.view(b, a, 4, c // 4).softmax(3).matmul(self.proj.type(pred_dist.dtype))\n",
      "                 Class     Images  Instances      Box(P          R      mAP50  mAP50-95): 100%|██████████| 1/1 [00:00<00:00, 38.06it/s]"
     ]
    },
    {
     "name": "stdout",
     "output_type": "stream",
     "text": [
      "                   all          4         17      0.807      0.583      0.771      0.545\n"
     ]
    },
    {
     "name": "stderr",
     "output_type": "stream",
     "text": [
      "\n"
     ]
    },
    {
     "name": "stdout",
     "output_type": "stream",
     "text": [
      "\n",
      "      Epoch    GPU_mem   box_loss   cls_loss   dfl_loss  Instances       Size\n"
     ]
    },
    {
     "name": "stderr",
     "output_type": "stream",
     "text": [
      "  0%|          | 0/1 [00:00<?, ?it/s]c:\\Users\\dongi\\anaconda3\\envs\\vision-gpu\\lib\\site-packages\\ultralytics\\utils\\loss.py:201: UserWarning: Deterministic behavior was enabled with either `torch.use_deterministic_algorithms(True)` or `at::Context::setDeterministicAlgorithms(true)`, but this operation is not deterministic because it uses CuBLAS and you have CUDA >= 10.2. To enable deterministic behavior in this case, you must set an environment variable before running your PyTorch application: CUBLAS_WORKSPACE_CONFIG=:4096:8 or CUBLAS_WORKSPACE_CONFIG=:16:8. For more information, go to https://docs.nvidia.com/cuda/cublas/index.html#results-reproducibility (Triggered internally at C:\\cb\\pytorch_1000000000000\\work\\aten\\src\\ATen\\Context.cpp:208.)\n",
      "  pred_dist = pred_dist.view(b, a, 4, c // 4).softmax(3).matmul(self.proj.type(pred_dist.dtype))\n",
      "      10/30     0.592G     0.9431      2.286      1.295         25        640: 100%|██████████| 1/1 [00:00<00:00, 15.38it/s]\n",
      "                 Class     Images  Instances      Box(P          R      mAP50  mAP50-95):   0%|          | 0/1 [00:00<?, ?it/s]c:\\Users\\dongi\\anaconda3\\envs\\vision-gpu\\lib\\site-packages\\ultralytics\\utils\\loss.py:201: UserWarning: Deterministic behavior was enabled with either `torch.use_deterministic_algorithms(True)` or `at::Context::setDeterministicAlgorithms(true)`, but this operation is not deterministic because it uses CuBLAS and you have CUDA >= 10.2. To enable deterministic behavior in this case, you must set an environment variable before running your PyTorch application: CUBLAS_WORKSPACE_CONFIG=:4096:8 or CUBLAS_WORKSPACE_CONFIG=:16:8. For more information, go to https://docs.nvidia.com/cuda/cublas/index.html#results-reproducibility (Triggered internally at C:\\cb\\pytorch_1000000000000\\work\\aten\\src\\ATen\\Context.cpp:208.)\n",
      "  pred_dist = pred_dist.view(b, a, 4, c // 4).softmax(3).matmul(self.proj.type(pred_dist.dtype))\n",
      "                 Class     Images  Instances      Box(P          R      mAP50  mAP50-95): 100%|██████████| 1/1 [00:00<00:00, 38.13it/s]"
     ]
    },
    {
     "name": "stdout",
     "output_type": "stream",
     "text": [
      "                   all          4         17      0.793      0.583      0.743      0.542\n"
     ]
    },
    {
     "name": "stderr",
     "output_type": "stream",
     "text": [
      "\n"
     ]
    },
    {
     "name": "stdout",
     "output_type": "stream",
     "text": [
      "\n",
      "      Epoch    GPU_mem   box_loss   cls_loss   dfl_loss  Instances       Size\n"
     ]
    },
    {
     "name": "stderr",
     "output_type": "stream",
     "text": [
      "  0%|          | 0/1 [00:00<?, ?it/s]c:\\Users\\dongi\\anaconda3\\envs\\vision-gpu\\lib\\site-packages\\ultralytics\\utils\\loss.py:201: UserWarning: Deterministic behavior was enabled with either `torch.use_deterministic_algorithms(True)` or `at::Context::setDeterministicAlgorithms(true)`, but this operation is not deterministic because it uses CuBLAS and you have CUDA >= 10.2. To enable deterministic behavior in this case, you must set an environment variable before running your PyTorch application: CUBLAS_WORKSPACE_CONFIG=:4096:8 or CUBLAS_WORKSPACE_CONFIG=:16:8. For more information, go to https://docs.nvidia.com/cuda/cublas/index.html#results-reproducibility (Triggered internally at C:\\cb\\pytorch_1000000000000\\work\\aten\\src\\ATen\\Context.cpp:208.)\n",
      "  pred_dist = pred_dist.view(b, a, 4, c // 4).softmax(3).matmul(self.proj.type(pred_dist.dtype))\n",
      "      11/30       0.6G      1.288      2.661      1.595         31        640: 100%|██████████| 1/1 [00:00<00:00, 14.97it/s]\n",
      "                 Class     Images  Instances      Box(P          R      mAP50  mAP50-95):   0%|          | 0/1 [00:00<?, ?it/s]c:\\Users\\dongi\\anaconda3\\envs\\vision-gpu\\lib\\site-packages\\ultralytics\\utils\\loss.py:201: UserWarning: Deterministic behavior was enabled with either `torch.use_deterministic_algorithms(True)` or `at::Context::setDeterministicAlgorithms(true)`, but this operation is not deterministic because it uses CuBLAS and you have CUDA >= 10.2. To enable deterministic behavior in this case, you must set an environment variable before running your PyTorch application: CUBLAS_WORKSPACE_CONFIG=:4096:8 or CUBLAS_WORKSPACE_CONFIG=:16:8. For more information, go to https://docs.nvidia.com/cuda/cublas/index.html#results-reproducibility (Triggered internally at C:\\cb\\pytorch_1000000000000\\work\\aten\\src\\ATen\\Context.cpp:208.)\n",
      "  pred_dist = pred_dist.view(b, a, 4, c // 4).softmax(3).matmul(self.proj.type(pred_dist.dtype))\n",
      "                 Class     Images  Instances      Box(P          R      mAP50  mAP50-95): 100%|██████████| 1/1 [00:00<00:00, 37.04it/s]"
     ]
    },
    {
     "name": "stdout",
     "output_type": "stream",
     "text": [
      "                   all          4         17      0.782      0.583      0.742      0.524\n"
     ]
    },
    {
     "name": "stderr",
     "output_type": "stream",
     "text": [
      "\n"
     ]
    },
    {
     "name": "stdout",
     "output_type": "stream",
     "text": [
      "\n",
      "      Epoch    GPU_mem   box_loss   cls_loss   dfl_loss  Instances       Size\n"
     ]
    },
    {
     "name": "stderr",
     "output_type": "stream",
     "text": [
      "  0%|          | 0/1 [00:00<?, ?it/s]c:\\Users\\dongi\\anaconda3\\envs\\vision-gpu\\lib\\site-packages\\ultralytics\\utils\\loss.py:201: UserWarning: Deterministic behavior was enabled with either `torch.use_deterministic_algorithms(True)` or `at::Context::setDeterministicAlgorithms(true)`, but this operation is not deterministic because it uses CuBLAS and you have CUDA >= 10.2. To enable deterministic behavior in this case, you must set an environment variable before running your PyTorch application: CUBLAS_WORKSPACE_CONFIG=:4096:8 or CUBLAS_WORKSPACE_CONFIG=:16:8. For more information, go to https://docs.nvidia.com/cuda/cublas/index.html#results-reproducibility (Triggered internally at C:\\cb\\pytorch_1000000000000\\work\\aten\\src\\ATen\\Context.cpp:208.)\n",
      "  pred_dist = pred_dist.view(b, a, 4, c // 4).softmax(3).matmul(self.proj.type(pred_dist.dtype))\n",
      "      12/30      0.59G      0.979      2.404      1.313         31        640: 100%|██████████| 1/1 [00:00<00:00, 14.47it/s]\n",
      "                 Class     Images  Instances      Box(P          R      mAP50  mAP50-95):   0%|          | 0/1 [00:00<?, ?it/s]c:\\Users\\dongi\\anaconda3\\envs\\vision-gpu\\lib\\site-packages\\ultralytics\\utils\\loss.py:201: UserWarning: Deterministic behavior was enabled with either `torch.use_deterministic_algorithms(True)` or `at::Context::setDeterministicAlgorithms(true)`, but this operation is not deterministic because it uses CuBLAS and you have CUDA >= 10.2. To enable deterministic behavior in this case, you must set an environment variable before running your PyTorch application: CUBLAS_WORKSPACE_CONFIG=:4096:8 or CUBLAS_WORKSPACE_CONFIG=:16:8. For more information, go to https://docs.nvidia.com/cuda/cublas/index.html#results-reproducibility (Triggered internally at C:\\cb\\pytorch_1000000000000\\work\\aten\\src\\ATen\\Context.cpp:208.)\n",
      "  pred_dist = pred_dist.view(b, a, 4, c // 4).softmax(3).matmul(self.proj.type(pred_dist.dtype))\n",
      "                 Class     Images  Instances      Box(P          R      mAP50  mAP50-95): 100%|██████████| 1/1 [00:00<00:00, 27.00it/s]"
     ]
    },
    {
     "name": "stdout",
     "output_type": "stream",
     "text": [
      "                   all          4         17      0.751      0.583      0.742      0.557\n"
     ]
    },
    {
     "name": "stderr",
     "output_type": "stream",
     "text": [
      "\n"
     ]
    },
    {
     "name": "stdout",
     "output_type": "stream",
     "text": [
      "\n",
      "      Epoch    GPU_mem   box_loss   cls_loss   dfl_loss  Instances       Size\n"
     ]
    },
    {
     "name": "stderr",
     "output_type": "stream",
     "text": [
      "  0%|          | 0/1 [00:00<?, ?it/s]c:\\Users\\dongi\\anaconda3\\envs\\vision-gpu\\lib\\site-packages\\ultralytics\\utils\\loss.py:201: UserWarning: Deterministic behavior was enabled with either `torch.use_deterministic_algorithms(True)` or `at::Context::setDeterministicAlgorithms(true)`, but this operation is not deterministic because it uses CuBLAS and you have CUDA >= 10.2. To enable deterministic behavior in this case, you must set an environment variable before running your PyTorch application: CUBLAS_WORKSPACE_CONFIG=:4096:8 or CUBLAS_WORKSPACE_CONFIG=:16:8. For more information, go to https://docs.nvidia.com/cuda/cublas/index.html#results-reproducibility (Triggered internally at C:\\cb\\pytorch_1000000000000\\work\\aten\\src\\ATen\\Context.cpp:208.)\n",
      "  pred_dist = pred_dist.view(b, a, 4, c // 4).softmax(3).matmul(self.proj.type(pred_dist.dtype))\n",
      "      13/30       0.6G      1.377      3.253      1.734         24        640: 100%|██████████| 1/1 [00:00<00:00, 14.81it/s]\n",
      "                 Class     Images  Instances      Box(P          R      mAP50  mAP50-95):   0%|          | 0/1 [00:00<?, ?it/s]c:\\Users\\dongi\\anaconda3\\envs\\vision-gpu\\lib\\site-packages\\ultralytics\\utils\\loss.py:201: UserWarning: Deterministic behavior was enabled with either `torch.use_deterministic_algorithms(True)` or `at::Context::setDeterministicAlgorithms(true)`, but this operation is not deterministic because it uses CuBLAS and you have CUDA >= 10.2. To enable deterministic behavior in this case, you must set an environment variable before running your PyTorch application: CUBLAS_WORKSPACE_CONFIG=:4096:8 or CUBLAS_WORKSPACE_CONFIG=:16:8. For more information, go to https://docs.nvidia.com/cuda/cublas/index.html#results-reproducibility (Triggered internally at C:\\cb\\pytorch_1000000000000\\work\\aten\\src\\ATen\\Context.cpp:208.)\n",
      "  pred_dist = pred_dist.view(b, a, 4, c // 4).softmax(3).matmul(self.proj.type(pred_dist.dtype))\n",
      "                 Class     Images  Instances      Box(P          R      mAP50  mAP50-95): 100%|██████████| 1/1 [00:00<00:00, 37.82it/s]"
     ]
    },
    {
     "name": "stdout",
     "output_type": "stream",
     "text": [
      "                   all          4         17      0.701      0.583      0.743      0.524\n"
     ]
    },
    {
     "name": "stderr",
     "output_type": "stream",
     "text": [
      "\n"
     ]
    },
    {
     "name": "stdout",
     "output_type": "stream",
     "text": [
      "\n",
      "      Epoch    GPU_mem   box_loss   cls_loss   dfl_loss  Instances       Size\n"
     ]
    },
    {
     "name": "stderr",
     "output_type": "stream",
     "text": [
      "  0%|          | 0/1 [00:00<?, ?it/s]c:\\Users\\dongi\\anaconda3\\envs\\vision-gpu\\lib\\site-packages\\ultralytics\\utils\\loss.py:201: UserWarning: Deterministic behavior was enabled with either `torch.use_deterministic_algorithms(True)` or `at::Context::setDeterministicAlgorithms(true)`, but this operation is not deterministic because it uses CuBLAS and you have CUDA >= 10.2. To enable deterministic behavior in this case, you must set an environment variable before running your PyTorch application: CUBLAS_WORKSPACE_CONFIG=:4096:8 or CUBLAS_WORKSPACE_CONFIG=:16:8. For more information, go to https://docs.nvidia.com/cuda/cublas/index.html#results-reproducibility (Triggered internally at C:\\cb\\pytorch_1000000000000\\work\\aten\\src\\ATen\\Context.cpp:208.)\n",
      "  pred_dist = pred_dist.view(b, a, 4, c // 4).softmax(3).matmul(self.proj.type(pred_dist.dtype))\n",
      "      14/30      0.59G      1.064      2.517      1.525         15        640: 100%|██████████| 1/1 [00:00<00:00, 14.08it/s]\n",
      "                 Class     Images  Instances      Box(P          R      mAP50  mAP50-95):   0%|          | 0/1 [00:00<?, ?it/s]c:\\Users\\dongi\\anaconda3\\envs\\vision-gpu\\lib\\site-packages\\ultralytics\\utils\\loss.py:201: UserWarning: Deterministic behavior was enabled with either `torch.use_deterministic_algorithms(True)` or `at::Context::setDeterministicAlgorithms(true)`, but this operation is not deterministic because it uses CuBLAS and you have CUDA >= 10.2. To enable deterministic behavior in this case, you must set an environment variable before running your PyTorch application: CUBLAS_WORKSPACE_CONFIG=:4096:8 or CUBLAS_WORKSPACE_CONFIG=:16:8. For more information, go to https://docs.nvidia.com/cuda/cublas/index.html#results-reproducibility (Triggered internally at C:\\cb\\pytorch_1000000000000\\work\\aten\\src\\ATen\\Context.cpp:208.)\n",
      "  pred_dist = pred_dist.view(b, a, 4, c // 4).softmax(3).matmul(self.proj.type(pred_dist.dtype))\n",
      "                 Class     Images  Instances      Box(P          R      mAP50  mAP50-95): 100%|██████████| 1/1 [00:00<00:00, 34.48it/s]"
     ]
    },
    {
     "name": "stdout",
     "output_type": "stream",
     "text": [
      "                   all          4         17      0.672      0.583      0.742      0.557\n"
     ]
    },
    {
     "name": "stderr",
     "output_type": "stream",
     "text": [
      "\n"
     ]
    },
    {
     "name": "stdout",
     "output_type": "stream",
     "text": [
      "\n",
      "      Epoch    GPU_mem   box_loss   cls_loss   dfl_loss  Instances       Size\n"
     ]
    },
    {
     "name": "stderr",
     "output_type": "stream",
     "text": [
      "  0%|          | 0/1 [00:00<?, ?it/s]c:\\Users\\dongi\\anaconda3\\envs\\vision-gpu\\lib\\site-packages\\ultralytics\\utils\\loss.py:201: UserWarning: Deterministic behavior was enabled with either `torch.use_deterministic_algorithms(True)` or `at::Context::setDeterministicAlgorithms(true)`, but this operation is not deterministic because it uses CuBLAS and you have CUDA >= 10.2. To enable deterministic behavior in this case, you must set an environment variable before running your PyTorch application: CUBLAS_WORKSPACE_CONFIG=:4096:8 or CUBLAS_WORKSPACE_CONFIG=:16:8. For more information, go to https://docs.nvidia.com/cuda/cublas/index.html#results-reproducibility (Triggered internally at C:\\cb\\pytorch_1000000000000\\work\\aten\\src\\ATen\\Context.cpp:208.)\n",
      "  pred_dist = pred_dist.view(b, a, 4, c // 4).softmax(3).matmul(self.proj.type(pred_dist.dtype))\n",
      "      15/30       0.6G      1.391      2.956      1.646         38        640: 100%|██████████| 1/1 [00:00<00:00, 14.08it/s]\n",
      "                 Class     Images  Instances      Box(P          R      mAP50  mAP50-95):   0%|          | 0/1 [00:00<?, ?it/s]c:\\Users\\dongi\\anaconda3\\envs\\vision-gpu\\lib\\site-packages\\ultralytics\\utils\\loss.py:201: UserWarning: Deterministic behavior was enabled with either `torch.use_deterministic_algorithms(True)` or `at::Context::setDeterministicAlgorithms(true)`, but this operation is not deterministic because it uses CuBLAS and you have CUDA >= 10.2. To enable deterministic behavior in this case, you must set an environment variable before running your PyTorch application: CUBLAS_WORKSPACE_CONFIG=:4096:8 or CUBLAS_WORKSPACE_CONFIG=:16:8. For more information, go to https://docs.nvidia.com/cuda/cublas/index.html#results-reproducibility (Triggered internally at C:\\cb\\pytorch_1000000000000\\work\\aten\\src\\ATen\\Context.cpp:208.)\n",
      "  pred_dist = pred_dist.view(b, a, 4, c // 4).softmax(3).matmul(self.proj.type(pred_dist.dtype))\n",
      "                 Class     Images  Instances      Box(P          R      mAP50  mAP50-95): 100%|██████████| 1/1 [00:00<00:00, 39.98it/s]"
     ]
    },
    {
     "name": "stdout",
     "output_type": "stream",
     "text": [
      "                   all          4         17      0.943      0.377      0.742      0.524\n"
     ]
    },
    {
     "name": "stderr",
     "output_type": "stream",
     "text": [
      "\n"
     ]
    },
    {
     "name": "stdout",
     "output_type": "stream",
     "text": [
      "\n",
      "      Epoch    GPU_mem   box_loss   cls_loss   dfl_loss  Instances       Size\n"
     ]
    },
    {
     "name": "stderr",
     "output_type": "stream",
     "text": [
      "  0%|          | 0/1 [00:00<?, ?it/s]c:\\Users\\dongi\\anaconda3\\envs\\vision-gpu\\lib\\site-packages\\ultralytics\\utils\\loss.py:201: UserWarning: Deterministic behavior was enabled with either `torch.use_deterministic_algorithms(True)` or `at::Context::setDeterministicAlgorithms(true)`, but this operation is not deterministic because it uses CuBLAS and you have CUDA >= 10.2. To enable deterministic behavior in this case, you must set an environment variable before running your PyTorch application: CUBLAS_WORKSPACE_CONFIG=:4096:8 or CUBLAS_WORKSPACE_CONFIG=:16:8. For more information, go to https://docs.nvidia.com/cuda/cublas/index.html#results-reproducibility (Triggered internally at C:\\cb\\pytorch_1000000000000\\work\\aten\\src\\ATen\\Context.cpp:208.)\n",
      "  pred_dist = pred_dist.view(b, a, 4, c // 4).softmax(3).matmul(self.proj.type(pred_dist.dtype))\n",
      "      16/30     0.604G       1.23      2.017      1.495         49        640: 100%|██████████| 1/1 [00:00<00:00, 14.06it/s]\n",
      "                 Class     Images  Instances      Box(P          R      mAP50  mAP50-95):   0%|          | 0/1 [00:00<?, ?it/s]c:\\Users\\dongi\\anaconda3\\envs\\vision-gpu\\lib\\site-packages\\ultralytics\\utils\\loss.py:201: UserWarning: Deterministic behavior was enabled with either `torch.use_deterministic_algorithms(True)` or `at::Context::setDeterministicAlgorithms(true)`, but this operation is not deterministic because it uses CuBLAS and you have CUDA >= 10.2. To enable deterministic behavior in this case, you must set an environment variable before running your PyTorch application: CUBLAS_WORKSPACE_CONFIG=:4096:8 or CUBLAS_WORKSPACE_CONFIG=:16:8. For more information, go to https://docs.nvidia.com/cuda/cublas/index.html#results-reproducibility (Triggered internally at C:\\cb\\pytorch_1000000000000\\work\\aten\\src\\ATen\\Context.cpp:208.)\n",
      "  pred_dist = pred_dist.view(b, a, 4, c // 4).softmax(3).matmul(self.proj.type(pred_dist.dtype))\n",
      "                 Class     Images  Instances      Box(P          R      mAP50  mAP50-95): 100%|██████████| 1/1 [00:00<00:00, 32.14it/s]"
     ]
    },
    {
     "name": "stdout",
     "output_type": "stream",
     "text": [
      "                   all          4         17      0.944       0.38      0.742      0.507\n"
     ]
    },
    {
     "name": "stderr",
     "output_type": "stream",
     "text": [
      "\n"
     ]
    },
    {
     "name": "stdout",
     "output_type": "stream",
     "text": [
      "\n",
      "      Epoch    GPU_mem   box_loss   cls_loss   dfl_loss  Instances       Size\n"
     ]
    },
    {
     "name": "stderr",
     "output_type": "stream",
     "text": [
      "  0%|          | 0/1 [00:00<?, ?it/s]c:\\Users\\dongi\\anaconda3\\envs\\vision-gpu\\lib\\site-packages\\ultralytics\\utils\\loss.py:201: UserWarning: Deterministic behavior was enabled with either `torch.use_deterministic_algorithms(True)` or `at::Context::setDeterministicAlgorithms(true)`, but this operation is not deterministic because it uses CuBLAS and you have CUDA >= 10.2. To enable deterministic behavior in this case, you must set an environment variable before running your PyTorch application: CUBLAS_WORKSPACE_CONFIG=:4096:8 or CUBLAS_WORKSPACE_CONFIG=:16:8. For more information, go to https://docs.nvidia.com/cuda/cublas/index.html#results-reproducibility (Triggered internally at C:\\cb\\pytorch_1000000000000\\work\\aten\\src\\ATen\\Context.cpp:208.)\n",
      "  pred_dist = pred_dist.view(b, a, 4, c // 4).softmax(3).matmul(self.proj.type(pred_dist.dtype))\n",
      "      17/30     0.598G      1.011      1.817      1.342         25        640: 100%|██████████| 1/1 [00:00<00:00, 12.58it/s]\n",
      "                 Class     Images  Instances      Box(P          R      mAP50  mAP50-95):   0%|          | 0/1 [00:00<?, ?it/s]c:\\Users\\dongi\\anaconda3\\envs\\vision-gpu\\lib\\site-packages\\ultralytics\\utils\\loss.py:201: UserWarning: Deterministic behavior was enabled with either `torch.use_deterministic_algorithms(True)` or `at::Context::setDeterministicAlgorithms(true)`, but this operation is not deterministic because it uses CuBLAS and you have CUDA >= 10.2. To enable deterministic behavior in this case, you must set an environment variable before running your PyTorch application: CUBLAS_WORKSPACE_CONFIG=:4096:8 or CUBLAS_WORKSPACE_CONFIG=:16:8. For more information, go to https://docs.nvidia.com/cuda/cublas/index.html#results-reproducibility (Triggered internally at C:\\cb\\pytorch_1000000000000\\work\\aten\\src\\ATen\\Context.cpp:208.)\n",
      "  pred_dist = pred_dist.view(b, a, 4, c // 4).softmax(3).matmul(self.proj.type(pred_dist.dtype))\n",
      "                 Class     Images  Instances      Box(P          R      mAP50  mAP50-95): 100%|██████████| 1/1 [00:00<00:00, 33.30it/s]"
     ]
    },
    {
     "name": "stdout",
     "output_type": "stream",
     "text": [
      "                   all          4         17      0.944      0.383      0.742      0.541\n"
     ]
    },
    {
     "name": "stderr",
     "output_type": "stream",
     "text": [
      "\n"
     ]
    },
    {
     "name": "stdout",
     "output_type": "stream",
     "text": [
      "\n",
      "      Epoch    GPU_mem   box_loss   cls_loss   dfl_loss  Instances       Size\n"
     ]
    },
    {
     "name": "stderr",
     "output_type": "stream",
     "text": [
      "  0%|          | 0/1 [00:00<?, ?it/s]c:\\Users\\dongi\\anaconda3\\envs\\vision-gpu\\lib\\site-packages\\ultralytics\\utils\\loss.py:201: UserWarning: Deterministic behavior was enabled with either `torch.use_deterministic_algorithms(True)` or `at::Context::setDeterministicAlgorithms(true)`, but this operation is not deterministic because it uses CuBLAS and you have CUDA >= 10.2. To enable deterministic behavior in this case, you must set an environment variable before running your PyTorch application: CUBLAS_WORKSPACE_CONFIG=:4096:8 or CUBLAS_WORKSPACE_CONFIG=:16:8. For more information, go to https://docs.nvidia.com/cuda/cublas/index.html#results-reproducibility (Triggered internally at C:\\cb\\pytorch_1000000000000\\work\\aten\\src\\ATen\\Context.cpp:208.)\n",
      "  pred_dist = pred_dist.view(b, a, 4, c // 4).softmax(3).matmul(self.proj.type(pred_dist.dtype))\n",
      "      18/30     0.586G     0.7201      1.514      1.037         16        640: 100%|██████████| 1/1 [00:00<00:00, 16.63it/s]\n",
      "                 Class     Images  Instances      Box(P          R      mAP50  mAP50-95):   0%|          | 0/1 [00:00<?, ?it/s]c:\\Users\\dongi\\anaconda3\\envs\\vision-gpu\\lib\\site-packages\\ultralytics\\utils\\loss.py:201: UserWarning: Deterministic behavior was enabled with either `torch.use_deterministic_algorithms(True)` or `at::Context::setDeterministicAlgorithms(true)`, but this operation is not deterministic because it uses CuBLAS and you have CUDA >= 10.2. To enable deterministic behavior in this case, you must set an environment variable before running your PyTorch application: CUBLAS_WORKSPACE_CONFIG=:4096:8 or CUBLAS_WORKSPACE_CONFIG=:16:8. For more information, go to https://docs.nvidia.com/cuda/cublas/index.html#results-reproducibility (Triggered internally at C:\\cb\\pytorch_1000000000000\\work\\aten\\src\\ATen\\Context.cpp:208.)\n",
      "  pred_dist = pred_dist.view(b, a, 4, c // 4).softmax(3).matmul(self.proj.type(pred_dist.dtype))\n",
      "                 Class     Images  Instances      Box(P          R      mAP50  mAP50-95): 100%|██████████| 1/1 [00:00<00:00, 33.42it/s]"
     ]
    },
    {
     "name": "stdout",
     "output_type": "stream",
     "text": [
      "                   all          4         17      0.944      0.383      0.742      0.541\n"
     ]
    },
    {
     "name": "stderr",
     "output_type": "stream",
     "text": [
      "\n"
     ]
    },
    {
     "name": "stdout",
     "output_type": "stream",
     "text": [
      "\n",
      "      Epoch    GPU_mem   box_loss   cls_loss   dfl_loss  Instances       Size\n"
     ]
    },
    {
     "name": "stderr",
     "output_type": "stream",
     "text": [
      "  0%|          | 0/1 [00:00<?, ?it/s]c:\\Users\\dongi\\anaconda3\\envs\\vision-gpu\\lib\\site-packages\\ultralytics\\utils\\loss.py:201: UserWarning: Deterministic behavior was enabled with either `torch.use_deterministic_algorithms(True)` or `at::Context::setDeterministicAlgorithms(true)`, but this operation is not deterministic because it uses CuBLAS and you have CUDA >= 10.2. To enable deterministic behavior in this case, you must set an environment variable before running your PyTorch application: CUBLAS_WORKSPACE_CONFIG=:4096:8 or CUBLAS_WORKSPACE_CONFIG=:16:8. For more information, go to https://docs.nvidia.com/cuda/cublas/index.html#results-reproducibility (Triggered internally at C:\\cb\\pytorch_1000000000000\\work\\aten\\src\\ATen\\Context.cpp:208.)\n",
      "  pred_dist = pred_dist.view(b, a, 4, c // 4).softmax(3).matmul(self.proj.type(pred_dist.dtype))\n",
      "      19/30     0.607G     0.7819      1.908       1.08         34        640: 100%|██████████| 1/1 [00:00<00:00, 14.46it/s]\n",
      "                 Class     Images  Instances      Box(P          R      mAP50  mAP50-95):   0%|          | 0/1 [00:00<?, ?it/s]c:\\Users\\dongi\\anaconda3\\envs\\vision-gpu\\lib\\site-packages\\ultralytics\\utils\\loss.py:201: UserWarning: Deterministic behavior was enabled with either `torch.use_deterministic_algorithms(True)` or `at::Context::setDeterministicAlgorithms(true)`, but this operation is not deterministic because it uses CuBLAS and you have CUDA >= 10.2. To enable deterministic behavior in this case, you must set an environment variable before running your PyTorch application: CUBLAS_WORKSPACE_CONFIG=:4096:8 or CUBLAS_WORKSPACE_CONFIG=:16:8. For more information, go to https://docs.nvidia.com/cuda/cublas/index.html#results-reproducibility (Triggered internally at C:\\cb\\pytorch_1000000000000\\work\\aten\\src\\ATen\\Context.cpp:208.)\n",
      "  pred_dist = pred_dist.view(b, a, 4, c // 4).softmax(3).matmul(self.proj.type(pred_dist.dtype))\n",
      "                 Class     Images  Instances      Box(P          R      mAP50  mAP50-95): 100%|██████████| 1/1 [00:00<00:00, 52.27it/s]"
     ]
    },
    {
     "name": "stdout",
     "output_type": "stream",
     "text": [
      "                   all          4         17      0.943      0.383      0.659      0.491\n"
     ]
    },
    {
     "name": "stderr",
     "output_type": "stream",
     "text": [
      "\n"
     ]
    },
    {
     "name": "stdout",
     "output_type": "stream",
     "text": [
      "\n",
      "      Epoch    GPU_mem   box_loss   cls_loss   dfl_loss  Instances       Size\n"
     ]
    },
    {
     "name": "stderr",
     "output_type": "stream",
     "text": [
      "  0%|          | 0/1 [00:00<?, ?it/s]c:\\Users\\dongi\\anaconda3\\envs\\vision-gpu\\lib\\site-packages\\ultralytics\\utils\\loss.py:201: UserWarning: Deterministic behavior was enabled with either `torch.use_deterministic_algorithms(True)` or `at::Context::setDeterministicAlgorithms(true)`, but this operation is not deterministic because it uses CuBLAS and you have CUDA >= 10.2. To enable deterministic behavior in this case, you must set an environment variable before running your PyTorch application: CUBLAS_WORKSPACE_CONFIG=:4096:8 or CUBLAS_WORKSPACE_CONFIG=:16:8. For more information, go to https://docs.nvidia.com/cuda/cublas/index.html#results-reproducibility (Triggered internally at C:\\cb\\pytorch_1000000000000\\work\\aten\\src\\ATen\\Context.cpp:208.)\n",
      "  pred_dist = pred_dist.view(b, a, 4, c // 4).softmax(3).matmul(self.proj.type(pred_dist.dtype))\n",
      "      20/30     0.592G      1.174      2.061      1.401         25        640: 100%|██████████| 1/1 [00:00<00:00, 14.04it/s]\n",
      "                 Class     Images  Instances      Box(P          R      mAP50  mAP50-95):   0%|          | 0/1 [00:00<?, ?it/s]c:\\Users\\dongi\\anaconda3\\envs\\vision-gpu\\lib\\site-packages\\ultralytics\\utils\\loss.py:201: UserWarning: Deterministic behavior was enabled with either `torch.use_deterministic_algorithms(True)` or `at::Context::setDeterministicAlgorithms(true)`, but this operation is not deterministic because it uses CuBLAS and you have CUDA >= 10.2. To enable deterministic behavior in this case, you must set an environment variable before running your PyTorch application: CUBLAS_WORKSPACE_CONFIG=:4096:8 or CUBLAS_WORKSPACE_CONFIG=:16:8. For more information, go to https://docs.nvidia.com/cuda/cublas/index.html#results-reproducibility (Triggered internally at C:\\cb\\pytorch_1000000000000\\work\\aten\\src\\ATen\\Context.cpp:208.)\n",
      "  pred_dist = pred_dist.view(b, a, 4, c // 4).softmax(3).matmul(self.proj.type(pred_dist.dtype))\n",
      "                 Class     Images  Instances      Box(P          R      mAP50  mAP50-95): 100%|██████████| 1/1 [00:00<00:00, 49.87it/s]"
     ]
    },
    {
     "name": "stdout",
     "output_type": "stream",
     "text": [
      "                   all          4         17      0.943      0.383      0.659      0.491\n"
     ]
    },
    {
     "name": "stderr",
     "output_type": "stream",
     "text": [
      "\n"
     ]
    },
    {
     "name": "stdout",
     "output_type": "stream",
     "text": [
      "Closing dataloader mosaic\n",
      "\n",
      "      Epoch    GPU_mem   box_loss   cls_loss   dfl_loss  Instances       Size\n"
     ]
    },
    {
     "name": "stderr",
     "output_type": "stream",
     "text": [
      "  0%|          | 0/1 [00:00<?, ?it/s]c:\\Users\\dongi\\anaconda3\\envs\\vision-gpu\\lib\\site-packages\\ultralytics\\utils\\loss.py:201: UserWarning: Deterministic behavior was enabled with either `torch.use_deterministic_algorithms(True)` or `at::Context::setDeterministicAlgorithms(true)`, but this operation is not deterministic because it uses CuBLAS and you have CUDA >= 10.2. To enable deterministic behavior in this case, you must set an environment variable before running your PyTorch application: CUBLAS_WORKSPACE_CONFIG=:4096:8 or CUBLAS_WORKSPACE_CONFIG=:16:8. For more information, go to https://docs.nvidia.com/cuda/cublas/index.html#results-reproducibility (Triggered internally at C:\\cb\\pytorch_1000000000000\\work\\aten\\src\\ATen\\Context.cpp:208.)\n",
      "  pred_dist = pred_dist.view(b, a, 4, c // 4).softmax(3).matmul(self.proj.type(pred_dist.dtype))\n",
      "      21/30     0.602G      1.069      1.806      1.416         13        640: 100%|██████████| 1/1 [00:01<00:00,  1.97s/it]\n",
      "                 Class     Images  Instances      Box(P          R      mAP50  mAP50-95):   0%|          | 0/1 [00:00<?, ?it/s]c:\\Users\\dongi\\anaconda3\\envs\\vision-gpu\\lib\\site-packages\\ultralytics\\utils\\loss.py:201: UserWarning: Deterministic behavior was enabled with either `torch.use_deterministic_algorithms(True)` or `at::Context::setDeterministicAlgorithms(true)`, but this operation is not deterministic because it uses CuBLAS and you have CUDA >= 10.2. To enable deterministic behavior in this case, you must set an environment variable before running your PyTorch application: CUBLAS_WORKSPACE_CONFIG=:4096:8 or CUBLAS_WORKSPACE_CONFIG=:16:8. For more information, go to https://docs.nvidia.com/cuda/cublas/index.html#results-reproducibility (Triggered internally at C:\\cb\\pytorch_1000000000000\\work\\aten\\src\\ATen\\Context.cpp:208.)\n",
      "  pred_dist = pred_dist.view(b, a, 4, c // 4).softmax(3).matmul(self.proj.type(pred_dist.dtype))\n",
      "                 Class     Images  Instances      Box(P          R      mAP50  mAP50-95): 100%|██████████| 1/1 [00:00<00:00, 15.15it/s]"
     ]
    },
    {
     "name": "stdout",
     "output_type": "stream",
     "text": [
      "                   all          4         17       0.94      0.383      0.631      0.475\n"
     ]
    },
    {
     "name": "stderr",
     "output_type": "stream",
     "text": [
      "\n"
     ]
    },
    {
     "name": "stdout",
     "output_type": "stream",
     "text": [
      "\n",
      "      Epoch    GPU_mem   box_loss   cls_loss   dfl_loss  Instances       Size\n"
     ]
    },
    {
     "name": "stderr",
     "output_type": "stream",
     "text": [
      "  0%|          | 0/1 [00:00<?, ?it/s]c:\\Users\\dongi\\anaconda3\\envs\\vision-gpu\\lib\\site-packages\\ultralytics\\utils\\loss.py:201: UserWarning: Deterministic behavior was enabled with either `torch.use_deterministic_algorithms(True)` or `at::Context::setDeterministicAlgorithms(true)`, but this operation is not deterministic because it uses CuBLAS and you have CUDA >= 10.2. To enable deterministic behavior in this case, you must set an environment variable before running your PyTorch application: CUBLAS_WORKSPACE_CONFIG=:4096:8 or CUBLAS_WORKSPACE_CONFIG=:16:8. For more information, go to https://docs.nvidia.com/cuda/cublas/index.html#results-reproducibility (Triggered internally at C:\\cb\\pytorch_1000000000000\\work\\aten\\src\\ATen\\Context.cpp:208.)\n",
      "  pred_dist = pred_dist.view(b, a, 4, c // 4).softmax(3).matmul(self.proj.type(pred_dist.dtype))\n",
      "      22/30     0.598G      1.066      2.468      1.311         13        640: 100%|██████████| 1/1 [00:00<00:00, 18.86it/s]\n",
      "                 Class     Images  Instances      Box(P          R      mAP50  mAP50-95):   0%|          | 0/1 [00:00<?, ?it/s]c:\\Users\\dongi\\anaconda3\\envs\\vision-gpu\\lib\\site-packages\\ultralytics\\utils\\loss.py:201: UserWarning: Deterministic behavior was enabled with either `torch.use_deterministic_algorithms(True)` or `at::Context::setDeterministicAlgorithms(true)`, but this operation is not deterministic because it uses CuBLAS and you have CUDA >= 10.2. To enable deterministic behavior in this case, you must set an environment variable before running your PyTorch application: CUBLAS_WORKSPACE_CONFIG=:4096:8 or CUBLAS_WORKSPACE_CONFIG=:16:8. For more information, go to https://docs.nvidia.com/cuda/cublas/index.html#results-reproducibility (Triggered internally at C:\\cb\\pytorch_1000000000000\\work\\aten\\src\\ATen\\Context.cpp:208.)\n",
      "  pred_dist = pred_dist.view(b, a, 4, c // 4).softmax(3).matmul(self.proj.type(pred_dist.dtype))\n",
      "                 Class     Images  Instances      Box(P          R      mAP50  mAP50-95): 100%|██████████| 1/1 [00:00<00:00, 31.25it/s]"
     ]
    },
    {
     "name": "stdout",
     "output_type": "stream",
     "text": [
      "                   all          4         17       0.94      0.383      0.631      0.475\n"
     ]
    },
    {
     "name": "stderr",
     "output_type": "stream",
     "text": [
      "\n"
     ]
    },
    {
     "name": "stdout",
     "output_type": "stream",
     "text": [
      "\n",
      "      Epoch    GPU_mem   box_loss   cls_loss   dfl_loss  Instances       Size\n"
     ]
    },
    {
     "name": "stderr",
     "output_type": "stream",
     "text": [
      "  0%|          | 0/1 [00:00<?, ?it/s]c:\\Users\\dongi\\anaconda3\\envs\\vision-gpu\\lib\\site-packages\\ultralytics\\utils\\loss.py:201: UserWarning: Deterministic behavior was enabled with either `torch.use_deterministic_algorithms(True)` or `at::Context::setDeterministicAlgorithms(true)`, but this operation is not deterministic because it uses CuBLAS and you have CUDA >= 10.2. To enable deterministic behavior in this case, you must set an environment variable before running your PyTorch application: CUBLAS_WORKSPACE_CONFIG=:4096:8 or CUBLAS_WORKSPACE_CONFIG=:16:8. For more information, go to https://docs.nvidia.com/cuda/cublas/index.html#results-reproducibility (Triggered internally at C:\\cb\\pytorch_1000000000000\\work\\aten\\src\\ATen\\Context.cpp:208.)\n",
      "  pred_dist = pred_dist.view(b, a, 4, c // 4).softmax(3).matmul(self.proj.type(pred_dist.dtype))\n",
      "      23/30     0.609G     0.7968      1.535      1.195         13        640: 100%|██████████| 1/1 [00:00<00:00, 17.24it/s]\n",
      "                 Class     Images  Instances      Box(P          R      mAP50  mAP50-95):   0%|          | 0/1 [00:00<?, ?it/s]c:\\Users\\dongi\\anaconda3\\envs\\vision-gpu\\lib\\site-packages\\ultralytics\\utils\\loss.py:201: UserWarning: Deterministic behavior was enabled with either `torch.use_deterministic_algorithms(True)` or `at::Context::setDeterministicAlgorithms(true)`, but this operation is not deterministic because it uses CuBLAS and you have CUDA >= 10.2. To enable deterministic behavior in this case, you must set an environment variable before running your PyTorch application: CUBLAS_WORKSPACE_CONFIG=:4096:8 or CUBLAS_WORKSPACE_CONFIG=:16:8. For more information, go to https://docs.nvidia.com/cuda/cublas/index.html#results-reproducibility (Triggered internally at C:\\cb\\pytorch_1000000000000\\work\\aten\\src\\ATen\\Context.cpp:208.)\n",
      "  pred_dist = pred_dist.view(b, a, 4, c // 4).softmax(3).matmul(self.proj.type(pred_dist.dtype))\n",
      "                 Class     Images  Instances      Box(P          R      mAP50  mAP50-95): 100%|██████████| 1/1 [00:00<00:00, 35.71it/s]"
     ]
    },
    {
     "name": "stdout",
     "output_type": "stream",
     "text": [
      "                   all          4         17      0.932      0.383      0.656      0.466\n"
     ]
    },
    {
     "name": "stderr",
     "output_type": "stream",
     "text": [
      "\n"
     ]
    },
    {
     "name": "stdout",
     "output_type": "stream",
     "text": [
      "\n",
      "      Epoch    GPU_mem   box_loss   cls_loss   dfl_loss  Instances       Size\n"
     ]
    },
    {
     "name": "stderr",
     "output_type": "stream",
     "text": [
      "  0%|          | 0/1 [00:00<?, ?it/s]c:\\Users\\dongi\\anaconda3\\envs\\vision-gpu\\lib\\site-packages\\ultralytics\\utils\\loss.py:201: UserWarning: Deterministic behavior was enabled with either `torch.use_deterministic_algorithms(True)` or `at::Context::setDeterministicAlgorithms(true)`, but this operation is not deterministic because it uses CuBLAS and you have CUDA >= 10.2. To enable deterministic behavior in this case, you must set an environment variable before running your PyTorch application: CUBLAS_WORKSPACE_CONFIG=:4096:8 or CUBLAS_WORKSPACE_CONFIG=:16:8. For more information, go to https://docs.nvidia.com/cuda/cublas/index.html#results-reproducibility (Triggered internally at C:\\cb\\pytorch_1000000000000\\work\\aten\\src\\ATen\\Context.cpp:208.)\n",
      "  pred_dist = pred_dist.view(b, a, 4, c // 4).softmax(3).matmul(self.proj.type(pred_dist.dtype))\n",
      "      24/30     0.598G     0.9149      1.698      1.164         13        640: 100%|██████████| 1/1 [00:00<00:00, 21.05it/s]\n",
      "                 Class     Images  Instances      Box(P          R      mAP50  mAP50-95):   0%|          | 0/1 [00:00<?, ?it/s]c:\\Users\\dongi\\anaconda3\\envs\\vision-gpu\\lib\\site-packages\\ultralytics\\utils\\loss.py:201: UserWarning: Deterministic behavior was enabled with either `torch.use_deterministic_algorithms(True)` or `at::Context::setDeterministicAlgorithms(true)`, but this operation is not deterministic because it uses CuBLAS and you have CUDA >= 10.2. To enable deterministic behavior in this case, you must set an environment variable before running your PyTorch application: CUBLAS_WORKSPACE_CONFIG=:4096:8 or CUBLAS_WORKSPACE_CONFIG=:16:8. For more information, go to https://docs.nvidia.com/cuda/cublas/index.html#results-reproducibility (Triggered internally at C:\\cb\\pytorch_1000000000000\\work\\aten\\src\\ATen\\Context.cpp:208.)\n",
      "  pred_dist = pred_dist.view(b, a, 4, c // 4).softmax(3).matmul(self.proj.type(pred_dist.dtype))\n",
      "                 Class     Images  Instances      Box(P          R      mAP50  mAP50-95): 100%|██████████| 1/1 [00:00<00:00, 33.33it/s]"
     ]
    },
    {
     "name": "stdout",
     "output_type": "stream",
     "text": [
      "                   all          4         17      0.932      0.383      0.656      0.466\n"
     ]
    },
    {
     "name": "stderr",
     "output_type": "stream",
     "text": [
      "\n"
     ]
    },
    {
     "name": "stdout",
     "output_type": "stream",
     "text": [
      "\n",
      "      Epoch    GPU_mem   box_loss   cls_loss   dfl_loss  Instances       Size\n"
     ]
    },
    {
     "name": "stderr",
     "output_type": "stream",
     "text": [
      "  0%|          | 0/1 [00:00<?, ?it/s]c:\\Users\\dongi\\anaconda3\\envs\\vision-gpu\\lib\\site-packages\\ultralytics\\utils\\loss.py:201: UserWarning: Deterministic behavior was enabled with either `torch.use_deterministic_algorithms(True)` or `at::Context::setDeterministicAlgorithms(true)`, but this operation is not deterministic because it uses CuBLAS and you have CUDA >= 10.2. To enable deterministic behavior in this case, you must set an environment variable before running your PyTorch application: CUBLAS_WORKSPACE_CONFIG=:4096:8 or CUBLAS_WORKSPACE_CONFIG=:16:8. For more information, go to https://docs.nvidia.com/cuda/cublas/index.html#results-reproducibility (Triggered internally at C:\\cb\\pytorch_1000000000000\\work\\aten\\src\\ATen\\Context.cpp:208.)\n",
      "  pred_dist = pred_dist.view(b, a, 4, c // 4).softmax(3).matmul(self.proj.type(pred_dist.dtype))\n",
      "      25/30     0.607G     0.7499      1.607      1.071         13        640: 100%|██████████| 1/1 [00:00<00:00, 16.67it/s]\n",
      "                 Class     Images  Instances      Box(P          R      mAP50  mAP50-95):   0%|          | 0/1 [00:00<?, ?it/s]c:\\Users\\dongi\\anaconda3\\envs\\vision-gpu\\lib\\site-packages\\ultralytics\\utils\\loss.py:201: UserWarning: Deterministic behavior was enabled with either `torch.use_deterministic_algorithms(True)` or `at::Context::setDeterministicAlgorithms(true)`, but this operation is not deterministic because it uses CuBLAS and you have CUDA >= 10.2. To enable deterministic behavior in this case, you must set an environment variable before running your PyTorch application: CUBLAS_WORKSPACE_CONFIG=:4096:8 or CUBLAS_WORKSPACE_CONFIG=:16:8. For more information, go to https://docs.nvidia.com/cuda/cublas/index.html#results-reproducibility (Triggered internally at C:\\cb\\pytorch_1000000000000\\work\\aten\\src\\ATen\\Context.cpp:208.)\n",
      "  pred_dist = pred_dist.view(b, a, 4, c // 4).softmax(3).matmul(self.proj.type(pred_dist.dtype))\n",
      "                 Class     Images  Instances      Box(P          R      mAP50  mAP50-95): 100%|██████████| 1/1 [00:00<00:00, 39.20it/s]"
     ]
    },
    {
     "name": "stdout",
     "output_type": "stream",
     "text": [
      "                   all          4         17      0.919      0.383      0.739      0.476\n"
     ]
    },
    {
     "name": "stderr",
     "output_type": "stream",
     "text": [
      "\n"
     ]
    },
    {
     "name": "stdout",
     "output_type": "stream",
     "text": [
      "\n",
      "      Epoch    GPU_mem   box_loss   cls_loss   dfl_loss  Instances       Size\n"
     ]
    },
    {
     "name": "stderr",
     "output_type": "stream",
     "text": [
      "  0%|          | 0/1 [00:00<?, ?it/s]c:\\Users\\dongi\\anaconda3\\envs\\vision-gpu\\lib\\site-packages\\ultralytics\\utils\\loss.py:201: UserWarning: Deterministic behavior was enabled with either `torch.use_deterministic_algorithms(True)` or `at::Context::setDeterministicAlgorithms(true)`, but this operation is not deterministic because it uses CuBLAS and you have CUDA >= 10.2. To enable deterministic behavior in this case, you must set an environment variable before running your PyTorch application: CUBLAS_WORKSPACE_CONFIG=:4096:8 or CUBLAS_WORKSPACE_CONFIG=:16:8. For more information, go to https://docs.nvidia.com/cuda/cublas/index.html#results-reproducibility (Triggered internally at C:\\cb\\pytorch_1000000000000\\work\\aten\\src\\ATen\\Context.cpp:208.)\n",
      "  pred_dist = pred_dist.view(b, a, 4, c // 4).softmax(3).matmul(self.proj.type(pred_dist.dtype))\n",
      "      26/30     0.598G     0.8248      1.524      1.281         13        640: 100%|██████████| 1/1 [00:00<00:00, 19.04it/s]\n",
      "                 Class     Images  Instances      Box(P          R      mAP50  mAP50-95):   0%|          | 0/1 [00:00<?, ?it/s]c:\\Users\\dongi\\anaconda3\\envs\\vision-gpu\\lib\\site-packages\\ultralytics\\utils\\loss.py:201: UserWarning: Deterministic behavior was enabled with either `torch.use_deterministic_algorithms(True)` or `at::Context::setDeterministicAlgorithms(true)`, but this operation is not deterministic because it uses CuBLAS and you have CUDA >= 10.2. To enable deterministic behavior in this case, you must set an environment variable before running your PyTorch application: CUBLAS_WORKSPACE_CONFIG=:4096:8 or CUBLAS_WORKSPACE_CONFIG=:16:8. For more information, go to https://docs.nvidia.com/cuda/cublas/index.html#results-reproducibility (Triggered internally at C:\\cb\\pytorch_1000000000000\\work\\aten\\src\\ATen\\Context.cpp:208.)\n",
      "  pred_dist = pred_dist.view(b, a, 4, c // 4).softmax(3).matmul(self.proj.type(pred_dist.dtype))\n",
      "                 Class     Images  Instances      Box(P          R      mAP50  mAP50-95): 100%|██████████| 1/1 [00:00<00:00, 37.04it/s]"
     ]
    },
    {
     "name": "stdout",
     "output_type": "stream",
     "text": [
      "                   all          4         17      0.919      0.383      0.739      0.476\n"
     ]
    },
    {
     "name": "stderr",
     "output_type": "stream",
     "text": [
      "\n"
     ]
    },
    {
     "name": "stdout",
     "output_type": "stream",
     "text": [
      "\n",
      "      Epoch    GPU_mem   box_loss   cls_loss   dfl_loss  Instances       Size\n"
     ]
    },
    {
     "name": "stderr",
     "output_type": "stream",
     "text": [
      "  0%|          | 0/1 [00:00<?, ?it/s]c:\\Users\\dongi\\anaconda3\\envs\\vision-gpu\\lib\\site-packages\\ultralytics\\utils\\loss.py:201: UserWarning: Deterministic behavior was enabled with either `torch.use_deterministic_algorithms(True)` or `at::Context::setDeterministicAlgorithms(true)`, but this operation is not deterministic because it uses CuBLAS and you have CUDA >= 10.2. To enable deterministic behavior in this case, you must set an environment variable before running your PyTorch application: CUBLAS_WORKSPACE_CONFIG=:4096:8 or CUBLAS_WORKSPACE_CONFIG=:16:8. For more information, go to https://docs.nvidia.com/cuda/cublas/index.html#results-reproducibility (Triggered internally at C:\\cb\\pytorch_1000000000000\\work\\aten\\src\\ATen\\Context.cpp:208.)\n",
      "  pred_dist = pred_dist.view(b, a, 4, c // 4).softmax(3).matmul(self.proj.type(pred_dist.dtype))\n",
      "      27/30     0.607G      1.045       2.15        1.2         13        640: 100%|██████████| 1/1 [00:00<00:00, 14.43it/s]\n",
      "                 Class     Images  Instances      Box(P          R      mAP50  mAP50-95):   0%|          | 0/1 [00:00<?, ?it/s]c:\\Users\\dongi\\anaconda3\\envs\\vision-gpu\\lib\\site-packages\\ultralytics\\utils\\loss.py:201: UserWarning: Deterministic behavior was enabled with either `torch.use_deterministic_algorithms(True)` or `at::Context::setDeterministicAlgorithms(true)`, but this operation is not deterministic because it uses CuBLAS and you have CUDA >= 10.2. To enable deterministic behavior in this case, you must set an environment variable before running your PyTorch application: CUBLAS_WORKSPACE_CONFIG=:4096:8 or CUBLAS_WORKSPACE_CONFIG=:16:8. For more information, go to https://docs.nvidia.com/cuda/cublas/index.html#results-reproducibility (Triggered internally at C:\\cb\\pytorch_1000000000000\\work\\aten\\src\\ATen\\Context.cpp:208.)\n",
      "  pred_dist = pred_dist.view(b, a, 4, c // 4).softmax(3).matmul(self.proj.type(pred_dist.dtype))\n",
      "                 Class     Images  Instances      Box(P          R      mAP50  mAP50-95): 100%|██████████| 1/1 [00:00<00:00, 28.84it/s]"
     ]
    },
    {
     "name": "stdout",
     "output_type": "stream",
     "text": [
      "                   all          4         17       0.74      0.383      0.657      0.468\n"
     ]
    },
    {
     "name": "stderr",
     "output_type": "stream",
     "text": [
      "\n"
     ]
    },
    {
     "name": "stdout",
     "output_type": "stream",
     "text": [
      "\n",
      "      Epoch    GPU_mem   box_loss   cls_loss   dfl_loss  Instances       Size\n"
     ]
    },
    {
     "name": "stderr",
     "output_type": "stream",
     "text": [
      "  0%|          | 0/1 [00:00<?, ?it/s]c:\\Users\\dongi\\anaconda3\\envs\\vision-gpu\\lib\\site-packages\\ultralytics\\utils\\loss.py:201: UserWarning: Deterministic behavior was enabled with either `torch.use_deterministic_algorithms(True)` or `at::Context::setDeterministicAlgorithms(true)`, but this operation is not deterministic because it uses CuBLAS and you have CUDA >= 10.2. To enable deterministic behavior in this case, you must set an environment variable before running your PyTorch application: CUBLAS_WORKSPACE_CONFIG=:4096:8 or CUBLAS_WORKSPACE_CONFIG=:16:8. For more information, go to https://docs.nvidia.com/cuda/cublas/index.html#results-reproducibility (Triggered internally at C:\\cb\\pytorch_1000000000000\\work\\aten\\src\\ATen\\Context.cpp:208.)\n",
      "  pred_dist = pred_dist.view(b, a, 4, c // 4).softmax(3).matmul(self.proj.type(pred_dist.dtype))\n",
      "      28/30     0.598G     0.8025      1.233      1.144         13        640: 100%|██████████| 1/1 [00:00<00:00, 19.94it/s]\n",
      "                 Class     Images  Instances      Box(P          R      mAP50  mAP50-95):   0%|          | 0/1 [00:00<?, ?it/s]c:\\Users\\dongi\\anaconda3\\envs\\vision-gpu\\lib\\site-packages\\ultralytics\\utils\\loss.py:201: UserWarning: Deterministic behavior was enabled with either `torch.use_deterministic_algorithms(True)` or `at::Context::setDeterministicAlgorithms(true)`, but this operation is not deterministic because it uses CuBLAS and you have CUDA >= 10.2. To enable deterministic behavior in this case, you must set an environment variable before running your PyTorch application: CUBLAS_WORKSPACE_CONFIG=:4096:8 or CUBLAS_WORKSPACE_CONFIG=:16:8. For more information, go to https://docs.nvidia.com/cuda/cublas/index.html#results-reproducibility (Triggered internally at C:\\cb\\pytorch_1000000000000\\work\\aten\\src\\ATen\\Context.cpp:208.)\n",
      "  pred_dist = pred_dist.view(b, a, 4, c // 4).softmax(3).matmul(self.proj.type(pred_dist.dtype))\n",
      "                 Class     Images  Instances      Box(P          R      mAP50  mAP50-95): 100%|██████████| 1/1 [00:00<00:00, 38.27it/s]"
     ]
    },
    {
     "name": "stdout",
     "output_type": "stream",
     "text": [
      "                   all          4         17       0.74      0.383      0.657      0.468\n"
     ]
    },
    {
     "name": "stderr",
     "output_type": "stream",
     "text": [
      "\n"
     ]
    },
    {
     "name": "stdout",
     "output_type": "stream",
     "text": [
      "\n",
      "      Epoch    GPU_mem   box_loss   cls_loss   dfl_loss  Instances       Size\n"
     ]
    },
    {
     "name": "stderr",
     "output_type": "stream",
     "text": [
      "  0%|          | 0/1 [00:00<?, ?it/s]c:\\Users\\dongi\\anaconda3\\envs\\vision-gpu\\lib\\site-packages\\ultralytics\\utils\\loss.py:201: UserWarning: Deterministic behavior was enabled with either `torch.use_deterministic_algorithms(True)` or `at::Context::setDeterministicAlgorithms(true)`, but this operation is not deterministic because it uses CuBLAS and you have CUDA >= 10.2. To enable deterministic behavior in this case, you must set an environment variable before running your PyTorch application: CUBLAS_WORKSPACE_CONFIG=:4096:8 or CUBLAS_WORKSPACE_CONFIG=:16:8. For more information, go to https://docs.nvidia.com/cuda/cublas/index.html#results-reproducibility (Triggered internally at C:\\cb\\pytorch_1000000000000\\work\\aten\\src\\ATen\\Context.cpp:208.)\n",
      "  pred_dist = pred_dist.view(b, a, 4, c // 4).softmax(3).matmul(self.proj.type(pred_dist.dtype))\n",
      "      29/30     0.607G       0.83      1.579      1.107         13        640: 100%|██████████| 1/1 [00:00<00:00, 14.57it/s]\n",
      "                 Class     Images  Instances      Box(P          R      mAP50  mAP50-95):   0%|          | 0/1 [00:00<?, ?it/s]c:\\Users\\dongi\\anaconda3\\envs\\vision-gpu\\lib\\site-packages\\ultralytics\\utils\\loss.py:201: UserWarning: Deterministic behavior was enabled with either `torch.use_deterministic_algorithms(True)` or `at::Context::setDeterministicAlgorithms(true)`, but this operation is not deterministic because it uses CuBLAS and you have CUDA >= 10.2. To enable deterministic behavior in this case, you must set an environment variable before running your PyTorch application: CUBLAS_WORKSPACE_CONFIG=:4096:8 or CUBLAS_WORKSPACE_CONFIG=:16:8. For more information, go to https://docs.nvidia.com/cuda/cublas/index.html#results-reproducibility (Triggered internally at C:\\cb\\pytorch_1000000000000\\work\\aten\\src\\ATen\\Context.cpp:208.)\n",
      "  pred_dist = pred_dist.view(b, a, 4, c // 4).softmax(3).matmul(self.proj.type(pred_dist.dtype))\n",
      "                 Class     Images  Instances      Box(P          R      mAP50  mAP50-95): 100%|██████████| 1/1 [00:00<00:00, 32.17it/s]"
     ]
    },
    {
     "name": "stdout",
     "output_type": "stream",
     "text": [
      "                   all          4         17      0.888      0.383      0.657      0.458\n"
     ]
    },
    {
     "name": "stderr",
     "output_type": "stream",
     "text": [
      "\n"
     ]
    },
    {
     "name": "stdout",
     "output_type": "stream",
     "text": [
      "\n",
      "      Epoch    GPU_mem   box_loss   cls_loss   dfl_loss  Instances       Size\n"
     ]
    },
    {
     "name": "stderr",
     "output_type": "stream",
     "text": [
      "  0%|          | 0/1 [00:00<?, ?it/s]c:\\Users\\dongi\\anaconda3\\envs\\vision-gpu\\lib\\site-packages\\ultralytics\\utils\\loss.py:201: UserWarning: Deterministic behavior was enabled with either `torch.use_deterministic_algorithms(True)` or `at::Context::setDeterministicAlgorithms(true)`, but this operation is not deterministic because it uses CuBLAS and you have CUDA >= 10.2. To enable deterministic behavior in this case, you must set an environment variable before running your PyTorch application: CUBLAS_WORKSPACE_CONFIG=:4096:8 or CUBLAS_WORKSPACE_CONFIG=:16:8. For more information, go to https://docs.nvidia.com/cuda/cublas/index.html#results-reproducibility (Triggered internally at C:\\cb\\pytorch_1000000000000\\work\\aten\\src\\ATen\\Context.cpp:208.)\n",
      "  pred_dist = pred_dist.view(b, a, 4, c // 4).softmax(3).matmul(self.proj.type(pred_dist.dtype))\n",
      "      30/30     0.598G     0.8082       1.54      1.173         13        640: 100%|██████████| 1/1 [00:00<00:00, 16.38it/s]\n",
      "                 Class     Images  Instances      Box(P          R      mAP50  mAP50-95):   0%|          | 0/1 [00:00<?, ?it/s]c:\\Users\\dongi\\anaconda3\\envs\\vision-gpu\\lib\\site-packages\\ultralytics\\utils\\loss.py:201: UserWarning: Deterministic behavior was enabled with either `torch.use_deterministic_algorithms(True)` or `at::Context::setDeterministicAlgorithms(true)`, but this operation is not deterministic because it uses CuBLAS and you have CUDA >= 10.2. To enable deterministic behavior in this case, you must set an environment variable before running your PyTorch application: CUBLAS_WORKSPACE_CONFIG=:4096:8 or CUBLAS_WORKSPACE_CONFIG=:16:8. For more information, go to https://docs.nvidia.com/cuda/cublas/index.html#results-reproducibility (Triggered internally at C:\\cb\\pytorch_1000000000000\\work\\aten\\src\\ATen\\Context.cpp:208.)\n",
      "  pred_dist = pred_dist.view(b, a, 4, c // 4).softmax(3).matmul(self.proj.type(pred_dist.dtype))\n",
      "                 Class     Images  Instances      Box(P          R      mAP50  mAP50-95): 100%|██████████| 1/1 [00:00<00:00, 38.46it/s]"
     ]
    },
    {
     "name": "stdout",
     "output_type": "stream",
     "text": [
      "                   all          4         17      0.888      0.383      0.657      0.458\n"
     ]
    },
    {
     "name": "stderr",
     "output_type": "stream",
     "text": [
      "\n"
     ]
    },
    {
     "name": "stdout",
     "output_type": "stream",
     "text": [
      "\n",
      "30 epochs completed in 0.005 hours.\n",
      "Optimizer stripped from runs\\detect\\yolov8n_coco8_test\\weights\\last.pt, 6.5MB\n",
      "Optimizer stripped from runs\\detect\\yolov8n_coco8_test\\weights\\best.pt, 6.5MB\n",
      "\n",
      "Validating runs\\detect\\yolov8n_coco8_test\\weights\\best.pt...\n",
      "Ultralytics 8.3.86  Python-3.9.20 torch-2.5.1 CUDA:0 (NVIDIA GeForce RTX 4070 Ti, 12282MiB)\n",
      "Model summary (fused): 72 layers, 3,151,904 parameters, 0 gradients, 8.7 GFLOPs\n"
     ]
    },
    {
     "name": "stderr",
     "output_type": "stream",
     "text": [
      "c:\\Users\\dongi\\anaconda3\\envs\\vision-gpu\\lib\\site-packages\\ultralytics\\utils\\torch_utils.py:262: UserWarning: Deterministic behavior was enabled with either `torch.use_deterministic_algorithms(True)` or `at::Context::setDeterministicAlgorithms(true)`, but this operation is not deterministic because it uses CuBLAS and you have CUDA >= 10.2. To enable deterministic behavior in this case, you must set an environment variable before running your PyTorch application: CUBLAS_WORKSPACE_CONFIG=:4096:8 or CUBLAS_WORKSPACE_CONFIG=:16:8. For more information, go to https://docs.nvidia.com/cuda/cublas/index.html#results-reproducibility (Triggered internally at C:\\cb\\pytorch_1000000000000\\work\\aten\\src\\ATen\\Context.cpp:208.)\n",
      "  fusedconv.weight.copy_(torch.mm(w_bn, w_conv).view(fusedconv.weight.shape))\n",
      "c:\\Users\\dongi\\anaconda3\\envs\\vision-gpu\\lib\\site-packages\\ultralytics\\utils\\torch_utils.py:267: UserWarning: Deterministic behavior was enabled with either `torch.use_deterministic_algorithms(True)` or `at::Context::setDeterministicAlgorithms(true)`, but this operation is not deterministic because it uses CuBLAS and you have CUDA >= 10.2. To enable deterministic behavior in this case, you must set an environment variable before running your PyTorch application: CUBLAS_WORKSPACE_CONFIG=:4096:8 or CUBLAS_WORKSPACE_CONFIG=:16:8. For more information, go to https://docs.nvidia.com/cuda/cublas/index.html#results-reproducibility (Triggered internally at C:\\cb\\pytorch_1000000000000\\work\\aten\\src\\ATen\\Context.cpp:208.)\n",
      "  fusedconv.bias.copy_(torch.mm(w_bn, b_conv.reshape(-1, 1)).reshape(-1) + b_bn)\n",
      "                 Class     Images  Instances      Box(P          R      mAP50  mAP50-95): 100%|██████████| 1/1 [00:00<00:00, 34.48it/s]\n"
     ]
    },
    {
     "name": "stdout",
     "output_type": "stream",
     "text": [
      "                   all          4         17      0.599      0.898      0.888      0.623\n",
      "                person          3         10      0.646        0.5       0.52      0.286\n",
      "                   dog          1          1      0.319          1      0.995      0.597\n",
      "                 horse          1          2        0.7          1      0.995      0.648\n",
      "              elephant          1          2       0.63      0.891      0.828      0.319\n",
      "              umbrella          1          1      0.542          1      0.995      0.995\n",
      "          potted plant          1          1       0.76          1      0.995      0.895\n",
      "Speed: 0.2ms preprocess, 2.0ms inference, 0.0ms loss, 0.6ms postprocess per image\n",
      "Results saved to \u001b[1mruns\\detect\\yolov8n_coco8_test\u001b[0m\n",
      "\n",
      "학습 완료!\n",
      "결과 저장 경로: runs\\detect\\yolov8n_coco8_test\n",
      "\n",
      "학습 결과 요약:\n",
      "- 최종 mAP50: 0.8880077331262538\n",
      "- 최종 mAP50-95: 0.6233568480091135\n",
      "- 최종 손실: N/A\n",
      "\n",
      "검증 실행 중...\n",
      "Ultralytics 8.3.86  Python-3.9.20 torch-2.5.1 CUDA:0 (NVIDIA GeForce RTX 4070 Ti, 12282MiB)\n",
      "Model summary (fused): 72 layers, 3,151,904 parameters, 0 gradients, 8.7 GFLOPs\n"
     ]
    },
    {
     "name": "stderr",
     "output_type": "stream",
     "text": [
      "\u001b[34m\u001b[1mval: \u001b[0mScanning C:\\Users\\dongi\\git\\model-conversion-2-spring-2025\\CV\\object_detection\\datasets\\coco8\\labels\\val.cache... 4 images, 0 backgrounds, 0 corrupt: 100%|██████████| 4/4 [00:00<?, ?it/s]\n",
      "                 Class     Images  Instances      Box(P          R      mAP50  mAP50-95): 100%|██████████| 1/1 [00:02<00:00,  2.21s/it]\n"
     ]
    },
    {
     "name": "stdout",
     "output_type": "stream",
     "text": [
      "                   all          4         17      0.599      0.897      0.888      0.625\n",
      "                person          3         10      0.646        0.5      0.519      0.296\n",
      "                   dog          1          1       0.32          1      0.995      0.597\n",
      "                 horse          1          2        0.7          1      0.995      0.648\n",
      "              elephant          1          2      0.628      0.883      0.828      0.319\n",
      "              umbrella          1          1      0.542          1      0.995      0.995\n",
      "          potted plant          1          1      0.761          1      0.995      0.895\n",
      "Speed: 1.5ms preprocess, 21.0ms inference, 0.0ms loss, 1.8ms postprocess per image\n",
      "Results saved to \u001b[1mruns\\detect\\yolov8n_coco8_test\u001b[0m\n",
      "검증 완료!\n",
      "\n",
      "GPU 메모리 사용량:\n",
      "할당된 메모리: 0.08 GB\n",
      "최대 메모리 사용량: 3.23 GB\n",
      "\n",
      "테스트 완료!\n"
     ]
    }
   ],
   "source": [
    "import torch\n",
    "import subprocess\n",
    "import os\n",
    "from ultralytics import YOLO\n",
    "\n",
    "# GPU 상태 확인\n",
    "print(f\"GPU 사용 가능: {torch.cuda.is_available()}\")\n",
    "if torch.cuda.is_available():\n",
    "    print(f\"GPU 모델: {torch.cuda.get_device_name(0)}\")\n",
    "    print(f\"CUDA 버전: {torch.version.cuda}\")\n",
    "\n",
    "# YOLOv8n 모델 로드\n",
    "print(\"\\nYOLOv8n 모델 로드 중...\")\n",
    "model = YOLO(\"yolov8n.pt\")\n",
    "print(\"모델 로드 완료!\")\n",
    "\n",
    "# 학습 설정\n",
    "print(\"\\n학습 설정:\")\n",
    "epochs = 30  # 테스트용 에포크 수\n",
    "batch_size = 16  # 명시적 배치 크기 설정\n",
    "imgsz = 640  # 이미지 크기\n",
    "data = \"coco8.yaml\"  # Ultralytics 내장 샘플 데이터셋\n",
    "\n",
    "print(f\"- 에포크: {epochs}\")\n",
    "print(f\"- 배치 크기: {batch_size}\")\n",
    "print(f\"- 이미지 크기: {imgsz}\")\n",
    "print(f\"- 데이터 설정: {data} (내장 샘플 데이터셋)\")\n",
    "\n",
    "# GPU 사용량 모니터링 시작\n",
    "print(\"\\nGPU 사용량 모니터링 시작...\")\n",
    "try:\n",
    "    # Windows에서는 별도 창에서 실행\n",
    "    subprocess.Popen(\"start cmd /k nvidia-smi -l 5\", shell=True)\n",
    "except:\n",
    "    print(\"nvidia-smi 명령어를 실행할 수 없습니다.\")\n",
    "\n",
    "# 학습 시작\n",
    "print(\"\\n학습 시작...\")\n",
    "try:\n",
    "    results = model.train(\n",
    "        data=data,  # 내장 샘플 데이터셋 사용\n",
    "        epochs=epochs,\n",
    "        imgsz=imgsz,\n",
    "        batch=batch_size,\n",
    "        name=\"yolov8n_coco8_test\",\n",
    "        verbose=True,\n",
    "        device=0,\n",
    "        workers=8,\n",
    "        exist_ok=True,\n",
    "        pretrained=True,\n",
    "        patience=0  # 테스트용으로 early stopping 비활성화\n",
    "    )\n",
    "    \n",
    "    print(\"\\n학습 완료!\")\n",
    "    print(f\"결과 저장 경로: {os.path.join('runs', 'detect', 'yolov8n_coco8_test')}\")\n",
    "    \n",
    "    # 학습 결과 요약\n",
    "    print(\"\\n학습 결과 요약:\")\n",
    "    if hasattr(results, 'results_dict'):\n",
    "        print(f\"- 최종 mAP50: {results.results_dict.get('metrics/mAP50(B)', 'N/A')}\")\n",
    "        print(f\"- 최종 mAP50-95: {results.results_dict.get('metrics/mAP50-95(B)', 'N/A')}\")\n",
    "        print(f\"- 최종 손실: {results.results_dict.get('metrics/loss(B)', 'N/A')}\")\n",
    "    \n",
    "    # 검증 실행\n",
    "    print(\"\\n검증 실행 중...\")\n",
    "    val_results = model.val()\n",
    "    print(\"검증 완료!\")\n",
    "    \n",
    "except Exception as e:\n",
    "    print(f\"\\n학습 중 오류 발생: {e}\")\n",
    "\n",
    "finally:\n",
    "    # GPU 정보 출력\n",
    "    if torch.cuda.is_available():\n",
    "        print(\"\\nGPU 메모리 사용량:\")\n",
    "        print(f\"할당된 메모리: {torch.cuda.memory_allocated() / 1024**3:.2f} GB\")\n",
    "        print(f\"최대 메모리 사용량: {torch.cuda.max_memory_allocated() / 1024**3:.2f} GB\")\n",
    "    \n",
    "    print(\"\\n테스트 완료!\")"
   ]
  },
  {
   "cell_type": "code",
   "execution_count": null,
   "metadata": {},
   "outputs": [],
   "source": []
  }
 ],
 "metadata": {
  "kernelspec": {
   "display_name": "vision-gpu",
   "language": "python",
   "name": "python3"
  },
  "language_info": {
   "codemirror_mode": {
    "name": "ipython",
    "version": 3
   },
   "file_extension": ".py",
   "mimetype": "text/x-python",
   "name": "python",
   "nbconvert_exporter": "python",
   "pygments_lexer": "ipython3",
   "version": "3.9.20"
  }
 },
 "nbformat": 4,
 "nbformat_minor": 2
}
