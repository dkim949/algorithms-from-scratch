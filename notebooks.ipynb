{
 "cells": [
  {
   "cell_type": "markdown",
   "metadata": {},
   "source": [
    "# Data Load"
   ]
  },
  {
   "cell_type": "code",
   "execution_count": 2,
   "metadata": {},
   "outputs": [
    {
     "name": "stdout",
     "output_type": "stream",
     "text": [
      "California Housing 데이터셋이 저장되었습니다.\n",
      "Iris 데이터셋이 저장되었습니다.\n"
     ]
    }
   ],
   "source": [
    "import pandas as pd\n",
    "from sklearn.datasets import fetch_california_housing, load_iris\n",
    "import os\n",
    "\n",
    "# 데이터셋 디렉토리 생성\n",
    "os.makedirs(\"datasets\", exist_ok=True)\n",
    "\n",
    "# California Housing 데이터셋 다운로드\n",
    "california = fetch_california_housing()\n",
    "california_df = pd.DataFrame(california.data, columns=california.feature_names)\n",
    "california_df[\"PRICE\"] = california.target\n",
    "california_df.to_csv(\"datasets/california_housing.csv\", index=False)\n",
    "print(\"California Housing 데이터셋이 저장되었습니다.\")\n",
    "\n",
    "# Iris 데이터셋 다운로드\n",
    "iris = load_iris()\n",
    "iris_df = pd.DataFrame(iris.data, columns=iris.feature_names)\n",
    "iris_df[\"target\"] = iris.target\n",
    "iris_df[\"species\"] = pd.Categorical.from_codes(iris.target, iris.target_names)\n",
    "iris_df.to_csv(\"datasets/iris.csv\", index=False)\n",
    "print(\"Iris 데이터셋이 저장되었습니다.\")"
   ]
  },
  {
   "cell_type": "code",
   "execution_count": 4,
   "metadata": {},
   "outputs": [
    {
     "data": {
      "text/html": [
       "<div>\n",
       "<style scoped>\n",
       "    .dataframe tbody tr th:only-of-type {\n",
       "        vertical-align: middle;\n",
       "    }\n",
       "\n",
       "    .dataframe tbody tr th {\n",
       "        vertical-align: top;\n",
       "    }\n",
       "\n",
       "    .dataframe thead th {\n",
       "        text-align: right;\n",
       "    }\n",
       "</style>\n",
       "<table border=\"1\" class=\"dataframe\">\n",
       "  <thead>\n",
       "    <tr style=\"text-align: right;\">\n",
       "      <th></th>\n",
       "      <th>sepal length (cm)</th>\n",
       "      <th>sepal width (cm)</th>\n",
       "      <th>petal length (cm)</th>\n",
       "      <th>petal width (cm)</th>\n",
       "      <th>target</th>\n",
       "      <th>species</th>\n",
       "    </tr>\n",
       "  </thead>\n",
       "  <tbody>\n",
       "    <tr>\n",
       "      <th>0</th>\n",
       "      <td>5.1</td>\n",
       "      <td>3.5</td>\n",
       "      <td>1.4</td>\n",
       "      <td>0.2</td>\n",
       "      <td>0</td>\n",
       "      <td>setosa</td>\n",
       "    </tr>\n",
       "    <tr>\n",
       "      <th>1</th>\n",
       "      <td>4.9</td>\n",
       "      <td>3.0</td>\n",
       "      <td>1.4</td>\n",
       "      <td>0.2</td>\n",
       "      <td>0</td>\n",
       "      <td>setosa</td>\n",
       "    </tr>\n",
       "    <tr>\n",
       "      <th>2</th>\n",
       "      <td>4.7</td>\n",
       "      <td>3.2</td>\n",
       "      <td>1.3</td>\n",
       "      <td>0.2</td>\n",
       "      <td>0</td>\n",
       "      <td>setosa</td>\n",
       "    </tr>\n",
       "    <tr>\n",
       "      <th>3</th>\n",
       "      <td>4.6</td>\n",
       "      <td>3.1</td>\n",
       "      <td>1.5</td>\n",
       "      <td>0.2</td>\n",
       "      <td>0</td>\n",
       "      <td>setosa</td>\n",
       "    </tr>\n",
       "    <tr>\n",
       "      <th>4</th>\n",
       "      <td>5.0</td>\n",
       "      <td>3.6</td>\n",
       "      <td>1.4</td>\n",
       "      <td>0.2</td>\n",
       "      <td>0</td>\n",
       "      <td>setosa</td>\n",
       "    </tr>\n",
       "  </tbody>\n",
       "</table>\n",
       "</div>"
      ],
      "text/plain": [
       "   sepal length (cm)  sepal width (cm)  petal length (cm)  petal width (cm)  \\\n",
       "0                5.1               3.5                1.4               0.2   \n",
       "1                4.9               3.0                1.4               0.2   \n",
       "2                4.7               3.2                1.3               0.2   \n",
       "3                4.6               3.1                1.5               0.2   \n",
       "4                5.0               3.6                1.4               0.2   \n",
       "\n",
       "   target species  \n",
       "0       0  setosa  \n",
       "1       0  setosa  \n",
       "2       0  setosa  \n",
       "3       0  setosa  \n",
       "4       0  setosa  "
      ]
     },
     "execution_count": 4,
     "metadata": {},
     "output_type": "execute_result"
    }
   ],
   "source": [
    "iris_df.head()"
   ]
  },
  {
   "cell_type": "markdown",
   "metadata": {},
   "source": [
    "# Data Preprocessing"
   ]
  },
  {
   "cell_type": "code",
   "execution_count": 6,
   "metadata": {},
   "outputs": [],
   "source": [
    "import numpy as np\n",
    "import pandas as pd\n",
    "\n",
    "\n",
    "class DataPreprocessing:\n",
    "    def __init__(self):\n",
    "        self.categorical_maps = {}\n",
    "\n",
    "    def scale_features(self, data, columns):\n",
    "        pass\n",
    "\n",
    "    def onehot_encode(self, data, columns):\n",
    "        \"\"\"\n",
    "        Perform one-hot encoding on categorical variables.\n",
    "\n",
    "        Args:\n",
    "        data (pd.DataFrame): Input data\n",
    "        columns (list): List of column names to encode\n",
    "\n",
    "        Returns:\n",
    "        pd.DataFrame: Data with one-hot encoded categories\n",
    "        \"\"\"\n",
    "        # Create a copy of the input DataFrame\n",
    "        encoded = data.copy()\n",
    "\n",
    "        for column in columns:\n",
    "            # Get unique values in the column\n",
    "            unique_values = data[column].unique()\n",
    "\n",
    "            # Create a mapping of unique values to integers\n",
    "            self.categorical_maps[column] = {val: i for i, val in enumerate(unique_values)}\n",
    "\n",
    "            # Create new columns for each unique value\n",
    "            for value in unique_values:\n",
    "                encoded[f\"{column}_{value}\"] = (data[column] == value).astype(int)  # compare each value with the column\n",
    "\n",
    "            # Drop the original column\n",
    "            encoded.drop(column, axis=1, inplace=True)\n",
    "\n",
    "        return encoded\n",
    "\n",
    "    def normalize(self, data, columns):\n",
    "        pass"
   ]
  },
  {
   "cell_type": "code",
   "execution_count": 10,
   "metadata": {},
   "outputs": [
    {
     "name": "stdout",
     "output_type": "stream",
     "text": [
      "Categorical maps:\n",
      "{'species': {'setosa': 0, 'versicolor': 1, 'virginica': 2}}\n"
     ]
    }
   ],
   "source": [
    "preprocessing = DataPreprocessing()\n",
    "preprocessing.onehot_encode(iris_df, columns=[\"species\"])\n",
    "# categorical_maps를 확인합니다\n",
    "print(\"Categorical maps:\")\n",
    "print(preprocessing.categorical_maps)"
   ]
  },
  {
   "cell_type": "code",
   "execution_count": null,
   "metadata": {},
   "outputs": [],
   "source": []
  }
 ],
 "metadata": {
  "kernelspec": {
   "display_name": "tes-ds-py38",
   "language": "python",
   "name": "python3"
  },
  "language_info": {
   "codemirror_mode": {
    "name": "ipython",
    "version": 3
   },
   "file_extension": ".py",
   "mimetype": "text/x-python",
   "name": "python",
   "nbconvert_exporter": "python",
   "pygments_lexer": "ipython3",
   "version": "3.8.19"
  }
 },
 "nbformat": 4,
 "nbformat_minor": 2
}
